{
 "cells": [
  {
   "cell_type": "code",
   "execution_count": 1,
   "id": "initial_id",
   "metadata": {
    "collapsed": true,
    "ExecuteTime": {
     "end_time": "2024-01-15T18:30:49.724973245Z",
     "start_time": "2024-01-15T18:30:43.954891451Z"
    }
   },
   "outputs": [],
   "source": [
    "\n",
    "import torch\n",
    "from torch import nn\n",
    "\n",
    "from torchvision.transforms import ToTensor\n",
    "from torch.utils.data.dataloader import DataLoader\n",
    "from custom_image_folder import CustomImageFolder\n",
    "import chromadb\n",
    "from custom_cnn.networks.model_skipped_18_layer_for_embedding import Skipped18LayerForEmbbeding\n",
    "from custom_cnn import utility_functions"
   ]
  },
  {
   "cell_type": "markdown",
   "source": [
    "# Custom ResNet18 (Skipped18LayerForEmbedding)\n",
    "In this script a trained instance of our Skipped18LayerForEmbedding is used to obtain embbedings for all Cifar10 samples.\n",
    "With the embeddings of the training samples the test samples are classified via KNN.\n",
    "The accuracy of that KNN classifier on the test set is recorded.\n",
    "## Prepare embedding model"
   ],
   "metadata": {
    "collapsed": false
   },
   "id": "7feb8992e745b6fb"
  },
  {
   "cell_type": "code",
   "execution_count": 2,
   "outputs": [
    {
     "name": "stdout",
     "output_type": "stream",
     "text": [
      "Set up Modular Skip\n",
      "in: 16, out: 16, stride: (1, 1)\n",
      "No skip conv needed, use identity\n",
      "Set up Modular Skip\n",
      "in: 16, out: 32, stride: (2, 2)\n",
      "Create skip conv\n",
      "Set up Modular Skip\n",
      "in: 32, out: 32, stride: (1, 1)\n",
      "No skip conv needed, use identity\n",
      "Set up Modular Skip\n",
      "in: 32, out: 64, stride: (2, 2)\n",
      "Create skip conv\n",
      "Set up Modular Skip\n",
      "in: 64, out: 64, stride: (1, 1)\n",
      "No skip conv needed, use identity\n",
      "Set up Modular Skip\n",
      "in: 64, out: 128, stride: (2, 2)\n",
      "Create skip conv\n",
      "Set up Modular Skip\n",
      "in: 128, out: 128, stride: (1, 1)\n",
      "No skip conv needed, use identity\n",
      "Set up Modular Skip\n",
      "in: 128, out: 128, stride: (1, 1)\n",
      "No skip conv needed, use identity\n"
     ]
    },
    {
     "data": {
      "text/plain": "<All keys matched successfully>"
     },
     "execution_count": 2,
     "metadata": {},
     "output_type": "execute_result"
    }
   ],
   "source": [
    "model = Skipped18LayerForEmbbeding()\n",
    "model.network.load_state_dict(\n",
    "    torch.load(\"/home/erik/Desktop/WiSe2023_24/xAI-Proj-M/xAI-Proj-M/custom_cnn/savedmodels/Skipped18LayerForEmbbeding_20240114_2315/model_state_dict\", map_location=torch.device(utility_functions.get_default_device()))\n",
    ")"
   ],
   "metadata": {
    "collapsed": false,
    "ExecuteTime": {
     "end_time": "2024-01-15T18:31:01.931029328Z",
     "start_time": "2024-01-15T18:31:01.682260305Z"
    }
   },
   "id": "bb83dc22d2cb306a"
  },
  {
   "cell_type": "code",
   "execution_count": 3,
   "outputs": [
    {
     "name": "stdout",
     "output_type": "stream",
     "text": [
      "type of model <class 'custom_cnn.networks.model_skipped_18_layer_for_embedding.Skipped18LayerForEmbbeding'>\n",
      "Sequential(\n",
      "  (0): Linear(in_features=128, out_features=10, bias=True)\n",
      "  (1): Softmax(dim=1)\n",
      ")\n"
     ]
    }
   ],
   "source": [
    "print(F\"type of model {type(model)}\")\n",
    "print(f\"{model.fc}\")"
   ],
   "metadata": {
    "collapsed": false,
    "ExecuteTime": {
     "end_time": "2024-01-15T18:31:06.094172009Z",
     "start_time": "2024-01-15T18:31:06.081882436Z"
    }
   },
   "id": "fb59883a233d4f81"
  },
  {
   "cell_type": "code",
   "execution_count": 4,
   "outputs": [],
   "source": [
    "# Replace last FC layer by identity mapping so that the model outputs vectors of dim 512\n",
    "class Identity(nn.Module):\n",
    "    def __init__(self):\n",
    "        super(Identity, self).__init__()\n",
    "\n",
    "    def forward(self, x):\n",
    "        return x\n",
    "\n",
    "model.fc = Identity()"
   ],
   "metadata": {
    "collapsed": false,
    "ExecuteTime": {
     "end_time": "2024-01-15T18:58:38.042842933Z",
     "start_time": "2024-01-15T18:58:37.916530111Z"
    }
   },
   "id": "548e3f02b8b4e421"
  },
  {
   "cell_type": "markdown",
   "source": [
    "## Prepare vector store"
   ],
   "metadata": {
    "collapsed": false
   },
   "id": "d78fd08783732b6c"
  },
  {
   "cell_type": "code",
   "execution_count": 7,
   "outputs": [
    {
     "ename": "UniqueConstraintError",
     "evalue": "Collection custom_resnet18_embeddings_2div_38ce already exists",
     "output_type": "error",
     "traceback": [
      "\u001B[0;31m---------------------------------------------------------------------------\u001B[0m",
      "\u001B[0;31mUniqueConstraintError\u001B[0m                     Traceback (most recent call last)",
      "Cell \u001B[0;32mIn[7], line 3\u001B[0m\n\u001B[1;32m      1\u001B[0m chroma_client \u001B[38;5;241m=\u001B[39m chromadb\u001B[38;5;241m.\u001B[39mPersistentClient(path\u001B[38;5;241m=\u001B[39m\u001B[38;5;124m\"\u001B[39m\u001B[38;5;124m/home/erik/Desktop/WiSe2023_24/xAI-Proj-M/xAI-Proj-M/embeddings/embedding_data/embedding_store\u001B[39m\u001B[38;5;124m\"\u001B[39m)\n\u001B[0;32m----> 3\u001B[0m collection \u001B[38;5;241m=\u001B[39m \u001B[43mchroma_client\u001B[49m\u001B[38;5;241;43m.\u001B[39;49m\u001B[43mcreate_collection\u001B[49m\u001B[43m(\u001B[49m\u001B[43mname\u001B[49m\u001B[38;5;241;43m=\u001B[39;49m\u001B[38;5;124;43m\"\u001B[39;49m\u001B[38;5;124;43mcustom_resnet18_embeddings_2div_38ce\u001B[39;49m\u001B[38;5;124;43m\"\u001B[39;49m\u001B[43m)\u001B[49m\n",
      "File \u001B[0;32m~/anaconda3/envs/xAI-Proj-M/lib/python3.8/site-packages/chromadb/api/client.py:187\u001B[0m, in \u001B[0;36mClient.create_collection\u001B[0;34m(self, name, metadata, embedding_function, data_loader, get_or_create)\u001B[0m\n\u001B[1;32m    176\u001B[0m \u001B[38;5;129m@override\u001B[39m\n\u001B[1;32m    177\u001B[0m \u001B[38;5;28;01mdef\u001B[39;00m \u001B[38;5;21mcreate_collection\u001B[39m(\n\u001B[1;32m    178\u001B[0m     \u001B[38;5;28mself\u001B[39m,\n\u001B[0;32m   (...)\u001B[0m\n\u001B[1;32m    185\u001B[0m     get_or_create: \u001B[38;5;28mbool\u001B[39m \u001B[38;5;241m=\u001B[39m \u001B[38;5;28;01mFalse\u001B[39;00m,\n\u001B[1;32m    186\u001B[0m ) \u001B[38;5;241m-\u001B[39m\u001B[38;5;241m>\u001B[39m Collection:\n\u001B[0;32m--> 187\u001B[0m     \u001B[38;5;28;01mreturn\u001B[39;00m \u001B[38;5;28;43mself\u001B[39;49m\u001B[38;5;241;43m.\u001B[39;49m\u001B[43m_server\u001B[49m\u001B[38;5;241;43m.\u001B[39;49m\u001B[43mcreate_collection\u001B[49m\u001B[43m(\u001B[49m\n\u001B[1;32m    188\u001B[0m \u001B[43m        \u001B[49m\u001B[43mname\u001B[49m\u001B[38;5;241;43m=\u001B[39;49m\u001B[43mname\u001B[49m\u001B[43m,\u001B[49m\n\u001B[1;32m    189\u001B[0m \u001B[43m        \u001B[49m\u001B[43mmetadata\u001B[49m\u001B[38;5;241;43m=\u001B[39;49m\u001B[43mmetadata\u001B[49m\u001B[43m,\u001B[49m\n\u001B[1;32m    190\u001B[0m \u001B[43m        \u001B[49m\u001B[43membedding_function\u001B[49m\u001B[38;5;241;43m=\u001B[39;49m\u001B[43membedding_function\u001B[49m\u001B[43m,\u001B[49m\n\u001B[1;32m    191\u001B[0m \u001B[43m        \u001B[49m\u001B[43mdata_loader\u001B[49m\u001B[38;5;241;43m=\u001B[39;49m\u001B[43mdata_loader\u001B[49m\u001B[43m,\u001B[49m\n\u001B[1;32m    192\u001B[0m \u001B[43m        \u001B[49m\u001B[43mtenant\u001B[49m\u001B[38;5;241;43m=\u001B[39;49m\u001B[38;5;28;43mself\u001B[39;49m\u001B[38;5;241;43m.\u001B[39;49m\u001B[43mtenant\u001B[49m\u001B[43m,\u001B[49m\n\u001B[1;32m    193\u001B[0m \u001B[43m        \u001B[49m\u001B[43mdatabase\u001B[49m\u001B[38;5;241;43m=\u001B[39;49m\u001B[38;5;28;43mself\u001B[39;49m\u001B[38;5;241;43m.\u001B[39;49m\u001B[43mdatabase\u001B[49m\u001B[43m,\u001B[49m\n\u001B[1;32m    194\u001B[0m \u001B[43m        \u001B[49m\u001B[43mget_or_create\u001B[49m\u001B[38;5;241;43m=\u001B[39;49m\u001B[43mget_or_create\u001B[49m\u001B[43m,\u001B[49m\n\u001B[1;32m    195\u001B[0m \u001B[43m    \u001B[49m\u001B[43m)\u001B[49m\n",
      "File \u001B[0;32m~/anaconda3/envs/xAI-Proj-M/lib/python3.8/site-packages/chromadb/telemetry/opentelemetry/__init__.py:127\u001B[0m, in \u001B[0;36mtrace_method.<locals>.decorator.<locals>.wrapper\u001B[0;34m(*args, **kwargs)\u001B[0m\n\u001B[1;32m    125\u001B[0m \u001B[38;5;28;01mglobal\u001B[39;00m tracer, granularity\n\u001B[1;32m    126\u001B[0m \u001B[38;5;28;01mif\u001B[39;00m trace_granularity \u001B[38;5;241m<\u001B[39m granularity:\n\u001B[0;32m--> 127\u001B[0m     \u001B[38;5;28;01mreturn\u001B[39;00m \u001B[43mf\u001B[49m\u001B[43m(\u001B[49m\u001B[38;5;241;43m*\u001B[39;49m\u001B[43margs\u001B[49m\u001B[43m,\u001B[49m\u001B[43m \u001B[49m\u001B[38;5;241;43m*\u001B[39;49m\u001B[38;5;241;43m*\u001B[39;49m\u001B[43mkwargs\u001B[49m\u001B[43m)\u001B[49m\n\u001B[1;32m    128\u001B[0m \u001B[38;5;28;01mif\u001B[39;00m \u001B[38;5;129;01mnot\u001B[39;00m tracer:\n\u001B[1;32m    129\u001B[0m     \u001B[38;5;28;01mreturn\u001B[39;00m f(\u001B[38;5;241m*\u001B[39margs, \u001B[38;5;241m*\u001B[39m\u001B[38;5;241m*\u001B[39mkwargs)\n",
      "File \u001B[0;32m~/anaconda3/envs/xAI-Proj-M/lib/python3.8/site-packages/chromadb/api/segment.py:166\u001B[0m, in \u001B[0;36mSegmentAPI.create_collection\u001B[0;34m(self, name, metadata, embedding_function, data_loader, get_or_create, tenant, database)\u001B[0m\n\u001B[1;32m    162\u001B[0m check_index_name(name)\n\u001B[1;32m    164\u001B[0m \u001B[38;5;28mid\u001B[39m \u001B[38;5;241m=\u001B[39m uuid4()\n\u001B[0;32m--> 166\u001B[0m coll, created \u001B[38;5;241m=\u001B[39m \u001B[38;5;28;43mself\u001B[39;49m\u001B[38;5;241;43m.\u001B[39;49m\u001B[43m_sysdb\u001B[49m\u001B[38;5;241;43m.\u001B[39;49m\u001B[43mcreate_collection\u001B[49m\u001B[43m(\u001B[49m\n\u001B[1;32m    167\u001B[0m \u001B[43m    \u001B[49m\u001B[38;5;28;43mid\u001B[39;49m\u001B[38;5;241;43m=\u001B[39;49m\u001B[38;5;28;43mid\u001B[39;49m\u001B[43m,\u001B[49m\n\u001B[1;32m    168\u001B[0m \u001B[43m    \u001B[49m\u001B[43mname\u001B[49m\u001B[38;5;241;43m=\u001B[39;49m\u001B[43mname\u001B[49m\u001B[43m,\u001B[49m\n\u001B[1;32m    169\u001B[0m \u001B[43m    \u001B[49m\u001B[43mmetadata\u001B[49m\u001B[38;5;241;43m=\u001B[39;49m\u001B[43mmetadata\u001B[49m\u001B[43m,\u001B[49m\n\u001B[1;32m    170\u001B[0m \u001B[43m    \u001B[49m\u001B[43mdimension\u001B[49m\u001B[38;5;241;43m=\u001B[39;49m\u001B[38;5;28;43;01mNone\u001B[39;49;00m\u001B[43m,\u001B[49m\n\u001B[1;32m    171\u001B[0m \u001B[43m    \u001B[49m\u001B[43mget_or_create\u001B[49m\u001B[38;5;241;43m=\u001B[39;49m\u001B[43mget_or_create\u001B[49m\u001B[43m,\u001B[49m\n\u001B[1;32m    172\u001B[0m \u001B[43m    \u001B[49m\u001B[43mtenant\u001B[49m\u001B[38;5;241;43m=\u001B[39;49m\u001B[43mtenant\u001B[49m\u001B[43m,\u001B[49m\n\u001B[1;32m    173\u001B[0m \u001B[43m    \u001B[49m\u001B[43mdatabase\u001B[49m\u001B[38;5;241;43m=\u001B[39;49m\u001B[43mdatabase\u001B[49m\u001B[43m,\u001B[49m\n\u001B[1;32m    174\u001B[0m \u001B[43m\u001B[49m\u001B[43m)\u001B[49m\n\u001B[1;32m    176\u001B[0m \u001B[38;5;28;01mif\u001B[39;00m created:\n\u001B[1;32m    177\u001B[0m     segments \u001B[38;5;241m=\u001B[39m \u001B[38;5;28mself\u001B[39m\u001B[38;5;241m.\u001B[39m_manager\u001B[38;5;241m.\u001B[39mcreate_segments(coll)\n",
      "File \u001B[0;32m~/anaconda3/envs/xAI-Proj-M/lib/python3.8/site-packages/chromadb/telemetry/opentelemetry/__init__.py:127\u001B[0m, in \u001B[0;36mtrace_method.<locals>.decorator.<locals>.wrapper\u001B[0;34m(*args, **kwargs)\u001B[0m\n\u001B[1;32m    125\u001B[0m \u001B[38;5;28;01mglobal\u001B[39;00m tracer, granularity\n\u001B[1;32m    126\u001B[0m \u001B[38;5;28;01mif\u001B[39;00m trace_granularity \u001B[38;5;241m<\u001B[39m granularity:\n\u001B[0;32m--> 127\u001B[0m     \u001B[38;5;28;01mreturn\u001B[39;00m \u001B[43mf\u001B[49m\u001B[43m(\u001B[49m\u001B[38;5;241;43m*\u001B[39;49m\u001B[43margs\u001B[49m\u001B[43m,\u001B[49m\u001B[43m \u001B[49m\u001B[38;5;241;43m*\u001B[39;49m\u001B[38;5;241;43m*\u001B[39;49m\u001B[43mkwargs\u001B[49m\u001B[43m)\u001B[49m\n\u001B[1;32m    128\u001B[0m \u001B[38;5;28;01mif\u001B[39;00m \u001B[38;5;129;01mnot\u001B[39;00m tracer:\n\u001B[1;32m    129\u001B[0m     \u001B[38;5;28;01mreturn\u001B[39;00m f(\u001B[38;5;241m*\u001B[39margs, \u001B[38;5;241m*\u001B[39m\u001B[38;5;241m*\u001B[39mkwargs)\n",
      "File \u001B[0;32m~/anaconda3/envs/xAI-Proj-M/lib/python3.8/site-packages/chromadb/db/mixins/sysdb.py:225\u001B[0m, in \u001B[0;36mSqlSysDB.create_collection\u001B[0;34m(self, id, name, metadata, dimension, get_or_create, tenant, database)\u001B[0m\n\u001B[1;32m    218\u001B[0m         \u001B[38;5;28;01mreturn\u001B[39;00m (\n\u001B[1;32m    219\u001B[0m             \u001B[38;5;28mself\u001B[39m\u001B[38;5;241m.\u001B[39mget_collections(\n\u001B[1;32m    220\u001B[0m                 \u001B[38;5;28mid\u001B[39m\u001B[38;5;241m=\u001B[39mcollection[\u001B[38;5;124m\"\u001B[39m\u001B[38;5;124mid\u001B[39m\u001B[38;5;124m\"\u001B[39m], tenant\u001B[38;5;241m=\u001B[39mtenant, database\u001B[38;5;241m=\u001B[39mdatabase\n\u001B[1;32m    221\u001B[0m             )[\u001B[38;5;241m0\u001B[39m],\n\u001B[1;32m    222\u001B[0m             \u001B[38;5;28;01mFalse\u001B[39;00m,\n\u001B[1;32m    223\u001B[0m         )\n\u001B[1;32m    224\u001B[0m     \u001B[38;5;28;01melse\u001B[39;00m:\n\u001B[0;32m--> 225\u001B[0m         \u001B[38;5;28;01mraise\u001B[39;00m UniqueConstraintError(\u001B[38;5;124mf\u001B[39m\u001B[38;5;124m\"\u001B[39m\u001B[38;5;124mCollection \u001B[39m\u001B[38;5;132;01m{\u001B[39;00mname\u001B[38;5;132;01m}\u001B[39;00m\u001B[38;5;124m already exists\u001B[39m\u001B[38;5;124m\"\u001B[39m)\n\u001B[1;32m    227\u001B[0m topic \u001B[38;5;241m=\u001B[39m \u001B[38;5;28mself\u001B[39m\u001B[38;5;241m.\u001B[39m_assignment_policy\u001B[38;5;241m.\u001B[39massign_collection(\u001B[38;5;28mid\u001B[39m)\n\u001B[1;32m    228\u001B[0m collection \u001B[38;5;241m=\u001B[39m Collection(\n\u001B[1;32m    229\u001B[0m     \u001B[38;5;28mid\u001B[39m\u001B[38;5;241m=\u001B[39m\u001B[38;5;28mid\u001B[39m,\n\u001B[1;32m    230\u001B[0m     topic\u001B[38;5;241m=\u001B[39mtopic,\n\u001B[0;32m   (...)\u001B[0m\n\u001B[1;32m    235\u001B[0m     database\u001B[38;5;241m=\u001B[39mdatabase,\n\u001B[1;32m    236\u001B[0m )\n",
      "\u001B[0;31mUniqueConstraintError\u001B[0m: Collection custom_resnet18_embeddings_2div_38ce already exists"
     ]
    }
   ],
   "source": [
    "chroma_client = chromadb.PersistentClient(path=\"/home/erik/Desktop/WiSe2023_24/xAI-Proj-M/xAI-Proj-M/embeddings/embedding_data/embedding_store\")\n",
    "\n",
    "collection = chroma_client.create_collection(name=\"custom_resnet18_embeddings_2div_38ce\")\n",
    "#collection = chroma_client.get_collection(name=\"my_collection\")\n",
    "#print(f\"Samples in db: {len(collection.get()['embeddings'])}\")"
   ],
   "metadata": {
    "collapsed": false,
    "ExecuteTime": {
     "end_time": "2024-01-15T18:59:27.457102552Z",
     "start_time": "2024-01-15T18:59:27.286137841Z"
    }
   },
   "id": "50f189166a65c8b2"
  },
  {
   "cell_type": "code",
   "execution_count": 8,
   "outputs": [],
   "source": [
    "def get_embeddings_and_store(embedding_model, data_loader, chroma_collection, dataset_type):\n",
    "    count = 0\n",
    "    for batch in data_loader:\n",
    "        print(count)\n",
    "        batch_paths_and_images, batch_labels = batch\n",
    "        batch_labels = batch_labels.tolist()\n",
    "        batch_paths = list(batch_paths_and_images[0])\n",
    "        batch_images = batch_paths_and_images[1]\n",
    "        \n",
    "        out = embedding_model(batch_images)\n",
    "        \n",
    "        chroma_collection.add(\n",
    "            embeddings = out.tolist(),\n",
    "            metadatas = [{'path':x[0], 'label':x[1], 'dataset_type':dataset_type} for x in zip(batch_paths, batch_labels)],\n",
    "            ids= [dataset_type + str(x) for x in list(range( count * 256, count * 256 + len(batch_labels)))]\n",
    "        )\n",
    "\n",
    "        count += 1\n"
   ],
   "metadata": {
    "collapsed": false,
    "ExecuteTime": {
     "end_time": "2024-01-15T18:59:29.827951165Z",
     "start_time": "2024-01-15T18:59:29.815108462Z"
    }
   },
   "id": "38befb011d0c9150"
  },
  {
   "cell_type": "markdown",
   "source": [
    "## Get embeddings of train dataqset"
   ],
   "metadata": {
    "collapsed": false
   },
   "id": "e6f0aeeb414cdc52"
  },
  {
   "cell_type": "code",
   "execution_count": 9,
   "outputs": [
    {
     "name": "stdout",
     "output_type": "stream",
     "text": [
      "0\n",
      "1\n",
      "2\n",
      "3\n",
      "4\n",
      "5\n",
      "6\n",
      "7\n",
      "8\n",
      "9\n",
      "10\n",
      "11\n",
      "12\n",
      "13\n",
      "14\n",
      "15\n",
      "16\n",
      "17\n",
      "18\n",
      "19\n",
      "20\n",
      "21\n",
      "22\n",
      "23\n",
      "24\n",
      "25\n",
      "26\n",
      "27\n",
      "28\n",
      "29\n",
      "30\n",
      "31\n",
      "32\n",
      "33\n",
      "34\n",
      "35\n",
      "36\n",
      "37\n",
      "38\n",
      "39\n",
      "40\n",
      "41\n",
      "42\n",
      "43\n",
      "44\n",
      "45\n",
      "46\n",
      "47\n",
      "48\n",
      "49\n",
      "50\n",
      "51\n",
      "52\n",
      "53\n",
      "54\n",
      "55\n",
      "56\n",
      "57\n",
      "58\n",
      "59\n",
      "60\n",
      "61\n",
      "62\n",
      "63\n",
      "64\n",
      "65\n",
      "66\n",
      "67\n",
      "68\n",
      "69\n",
      "70\n",
      "71\n",
      "72\n",
      "73\n",
      "74\n",
      "75\n",
      "76\n",
      "77\n",
      "78\n",
      "79\n",
      "80\n",
      "81\n",
      "82\n",
      "83\n",
      "84\n",
      "85\n",
      "86\n",
      "87\n",
      "88\n",
      "89\n",
      "90\n",
      "91\n",
      "92\n",
      "93\n",
      "94\n",
      "95\n",
      "96\n",
      "97\n",
      "98\n",
      "99\n",
      "100\n",
      "101\n",
      "102\n",
      "103\n",
      "104\n",
      "105\n",
      "106\n",
      "107\n",
      "108\n",
      "109\n",
      "110\n",
      "111\n",
      "112\n",
      "113\n",
      "114\n",
      "115\n",
      "116\n",
      "117\n",
      "118\n",
      "119\n",
      "120\n",
      "121\n",
      "122\n",
      "123\n",
      "124\n",
      "125\n",
      "126\n",
      "127\n",
      "128\n",
      "129\n",
      "130\n",
      "131\n",
      "132\n",
      "133\n",
      "134\n",
      "135\n",
      "136\n",
      "137\n",
      "138\n",
      "139\n",
      "140\n",
      "141\n",
      "142\n",
      "143\n",
      "144\n",
      "145\n",
      "146\n",
      "147\n",
      "148\n",
      "149\n",
      "150\n",
      "151\n",
      "152\n",
      "153\n",
      "154\n",
      "155\n",
      "156\n",
      "157\n",
      "158\n",
      "159\n",
      "160\n",
      "161\n",
      "162\n",
      "163\n",
      "164\n",
      "165\n",
      "166\n",
      "167\n",
      "168\n",
      "169\n",
      "170\n",
      "171\n",
      "172\n",
      "173\n",
      "174\n",
      "175\n",
      "176\n",
      "177\n",
      "178\n",
      "179\n",
      "180\n",
      "181\n",
      "182\n",
      "183\n",
      "184\n",
      "185\n",
      "186\n",
      "187\n",
      "188\n",
      "189\n",
      "190\n",
      "191\n",
      "192\n",
      "193\n",
      "194\n",
      "195\n"
     ]
    }
   ],
   "source": [
    "# Use custom Dataset that returns image path in get item\n",
    "train_dataset = CustomImageFolder(\n",
    "    root=\"/home/erik/Desktop/WiSe2023_24/xAI-Proj-M/xAI-Proj-M/custom_cnn/data/cifar10/train\",\n",
    "    transform=ToTensor()\n",
    ")\n",
    "# Create DataLoader\n",
    "train_data_loader = DataLoader(\n",
    "    dataset=train_dataset,\n",
    "    batch_size=256,\n",
    "    shuffle=False,\n",
    "    num_workers=4,\n",
    "    pin_memory=False  # should be True if cuda is available\n",
    ")\n",
    "# feed through embedding model\n",
    "model.eval()\n",
    "get_embeddings_and_store(model, train_data_loader, collection, dataset_type=\"train\")"
   ],
   "metadata": {
    "collapsed": false,
    "ExecuteTime": {
     "end_time": "2024-01-15T19:02:12.776457672Z",
     "start_time": "2024-01-15T18:59:31.279072520Z"
    }
   },
   "id": "2552699e274e13f0"
  },
  {
   "cell_type": "code",
   "execution_count": 10,
   "outputs": [
    {
     "name": "stdout",
     "output_type": "stream",
     "text": [
      "Samples in db: 50000\n",
      "train0\n",
      "train49999\n"
     ]
    }
   ],
   "source": [
    "print(f\"Samples in db: {len(collection.get()['ids'])}\")\n",
    "print(collection.get()['ids'][0])\n",
    "print(collection.get()['ids'][-1])"
   ],
   "metadata": {
    "collapsed": false,
    "ExecuteTime": {
     "end_time": "2024-01-15T19:02:25.724287249Z",
     "start_time": "2024-01-15T19:02:20.702362399Z"
    }
   },
   "id": "85af487f95e355f3"
  },
  {
   "cell_type": "markdown",
   "source": [
    "## Get embeddings of test dataset"
   ],
   "metadata": {
    "collapsed": false
   },
   "id": "78a084b1f38b6458"
  },
  {
   "cell_type": "code",
   "execution_count": 11,
   "outputs": [
    {
     "name": "stdout",
     "output_type": "stream",
     "text": [
      "0\n",
      "1\n",
      "2\n",
      "3\n",
      "4\n",
      "5\n",
      "6\n",
      "7\n",
      "8\n",
      "9\n",
      "10\n",
      "11\n",
      "12\n",
      "13\n",
      "14\n",
      "15\n",
      "16\n",
      "17\n",
      "18\n",
      "19\n",
      "20\n",
      "21\n",
      "22\n",
      "23\n",
      "24\n",
      "25\n",
      "26\n",
      "27\n",
      "28\n",
      "29\n",
      "30\n",
      "31\n",
      "32\n",
      "33\n",
      "34\n",
      "35\n",
      "36\n",
      "37\n",
      "38\n",
      "39\n"
     ]
    }
   ],
   "source": [
    "# Use custom Dataset that returns image path in get item\n",
    "test_dataset = CustomImageFolder(\n",
    "    root=\"/home/erik/Desktop/WiSe2023_24/xAI-Proj-M/xAI-Proj-M/custom_cnn/data/cifar10/test\",\n",
    "    transform=ToTensor()\n",
    ")\n",
    "# Create DataLoader\n",
    "test_data_loader = DataLoader(\n",
    "    dataset=test_dataset,\n",
    "    batch_size=256,\n",
    "    shuffle=False,\n",
    "    num_workers=4,\n",
    "    pin_memory=False  # should be True if cuda is available\n",
    ")\n",
    "# feed through embedding model\n",
    "get_embeddings_and_store(model, test_data_loader, chroma_collection=collection, dataset_type=\"test\")"
   ],
   "metadata": {
    "collapsed": false,
    "ExecuteTime": {
     "end_time": "2024-01-15T19:03:17.984588673Z",
     "start_time": "2024-01-15T19:02:25.746485112Z"
    }
   },
   "id": "b43c86fb84be29e1"
  },
  {
   "cell_type": "code",
   "execution_count": 12,
   "outputs": [
    {
     "name": "stdout",
     "output_type": "stream",
     "text": [
      "Samples in db: 60000\n",
      "test0\n",
      "test9999\n"
     ]
    }
   ],
   "source": [
    "print(f\"Samples in db: {len(collection.get()['ids'])}\")\n",
    "print(collection.get()['ids'][50000])\n",
    "print(collection.get()['ids'][-1])"
   ],
   "metadata": {
    "collapsed": false,
    "ExecuteTime": {
     "end_time": "2024-01-15T19:03:22.494742320Z",
     "start_time": "2024-01-15T19:03:17.989881077Z"
    }
   },
   "id": "55f8c801e6676e36"
  },
  {
   "cell_type": "code",
   "execution_count": 13,
   "outputs": [
    {
     "data": {
      "text/plain": "[13.240062713623047,\n 11.977143287658691,\n 12.995529174804688,\n 13.166513442993164,\n 10.426230430603027,\n 11.87973403930664,\n 13.181221008300781,\n 10.080196380615234,\n 13.002662658691406,\n 15.055418014526367,\n 4.618042945861816,\n 4.911233901977539,\n 4.804396629333496,\n 5.186165809631348,\n 5.3276472091674805,\n 4.978082656860352,\n 4.829348564147949,\n 4.917346477508545,\n 4.645643711090088,\n 4.926084995269775,\n 5.579319953918457,\n 4.879996299743652,\n 4.494848251342773,\n 4.752858638763428,\n 4.558714389801025,\n 4.934080600738525,\n 4.900467395782471,\n 5.547007083892822,\n 4.390097618103027,\n 4.92465353012085,\n 5.082063674926758,\n 5.029162883758545,\n 4.863217830657959,\n 4.898233890533447,\n 5.611480236053467,\n 5.420427322387695,\n 5.032962799072266,\n 5.295525550842285,\n 5.658536434173584,\n 4.490195274353027,\n 4.854650974273682,\n 5.0996551513671875,\n 4.923774242401123,\n 5.083693504333496,\n 4.978439807891846,\n 5.274734020233154,\n 4.535444736480713,\n 5.094045639038086,\n 5.032757759094238,\n 4.888557434082031,\n 4.6113433837890625,\n 4.403862476348877,\n 5.055684566497803,\n 5.2442145347595215,\n 6.70215368270874,\n 3.7158925533294678,\n 5.109335899353027,\n 4.725897312164307,\n 5.412860870361328,\n 4.564789295196533,\n 4.703172206878662,\n 4.860686302185059,\n 5.317386150360107,\n 5.074163436889648,\n 4.532820224761963,\n 5.138051509857178,\n 4.6576433181762695,\n 4.578585624694824,\n 4.915523529052734,\n 6.209941387176514,\n 4.8659539222717285,\n 5.852320671081543,\n 4.777501583099365,\n 5.360658168792725,\n 5.21284294128418,\n 4.389769554138184,\n 4.7988786697387695,\n 4.864460468292236,\n 4.9606781005859375,\n 4.6299614906311035,\n 5.005765438079834,\n 4.897935390472412,\n 5.0258002281188965,\n 4.5537238121032715,\n 5.009527683258057,\n 5.592657089233398,\n 4.918973922729492,\n 5.396154403686523,\n 5.189939022064209,\n 4.726675987243652,\n 4.998088836669922,\n 3.9786670207977295,\n 4.466770172119141,\n 5.132580280303955,\n 5.491491317749023,\n 5.081692695617676,\n 4.957268238067627,\n 4.949944496154785,\n 5.70930290222168,\n 4.363171100616455,\n 4.937167167663574,\n 5.690450668334961,\n 5.212309837341309,\n 4.860960960388184,\n 4.643829822540283,\n 4.657748222351074,\n 4.902278900146484,\n 5.1486382484436035,\n 4.196475505828857,\n 5.079105854034424,\n 5.330595016479492,\n 4.605578899383545,\n 5.761837959289551,\n 4.768350124359131,\n 5.214725494384766,\n 4.70259428024292,\n 6.826844692230225,\n 4.856109619140625,\n 5.132129669189453,\n 4.750099182128906,\n 5.234230995178223,\n 4.630666255950928,\n 4.59550142288208,\n 4.93292760848999,\n 5.252760410308838,\n 4.960846900939941,\n 5.245641231536865,\n 5.09869909286499]"
     },
     "execution_count": 13,
     "metadata": {},
     "output_type": "execute_result"
    }
   ],
   "source": [
    "collection.get(include=['embeddings', 'documents', 'metadatas'])['embeddings'][0]"
   ],
   "metadata": {
    "collapsed": false,
    "ExecuteTime": {
     "end_time": "2024-01-15T19:03:24.970383615Z",
     "start_time": "2024-01-15T19:03:22.479170955Z"
    }
   },
   "id": "92c2c5f4f0d472cb"
  },
  {
   "cell_type": "code",
   "execution_count": null,
   "outputs": [],
   "source": [],
   "metadata": {
    "collapsed": false
   },
   "id": "bda214d6f409c209"
  }
 ],
 "metadata": {
  "kernelspec": {
   "display_name": "Python 3",
   "language": "python",
   "name": "python3"
  },
  "language_info": {
   "codemirror_mode": {
    "name": "ipython",
    "version": 2
   },
   "file_extension": ".py",
   "mimetype": "text/x-python",
   "name": "python",
   "nbconvert_exporter": "python",
   "pygments_lexer": "ipython2",
   "version": "2.7.6"
  }
 },
 "nbformat": 4,
 "nbformat_minor": 5
}
