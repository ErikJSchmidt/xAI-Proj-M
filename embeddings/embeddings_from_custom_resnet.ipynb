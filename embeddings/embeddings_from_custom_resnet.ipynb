{
 "cells": [
  {
   "cell_type": "code",
   "execution_count": 1,
   "id": "initial_id",
   "metadata": {
    "collapsed": true,
    "ExecuteTime": {
     "end_time": "2024-01-11T16:09:17.891862878Z",
     "start_time": "2024-01-11T16:09:14.482225670Z"
    }
   },
   "outputs": [],
   "source": [
    "import json\n",
    "\n",
    "import torch\n",
    "from torch import nn\n",
    "from torchvision.datasets import ImageFolder\n",
    "from torchvision.transforms import ToTensor\n",
    "from torch.utils.data.dataloader import DataLoader\n",
    "from torchvision import transforms\n",
    "from torchvision.models import ResNet\n",
    "from custom_image_folder import CustomImageFolder\n",
    "import chromadb\n",
    "from custom_cnn.networks.model_skipped_18_layer_for_embedding import Skipped18LayerForEmbbeding\n",
    "from custom_cnn import utility_functions"
   ]
  },
  {
   "cell_type": "markdown",
   "source": [
    "# Custom ResNet18 (Skipped18LayerForEmbedding)\n",
    "In this script a trained instance of our Skipped18LayerForEmbedding is used to obtain embbedings for all Cifar10 samples.\n",
    "With the embeddings of the training samples the test samples are classified via KNN.\n",
    "The accuracy of that KNN classifier on the test set is recorded.\n",
    "## Prepare embedding model"
   ],
   "metadata": {
    "collapsed": false
   },
   "id": "7feb8992e745b6fb"
  },
  {
   "cell_type": "code",
   "execution_count": 2,
   "outputs": [
    {
     "name": "stdout",
     "output_type": "stream",
     "text": [
      "Set up Modular Skip\n",
      "in: 16, out: 16, stride: (1, 1)\n",
      "No skip conv needed, use identity\n",
      "Set up Modular Skip\n",
      "in: 16, out: 32, stride: (2, 2)\n",
      "Create skip conv\n",
      "Set up Modular Skip\n",
      "in: 32, out: 32, stride: (1, 1)\n",
      "No skip conv needed, use identity\n",
      "Set up Modular Skip\n",
      "in: 32, out: 64, stride: (2, 2)\n",
      "Create skip conv\n",
      "Set up Modular Skip\n",
      "in: 64, out: 64, stride: (1, 1)\n",
      "No skip conv needed, use identity\n",
      "Set up Modular Skip\n",
      "in: 64, out: 128, stride: (2, 2)\n",
      "Create skip conv\n",
      "Set up Modular Skip\n",
      "in: 128, out: 128, stride: (1, 1)\n",
      "No skip conv needed, use identity\n",
      "Set up Modular Skip\n",
      "in: 128, out: 128, stride: (1, 1)\n",
      "No skip conv needed, use identity\n"
     ]
    },
    {
     "data": {
      "text/plain": "<All keys matched successfully>"
     },
     "execution_count": 2,
     "metadata": {},
     "output_type": "execute_result"
    }
   ],
   "source": [
    "model = Skipped18LayerForEmbbeding()\n",
    "model.network.load_state_dict(\n",
    "    torch.load(\"/home/erik/Desktop/WiSe2023_24/xAI-Proj-M/xAI-Proj-M/custom_cnn/savedmodels/Skipped18LayerForEmbbeding_20240109_1650/model_state_dict\", map_location=torch.device(utility_functions.get_default_device()))\n",
    ")"
   ],
   "metadata": {
    "collapsed": false,
    "ExecuteTime": {
     "end_time": "2024-01-11T16:09:22.892981771Z",
     "start_time": "2024-01-11T16:09:22.573137155Z"
    }
   },
   "id": "bb83dc22d2cb306a"
  },
  {
   "cell_type": "code",
   "execution_count": 3,
   "outputs": [
    {
     "name": "stdout",
     "output_type": "stream",
     "text": [
      "type of model <class 'custom_cnn.networks.model_skipped_18_layer_for_embedding.Skipped18LayerForEmbbeding'>\n",
      "Sequential(\n",
      "  (0): Linear(in_features=128, out_features=10, bias=True)\n",
      "  (1): Softmax(dim=1)\n",
      ")\n"
     ]
    }
   ],
   "source": [
    "print(F\"type of model {type(model)}\")\n",
    "print(f\"{model.fc}\")"
   ],
   "metadata": {
    "collapsed": false,
    "ExecuteTime": {
     "end_time": "2024-01-11T16:09:28.832682746Z",
     "start_time": "2024-01-11T16:09:28.724406674Z"
    }
   },
   "id": "fb59883a233d4f81"
  },
  {
   "cell_type": "code",
   "execution_count": 4,
   "outputs": [],
   "source": [
    "# Replace last FC layer by identity mapping so that the model outputs vectors of dim 512\n",
    "class Identity(nn.Module):\n",
    "    def __init__(self):\n",
    "        super(Identity, self).__init__()\n",
    "\n",
    "    def forward(self, x):\n",
    "        return x\n",
    "\n",
    "model.fc = Identity()"
   ],
   "metadata": {
    "collapsed": false,
    "ExecuteTime": {
     "end_time": "2024-01-11T16:09:30.438193212Z",
     "start_time": "2024-01-11T16:09:30.430382167Z"
    }
   },
   "id": "548e3f02b8b4e421"
  },
  {
   "cell_type": "markdown",
   "source": [
    "## Prepare vector store"
   ],
   "metadata": {
    "collapsed": false
   },
   "id": "d78fd08783732b6c"
  },
  {
   "cell_type": "code",
   "execution_count": 6,
   "outputs": [
    {
     "ename": "TypeError",
     "evalue": "object of type 'NoneType' has no len()",
     "output_type": "error",
     "traceback": [
      "\u001B[0;31m---------------------------------------------------------------------------\u001B[0m",
      "\u001B[0;31mTypeError\u001B[0m                                 Traceback (most recent call last)",
      "Cell \u001B[0;32mIn[6], line 5\u001B[0m\n\u001B[1;32m      3\u001B[0m collection \u001B[38;5;241m=\u001B[39m chroma_client\u001B[38;5;241m.\u001B[39mcreate_collection(name\u001B[38;5;241m=\u001B[39m\u001B[38;5;124m\"\u001B[39m\u001B[38;5;124mcustom_resnet18_embeddings\u001B[39m\u001B[38;5;124m\"\u001B[39m)\n\u001B[1;32m      4\u001B[0m \u001B[38;5;66;03m#collection = chroma_client.get_collection(name=\"my_collection\")\u001B[39;00m\n\u001B[0;32m----> 5\u001B[0m \u001B[38;5;28mprint\u001B[39m(\u001B[38;5;124mf\u001B[39m\u001B[38;5;124m\"\u001B[39m\u001B[38;5;124mSamples in db: \u001B[39m\u001B[38;5;132;01m{\u001B[39;00m\u001B[38;5;28mlen\u001B[39m(collection\u001B[38;5;241m.\u001B[39mget()[\u001B[38;5;124m'\u001B[39m\u001B[38;5;124membeddings\u001B[39m\u001B[38;5;124m'\u001B[39m])\u001B[38;5;132;01m}\u001B[39;00m\u001B[38;5;124m\"\u001B[39m)\n",
      "\u001B[0;31mTypeError\u001B[0m: object of type 'NoneType' has no len()"
     ]
    }
   ],
   "source": [
    "chroma_client = chromadb.PersistentClient(path=\"/home/erik/Desktop/WiSe2023_24/xAI-Proj-M/xAI-Proj-M/embeddings/embedding_data/embedding_store\")\n",
    "\n",
    "collection = chroma_client.create_collection(name=\"custom_resnet18_embeddings\")\n",
    "#collection = chroma_client.get_collection(name=\"my_collection\")\n",
    "print(f\"Samples in db: {len(collection.get()['embeddings'])}\")"
   ],
   "metadata": {
    "collapsed": false,
    "ExecuteTime": {
     "end_time": "2024-01-11T16:10:18.741103492Z",
     "start_time": "2024-01-11T16:10:17.505184996Z"
    }
   },
   "id": "50f189166a65c8b2"
  },
  {
   "cell_type": "code",
   "execution_count": 7,
   "outputs": [],
   "source": [
    "def get_embeddings_and_store(embedding_model, data_loader, chroma_collection, dataset_type):\n",
    "    count = 0\n",
    "    for batch in data_loader:\n",
    "        print(count)\n",
    "        batch_paths_and_images, batch_labels = batch\n",
    "        batch_labels = batch_labels.tolist()\n",
    "        batch_paths = list(batch_paths_and_images[0])\n",
    "        batch_images = batch_paths_and_images[1]\n",
    "        \n",
    "        out = embedding_model(batch_images)\n",
    "        \n",
    "        chroma_collection.add(\n",
    "            embeddings = out.tolist(),\n",
    "            metadatas = [{'path':x[0], 'label':x[1], 'dataset_type':dataset_type} for x in zip(batch_paths, batch_labels)],\n",
    "            ids= [dataset_type + str(x) for x in list(range( count * 256, count * 256 + len(batch_labels)))]\n",
    "        )\n",
    "\n",
    "        count += 1\n"
   ],
   "metadata": {
    "collapsed": false,
    "ExecuteTime": {
     "end_time": "2024-01-11T16:10:20.530407456Z",
     "start_time": "2024-01-11T16:10:20.435188638Z"
    }
   },
   "id": "38befb011d0c9150"
  },
  {
   "cell_type": "markdown",
   "source": [
    "## Get embeddings of train dataqset"
   ],
   "metadata": {
    "collapsed": false
   },
   "id": "e6f0aeeb414cdc52"
  },
  {
   "cell_type": "code",
   "execution_count": 8,
   "outputs": [
    {
     "name": "stdout",
     "output_type": "stream",
     "text": [
      "0\n",
      "1\n",
      "2\n",
      "3\n",
      "4\n",
      "5\n",
      "6\n",
      "7\n",
      "8\n",
      "9\n",
      "10\n",
      "11\n",
      "12\n",
      "13\n",
      "14\n",
      "15\n",
      "16\n",
      "17\n",
      "18\n",
      "19\n",
      "20\n",
      "21\n",
      "22\n",
      "23\n",
      "24\n",
      "25\n",
      "26\n",
      "27\n",
      "28\n",
      "29\n",
      "30\n",
      "31\n",
      "32\n",
      "33\n",
      "34\n",
      "35\n",
      "36\n",
      "37\n",
      "38\n",
      "39\n",
      "40\n",
      "41\n",
      "42\n",
      "43\n",
      "44\n",
      "45\n",
      "46\n",
      "47\n",
      "48\n",
      "49\n",
      "50\n",
      "51\n",
      "52\n",
      "53\n",
      "54\n",
      "55\n",
      "56\n",
      "57\n",
      "58\n",
      "59\n",
      "60\n",
      "61\n",
      "62\n",
      "63\n",
      "64\n",
      "65\n",
      "66\n",
      "67\n",
      "68\n",
      "69\n",
      "70\n",
      "71\n",
      "72\n",
      "73\n",
      "74\n",
      "75\n",
      "76\n",
      "77\n",
      "78\n",
      "79\n",
      "80\n",
      "81\n",
      "82\n",
      "83\n",
      "84\n",
      "85\n",
      "86\n",
      "87\n",
      "88\n",
      "89\n",
      "90\n",
      "91\n",
      "92\n",
      "93\n",
      "94\n",
      "95\n",
      "96\n",
      "97\n",
      "98\n",
      "99\n",
      "100\n",
      "101\n",
      "102\n",
      "103\n",
      "104\n",
      "105\n",
      "106\n",
      "107\n",
      "108\n",
      "109\n",
      "110\n",
      "111\n",
      "112\n",
      "113\n",
      "114\n",
      "115\n",
      "116\n",
      "117\n",
      "118\n",
      "119\n",
      "120\n",
      "121\n",
      "122\n",
      "123\n",
      "124\n",
      "125\n",
      "126\n",
      "127\n",
      "128\n",
      "129\n",
      "130\n",
      "131\n",
      "132\n",
      "133\n",
      "134\n",
      "135\n",
      "136\n",
      "137\n",
      "138\n",
      "139\n",
      "140\n",
      "141\n",
      "142\n",
      "143\n",
      "144\n",
      "145\n",
      "146\n",
      "147\n",
      "148\n",
      "149\n",
      "150\n",
      "151\n",
      "152\n",
      "153\n",
      "154\n",
      "155\n",
      "156\n",
      "157\n",
      "158\n",
      "159\n",
      "160\n",
      "161\n",
      "162\n",
      "163\n",
      "164\n",
      "165\n",
      "166\n",
      "167\n",
      "168\n",
      "169\n",
      "170\n",
      "171\n",
      "172\n",
      "173\n",
      "174\n",
      "175\n",
      "176\n",
      "177\n",
      "178\n",
      "179\n",
      "180\n",
      "181\n",
      "182\n",
      "183\n",
      "184\n",
      "185\n",
      "186\n",
      "187\n",
      "188\n",
      "189\n",
      "190\n",
      "191\n",
      "192\n",
      "193\n",
      "194\n",
      "195\n"
     ]
    }
   ],
   "source": [
    "# Use custom Dataset that returns image path in get item\n",
    "train_dataset = CustomImageFolder(\n",
    "    root=\"/home/erik/Desktop/WiSe2023_24/xAI-Proj-M/xAI-Proj-M/custom_cnn/data/cifar10/train\",\n",
    "    transform=ToTensor()\n",
    ")\n",
    "# Create DataLoader\n",
    "train_data_loader = DataLoader(\n",
    "    dataset=train_dataset,\n",
    "    batch_size=256,\n",
    "    shuffle=False,\n",
    "    num_workers=4,\n",
    "    pin_memory=False  # should be True if cuda is available\n",
    ")\n",
    "# feed through embedding model\n",
    "model.eval()\n",
    "get_embeddings_and_store(model, train_data_loader, collection, dataset_type=\"train\")"
   ],
   "metadata": {
    "collapsed": false,
    "ExecuteTime": {
     "end_time": "2024-01-11T16:14:47.040469269Z",
     "start_time": "2024-01-11T16:10:22.656709457Z"
    }
   },
   "id": "2552699e274e13f0"
  },
  {
   "cell_type": "code",
   "execution_count": 9,
   "outputs": [
    {
     "name": "stdout",
     "output_type": "stream",
     "text": [
      "Samples in db: 50000\n",
      "train0\n",
      "train49999\n"
     ]
    }
   ],
   "source": [
    "print(f\"Samples in db: {len(collection.get()['ids'])}\")\n",
    "print(collection.get()['ids'][0])\n",
    "print(collection.get()['ids'][-1])"
   ],
   "metadata": {
    "collapsed": false,
    "ExecuteTime": {
     "end_time": "2024-01-11T16:14:51.957649052Z",
     "start_time": "2024-01-11T16:14:47.039931793Z"
    }
   },
   "id": "85af487f95e355f3"
  },
  {
   "cell_type": "markdown",
   "source": [
    "## Get embeddings of test dataset"
   ],
   "metadata": {
    "collapsed": false
   },
   "id": "78a084b1f38b6458"
  },
  {
   "cell_type": "code",
   "execution_count": 10,
   "outputs": [
    {
     "name": "stdout",
     "output_type": "stream",
     "text": [
      "0\n",
      "1\n",
      "2\n",
      "3\n",
      "4\n",
      "5\n",
      "6\n",
      "7\n",
      "8\n",
      "9\n",
      "10\n",
      "11\n",
      "12\n",
      "13\n",
      "14\n",
      "15\n",
      "16\n",
      "17\n",
      "18\n",
      "19\n",
      "20\n",
      "21\n",
      "22\n",
      "23\n",
      "24\n",
      "25\n",
      "26\n",
      "27\n",
      "28\n",
      "29\n",
      "30\n",
      "31\n",
      "32\n",
      "33\n",
      "34\n",
      "35\n",
      "36\n",
      "37\n",
      "38\n",
      "39\n"
     ]
    }
   ],
   "source": [
    "# Use custom Dataset that returns image path in get item\n",
    "test_dataset = CustomImageFolder(\n",
    "    root=\"/home/erik/Desktop/WiSe2023_24/xAI-Proj-M/xAI-Proj-M/custom_cnn/data/cifar10/test\",\n",
    "    transform=ToTensor()\n",
    ")\n",
    "# Create DataLoader\n",
    "test_data_loader = DataLoader(\n",
    "    dataset=test_dataset,\n",
    "    batch_size=256,\n",
    "    shuffle=False,\n",
    "    num_workers=4,\n",
    "    pin_memory=False  # should be True if cuda is available\n",
    ")\n",
    "# feed through embedding model\n",
    "get_embeddings_and_store(model, test_data_loader, chroma_collection=collection, dataset_type=\"test\")"
   ],
   "metadata": {
    "collapsed": false,
    "ExecuteTime": {
     "end_time": "2024-01-11T16:15:45.026110390Z",
     "start_time": "2024-01-11T16:14:51.964262221Z"
    }
   },
   "id": "b43c86fb84be29e1"
  },
  {
   "cell_type": "code",
   "execution_count": 11,
   "outputs": [
    {
     "name": "stdout",
     "output_type": "stream",
     "text": [
      "Samples in db: 60000\n",
      "test0\n",
      "test9999\n"
     ]
    }
   ],
   "source": [
    "print(f\"Samples in db: {len(collection.get()['ids'])}\")\n",
    "print(collection.get()['ids'][50000])\n",
    "print(collection.get()['ids'][-1])"
   ],
   "metadata": {
    "collapsed": false,
    "ExecuteTime": {
     "end_time": "2024-01-11T16:15:49.954182696Z",
     "start_time": "2024-01-11T16:15:45.082907810Z"
    }
   },
   "id": "55f8c801e6676e36"
  },
  {
   "cell_type": "code",
   "execution_count": 12,
   "outputs": [
    {
     "data": {
      "text/plain": "[0.3520524799823761,\n 0.1315263956785202,\n 0.008910487405955791,\n 0.007209965959191322,\n 0.13907968997955322,\n 0.17957645654678345,\n 0.00792884360998869,\n 1.9036686420440674,\n 0.06788422167301178,\n 0.316283643245697,\n 0.01651104725897312,\n 0.05166476219892502,\n 1.9248000383377075,\n 0.08334937691688538,\n 0.0,\n 0.7794778943061829,\n 0.7937007546424866,\n 0.0779038667678833,\n 0.499143123626709,\n 0.005405292380601168,\n 0.0,\n 0.09352932125329971,\n 0.19298088550567627,\n 0.29335886240005493,\n 1.1015024185180664,\n 0.16235603392124176,\n 0.012693120166659355,\n 0.06133384257555008,\n 0.02283632382750511,\n 0.008925596252083778,\n 0.020633257925510406,\n 0.3776172399520874,\n 0.29663097858428955,\n 0.09107948839664459,\n 0.05856328457593918,\n 0.3605562150478363,\n 0.48561936616897583,\n 0.1308508962392807,\n 0.8958905339241028,\n 0.09797325730323792,\n 0.41716963052749634,\n 0.5702074766159058,\n 0.29603952169418335,\n 1.448506236076355,\n 0.8308850526809692,\n 0.23854254186153412,\n 0.3062005639076233,\n 0.16508451104164124,\n 1.00916588306427,\n 0.08519385010004044,\n 0.12168334424495697,\n 2.6282238960266113,\n 0.5395429134368896,\n 0.0,\n 0.15692980587482452,\n 0.22430425882339478,\n 0.27434319257736206,\n 0.12119507044553757,\n 2.322157144546509,\n 0.26214560866355896,\n 0.041055526584386826,\n 0.47491762042045593,\n 1.8896713256835938,\n 0.0,\n 0.18089896440505981,\n 1.2413066625595093,\n 0.4358803331851959,\n 0.10739608854055405,\n 0.11715158820152283,\n 1.2786815166473389,\n 0.6615166664123535,\n 0.07797832787036896,\n 2.4281859397888184,\n 0.03979155421257019,\n 0.18956229090690613,\n 0.10301099717617035,\n 0.014045768417418003,\n 0.0,\n 0.0,\n 2.1447973251342773,\n 0.14391745626926422,\n 0.7579663991928101,\n 0.4895780682563782,\n 0.8145032525062561,\n 0.08592922985553741,\n 0.6250219345092773,\n 0.1503724753856659,\n 0.1434422880411148,\n 0.01846792735159397,\n 0.29761263728141785,\n 0.0,\n 0.1138269454240799,\n 0.31667396426200867,\n 0.0,\n 1.0263149738311768,\n 0.413101464509964,\n 0.014396038837730885,\n 0.04401985928416252,\n 0.023588117212057114,\n 0.2502623200416565,\n 0.1930292546749115,\n 0.0,\n 0.10674736648797989,\n 0.08390957117080688,\n 0.27680283784866333,\n 0.09795023500919342,\n 0.18408969044685364,\n 1.4576281309127808,\n 2.4005279541015625,\n 0.12481121718883514,\n 0.40201839804649353,\n 1.4614921808242798,\n 0.27421754598617554,\n 0.5886625051498413,\n 0.17039614915847778,\n 0.6694210767745972,\n 0.055045295506715775,\n 0.1764523684978485,\n 0.0,\n 0.11104384809732437,\n 1.8243638277053833,\n 2.1964595317840576,\n 0.12558932602405548,\n 0.19781579077243805,\n 0.27668997645378113,\n 0.37079647183418274,\n 0.20333042740821838,\n 0.2948121726512909]"
     },
     "execution_count": 12,
     "metadata": {},
     "output_type": "execute_result"
    }
   ],
   "source": [
    "collection.get(include=['embeddings', 'documents', 'metadatas'])['embeddings'][0]"
   ],
   "metadata": {
    "collapsed": false,
    "ExecuteTime": {
     "end_time": "2024-01-11T16:15:52.356063961Z",
     "start_time": "2024-01-11T16:15:49.957976325Z"
    }
   },
   "id": "92c2c5f4f0d472cb"
  },
  {
   "cell_type": "code",
   "execution_count": null,
   "outputs": [],
   "source": [],
   "metadata": {
    "collapsed": false
   },
   "id": "bda214d6f409c209"
  }
 ],
 "metadata": {
  "kernelspec": {
   "display_name": "Python 3",
   "language": "python",
   "name": "python3"
  },
  "language_info": {
   "codemirror_mode": {
    "name": "ipython",
    "version": 2
   },
   "file_extension": ".py",
   "mimetype": "text/x-python",
   "name": "python",
   "nbconvert_exporter": "python",
   "pygments_lexer": "ipython2",
   "version": "2.7.6"
  }
 },
 "nbformat": 4,
 "nbformat_minor": 5
}
