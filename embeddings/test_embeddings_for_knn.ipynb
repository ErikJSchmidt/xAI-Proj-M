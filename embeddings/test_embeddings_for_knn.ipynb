{
 "cells": [
  {
   "cell_type": "code",
   "execution_count": 1,
   "id": "initial_id",
   "metadata": {
    "ExecuteTime": {
     "end_time": "2024-01-11T17:32:59.581248208Z",
     "start_time": "2024-01-11T17:32:55.117497300Z"
    },
    "collapsed": true
   },
   "outputs": [],
   "source": [
    "import chromadb\n",
    "import torch\n",
    "from sklearn.metrics import accuracy_score"
   ]
  },
  {
   "cell_type": "code",
   "execution_count": 2,
   "id": "acfbe3c585ebd8c4",
   "metadata": {
    "ExecuteTime": {
     "end_time": "2024-01-11T17:33:31.976289494Z",
     "start_time": "2024-01-11T17:33:31.925016610Z"
    },
    "collapsed": false
   },
   "outputs": [],
   "source": [
    "\n",
    "chroma_client = chromadb.PersistentClient(path=\"./embedding_data/embedding_store\")\n",
    "collection_names = [\"pretrained_resnet18_embeddings\", \"custom_resnet18_embeddings\", \"combined_loss_training\", \"fixed_centroids_training\"]\n",
    "# Adjust index to run notebook on different embeddings\n",
    "collection = chroma_client.get_collection(name=collection_names[3])\n"
   ]
  },
  {
   "cell_type": "code",
   "execution_count": 5,
   "id": "38c83059711f8f39",
   "metadata": {
    "ExecuteTime": {
     "end_time": "2024-01-11T17:33:36.430079284Z",
     "start_time": "2024-01-11T17:33:33.353457020Z"
    },
    "collapsed": false
   },
   "outputs": [],
   "source": [
    "test_dataset = collection.get(\n",
    "    include=['embeddings', 'documents', 'metadatas'],\n",
    "    where = {\"dataset_type\": \"test\"}\n",
    ")\n",
    "train_dataset = collection.get(\n",
    "    include=['embeddings', 'documents', 'metadatas'],\n",
    "    where = {\"dataset_type\": \"train\"}\n",
    ")"
   ]
  },
  {
   "cell_type": "code",
   "execution_count": 6,
   "id": "9919e3ccd1659aa2",
   "metadata": {
    "ExecuteTime": {
     "end_time": "2024-01-11T17:33:39.934976244Z",
     "start_time": "2024-01-11T17:33:38.250936343Z"
    },
    "collapsed": false
   },
   "outputs": [],
   "source": [
    "top_10_nn = collection.query(\n",
    "    query_embeddings=test_dataset['embeddings'][0],\n",
    "    where={\"dataset_type\": \"train\"}\n",
    ")\n",
    "knn_labels = [x['label']for x in top_10_nn['metadatas'][0]]"
   ]
  },
  {
   "cell_type": "code",
   "execution_count": 7,
   "id": "ce392dc6601b5bca",
   "metadata": {
    "ExecuteTime": {
     "start_time": "2024-01-11T17:33:43.691835160Z"
    },
    "collapsed": false
   },
   "outputs": [
    {
     "name": "stdout",
     "output_type": "stream",
     "text": [
      "0\n",
      "100\n",
      "200\n",
      "300\n",
      "400\n",
      "500\n",
      "600\n",
      "700\n",
      "800\n",
      "900\n",
      "1000\n",
      "1100\n",
      "1200\n",
      "1300\n",
      "1400\n",
      "1500\n",
      "1600\n",
      "1700\n",
      "1800\n",
      "1900\n",
      "2000\n",
      "2100\n",
      "2200\n",
      "2300\n",
      "2400\n",
      "2500\n",
      "2600\n",
      "2700\n",
      "2800\n",
      "2900\n",
      "3000\n",
      "3100\n",
      "3200\n",
      "3300\n",
      "3400\n",
      "3500\n",
      "3600\n",
      "3700\n",
      "3800\n",
      "3900\n",
      "4000\n",
      "4100\n",
      "4200\n",
      "4300\n",
      "4400\n",
      "4500\n",
      "4600\n",
      "4700\n",
      "4800\n",
      "4900\n",
      "5000\n",
      "5100\n",
      "5200\n",
      "5300\n",
      "5400\n",
      "5500\n",
      "5600\n",
      "5700\n",
      "5800\n",
      "5900\n",
      "6000\n",
      "6100\n",
      "6200\n",
      "6300\n",
      "6400\n",
      "6500\n",
      "6600\n",
      "6700\n",
      "6800\n",
      "6900\n",
      "7000\n",
      "7100\n",
      "7200\n",
      "7300\n",
      "7400\n",
      "7500\n",
      "7600\n",
      "7700\n",
      "7800\n",
      "7900\n",
      "8000\n",
      "8100\n",
      "8200\n",
      "8300\n",
      "8400\n",
      "8500\n",
      "8600\n",
      "8700\n",
      "8800\n",
      "8900\n",
      "9000\n",
      "9100\n",
      "9200\n",
      "9300\n",
      "9400\n",
      "9500\n",
      "9600\n",
      "9700\n",
      "9800\n",
      "9900\n"
     ]
    }
   ],
   "source": [
    "y = []\n",
    "predictions = []\n",
    "count = 0\n",
    "for test_id, test_embedding, test_meta in list(zip(test_dataset['ids'], test_dataset['embeddings'], test_dataset['metadatas'])):\n",
    "    if count % 100 == 0:\n",
    "        print(count)\n",
    "    count += 1\n",
    "    test_label = test_meta['label']\n",
    "    y.append(test_label)\n",
    "    top_10_nn = collection.query(\n",
    "        query_embeddings=test_embedding,\n",
    "        where={\"dataset_type\": \"train\"}\n",
    "    )\n",
    "    knn_labels = [x['label']for x in top_10_nn['metadatas'][0]]\n",
    "    prediction = max(set(knn_labels), key=knn_labels.count)\n",
    "    predictions.append(prediction)"
   ]
  },
  {
   "cell_type": "code",
   "execution_count": 8,
   "id": "d74a9e824c9b677d",
   "metadata": {
    "ExecuteTime": {
     "end_time": "2024-01-11T21:13:16.219672890Z",
     "start_time": "2024-01-11T21:13:16.167617626Z"
    },
    "collapsed": false
   },
   "outputs": [
    {
     "data": {
      "text/plain": [
       "0.2516"
      ]
     },
     "execution_count": 8,
     "metadata": {},
     "output_type": "execute_result"
    }
   ],
   "source": [
    "accuracy_score(y, predictions)"
   ]
  }
 ],
 "metadata": {
  "kernelspec": {
   "display_name": "Python 3",
   "language": "python",
   "name": "python3"
  },
  "language_info": {
   "codemirror_mode": {
    "name": "ipython",
    "version": 3
   },
   "file_extension": ".py",
   "mimetype": "text/x-python",
   "name": "python",
   "nbconvert_exporter": "python",
   "pygments_lexer": "ipython3",
   "version": "3.11.5"
  }
 },
 "nbformat": 4,
 "nbformat_minor": 5
}
