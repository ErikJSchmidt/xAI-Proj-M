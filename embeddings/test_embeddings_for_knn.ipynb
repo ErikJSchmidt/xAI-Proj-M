{
 "cells": [
  {
   "cell_type": "code",
   "execution_count": 1,
   "id": "initial_id",
   "metadata": {
    "collapsed": true,
    "ExecuteTime": {
     "end_time": "2023-12-12T14:13:19.162463265Z",
     "start_time": "2023-12-12T14:13:17.404067808Z"
    }
   },
   "outputs": [],
   "source": [
    "import chromadb\n",
    "import torch"
   ]
  },
  {
   "cell_type": "code",
   "execution_count": 3,
   "outputs": [],
   "source": [
    "\n",
    "chroma_client = chromadb.PersistentClient(path=\"/home/erik/Desktop/WiSe2023_24/xAI-Proj-M/xAI-Proj-M/embeddings/embedding_data/resnet18_embedding_store\")\n",
    "collection = chroma_client.get_collection(name=\"my_collection\")\n"
   ],
   "metadata": {
    "collapsed": false,
    "ExecuteTime": {
     "end_time": "2023-12-12T14:14:19.460583570Z",
     "start_time": "2023-12-12T14:14:19.057238763Z"
    }
   },
   "id": "acfbe3c585ebd8c4"
  },
  {
   "cell_type": "code",
   "execution_count": 4,
   "outputs": [],
   "source": [
    "test_dataset = collection.get(\n",
    "    include=['embeddings', 'documents', 'metadatas'],\n",
    "    where = {\"dataset_type\": \"test\"}\n",
    ")\n",
    "train_dataset = collection.get(\n",
    "    include=['embeddings', 'documents', 'metadatas'],\n",
    "    where = {\"dataset_type\": \"train\"}\n",
    ")"
   ],
   "metadata": {
    "collapsed": false,
    "ExecuteTime": {
     "end_time": "2023-12-12T14:14:55.423928382Z",
     "start_time": "2023-12-12T14:14:52.355950539Z"
    }
   },
   "id": "38c83059711f8f39"
  },
  {
   "cell_type": "code",
   "execution_count": 5,
   "outputs": [],
   "source": [
    "top_10_nn = collection.query(\n",
    "    query_embeddings=test_dataset['embeddings'][0],\n",
    "    where={\"dataset_type\": \"train\"}\n",
    ")\n",
    "knn_labels = [x['label']for x in top_10_nn['metadatas'][0]]"
   ],
   "metadata": {
    "collapsed": false,
    "ExecuteTime": {
     "end_time": "2023-12-12T14:14:57.537676431Z",
     "start_time": "2023-12-12T14:14:56.367904719Z"
    }
   },
   "id": "9919e3ccd1659aa2"
  },
  {
   "cell_type": "code",
   "execution_count": 6,
   "outputs": [
    {
     "name": "stdout",
     "output_type": "stream",
     "text": [
      "0\n",
      "1\n",
      "2\n",
      "3\n",
      "4\n",
      "5\n",
      "6\n",
      "7\n",
      "8\n",
      "9\n",
      "10\n",
      "11\n",
      "12\n",
      "13\n",
      "14\n",
      "15\n",
      "16\n",
      "17\n",
      "18\n",
      "19\n",
      "20\n",
      "21\n",
      "22\n",
      "23\n",
      "24\n",
      "25\n",
      "26\n",
      "27\n",
      "28\n",
      "29\n",
      "30\n",
      "31\n",
      "32\n",
      "33\n",
      "34\n",
      "35\n",
      "36\n",
      "37\n",
      "38\n",
      "39\n",
      "40\n",
      "41\n",
      "42\n",
      "43\n",
      "44\n",
      "45\n",
      "46\n",
      "47\n",
      "48\n",
      "49\n",
      "50\n",
      "51\n",
      "52\n",
      "53\n",
      "54\n",
      "55\n",
      "56\n",
      "57\n",
      "58\n",
      "59\n",
      "60\n",
      "61\n",
      "62\n",
      "63\n",
      "64\n",
      "65\n",
      "66\n",
      "67\n",
      "68\n",
      "69\n",
      "70\n",
      "71\n",
      "72\n",
      "73\n",
      "74\n",
      "75\n",
      "76\n",
      "77\n",
      "78\n",
      "79\n",
      "80\n",
      "81\n",
      "82\n",
      "83\n",
      "84\n",
      "85\n",
      "86\n",
      "87\n",
      "88\n",
      "89\n",
      "90\n",
      "91\n",
      "92\n",
      "93\n",
      "94\n",
      "95\n",
      "96\n",
      "97\n",
      "98\n",
      "99\n"
     ]
    }
   ],
   "source": [
    "y = []\n",
    "predictions = []\n",
    "count = 0\n",
    "for test_id, test_embedding, test_meta in list(zip(test_dataset['ids'], test_dataset['embeddings'], test_dataset['metadatas']))[:100]:\n",
    "    print(count)\n",
    "    count += 1\n",
    "    test_label = test_meta['label']\n",
    "    y.append(test_label)\n",
    "    top_10_nn = collection.query(\n",
    "        query_embeddings=test_embedding,\n",
    "        where={\"dataset_type\": \"train\"}\n",
    "    )\n",
    "    knn_labels = [x['label']for x in top_10_nn['metadatas'][0]]\n",
    "    prediction = max(set(knn_labels), key=knn_labels.count)\n",
    "    predictions.append(prediction)"
   ],
   "metadata": {
    "collapsed": false,
    "ExecuteTime": {
     "end_time": "2023-12-12T14:16:16.760463686Z",
     "start_time": "2023-12-12T14:14:58.394665392Z"
    }
   },
   "id": "ce392dc6601b5bca"
  },
  {
   "cell_type": "code",
   "execution_count": 7,
   "outputs": [],
   "source": [
    "def accuracy(outputs, labels):\n",
    "    t = 0\n",
    "    f = 0\n",
    "    for pred, y in zip(outputs, labels):\n",
    "        if pred == y:\n",
    "            t += 1\n",
    "        else:\n",
    "            f += 1\n",
    "    return t/(t+f)\n",
    "            "
   ],
   "metadata": {
    "collapsed": false,
    "ExecuteTime": {
     "end_time": "2023-12-12T14:16:18.369221082Z",
     "start_time": "2023-12-12T14:16:18.323660573Z"
    }
   },
   "id": "a964780688992a21"
  },
  {
   "cell_type": "code",
   "execution_count": 8,
   "outputs": [
    {
     "data": {
      "text/plain": "0.5"
     },
     "execution_count": 8,
     "metadata": {},
     "output_type": "execute_result"
    }
   ],
   "source": [
    "accuracy(predictions, y)"
   ],
   "metadata": {
    "collapsed": false,
    "ExecuteTime": {
     "end_time": "2023-12-12T14:16:19.902593531Z",
     "start_time": "2023-12-12T14:16:19.874870212Z"
    }
   },
   "id": "fc173016b61e0d7d"
  },
  {
   "cell_type": "code",
   "execution_count": null,
   "outputs": [],
   "source": [],
   "metadata": {
    "collapsed": false
   },
   "id": "d74a9e824c9b677d"
  }
 ],
 "metadata": {
  "kernelspec": {
   "display_name": "Python 3",
   "language": "python",
   "name": "python3"
  },
  "language_info": {
   "codemirror_mode": {
    "name": "ipython",
    "version": 2
   },
   "file_extension": ".py",
   "mimetype": "text/x-python",
   "name": "python",
   "nbconvert_exporter": "python",
   "pygments_lexer": "ipython2",
   "version": "2.7.6"
  }
 },
 "nbformat": 4,
 "nbformat_minor": 5
}
