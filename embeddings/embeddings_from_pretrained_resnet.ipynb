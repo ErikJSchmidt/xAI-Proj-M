{
 "cells": [
  {
   "cell_type": "code",
   "execution_count": 8,
   "id": "initial_id",
   "metadata": {
    "collapsed": true,
    "ExecuteTime": {
     "end_time": "2024-01-09T16:33:24.752273156Z",
     "start_time": "2024-01-09T16:33:24.500029102Z"
    }
   },
   "outputs": [],
   "source": [
    "import json\n",
    "\n",
    "import torch\n",
    "from torch import nn\n",
    "from torchvision.datasets import ImageFolder\n",
    "from torchvision.transforms import ToTensor\n",
    "from torch.utils.data.dataloader import DataLoader\n",
    "from torchvision import transforms\n",
    "from torchvision.models import ResNet\n",
    "from custom_image_folder import CustomImageFolder\n",
    "import chromadb"
   ]
  },
  {
   "cell_type": "markdown",
   "source": [
    "# Pretrained ResNet18\n",
    "In this script a  pretrained ResNet18 is used to obtain embbedings for all Cifar10 samples.\n",
    "With the embeddings of the training samples the test samples are classified via KNN.\n",
    "The accuracy of that KNN classifier on the test set is recorded.\n",
    "## Prepare embedding model"
   ],
   "metadata": {
    "collapsed": false
   },
   "id": "7feb8992e745b6fb"
  },
  {
   "cell_type": "code",
   "execution_count": 9,
   "outputs": [
    {
     "name": "stderr",
     "output_type": "stream",
     "text": [
      "Using cache found in /home/erik/.cache/torch/hub/pytorch_vision_v0.10.0\n"
     ]
    }
   ],
   "source": [
    "model = torch.hub.load('pytorch/vision:v0.10.0', 'resnet18')\n",
    "#torch.save(model.state_dict, \"/home/erik/Desktop/WiSe2023_24/xAI-Proj-M/xAI-Proj-M/embeddings/pretrained_models/resnet18_pretrained\")"
   ],
   "metadata": {
    "collapsed": false,
    "ExecuteTime": {
     "end_time": "2024-01-09T16:33:27.216785859Z",
     "start_time": "2024-01-09T16:33:26.172947767Z"
    }
   },
   "id": "bb83dc22d2cb306a"
  },
  {
   "cell_type": "code",
   "execution_count": 10,
   "outputs": [
    {
     "name": "stdout",
     "output_type": "stream",
     "text": [
      "type of model <class 'torchvision.models.resnet.ResNet'>\n",
      "Linear(in_features=512, out_features=1000, bias=True)\n"
     ]
    }
   ],
   "source": [
    "print(F\"type of model {type(model)}\")\n",
    "print(f\"{model.fc}\")"
   ],
   "metadata": {
    "collapsed": false,
    "ExecuteTime": {
     "end_time": "2024-01-09T16:33:27.952208108Z",
     "start_time": "2024-01-09T16:33:27.165186964Z"
    }
   },
   "id": "fb59883a233d4f81"
  },
  {
   "cell_type": "code",
   "execution_count": 11,
   "outputs": [],
   "source": [
    "# Replace last FC layer by identity mapping so that the model outputs vectors of dim 512\n",
    "class Identity(nn.Module):\n",
    "    def __init__(self):\n",
    "        super(Identity, self).__init__()\n",
    "\n",
    "    def forward(self, x):\n",
    "        return x\n",
    "\n",
    "model.fc = Identity()"
   ],
   "metadata": {
    "collapsed": false,
    "ExecuteTime": {
     "end_time": "2024-01-09T16:33:29.126217815Z",
     "start_time": "2024-01-09T16:33:28.130263187Z"
    }
   },
   "id": "548e3f02b8b4e421"
  },
  {
   "cell_type": "markdown",
   "source": [
    "## Prepare vector store"
   ],
   "metadata": {
    "collapsed": false
   },
   "id": "d78fd08783732b6c"
  },
  {
   "cell_type": "code",
   "execution_count": 12,
   "outputs": [
    {
     "ename": "TypeError",
     "evalue": "object of type 'NoneType' has no len()",
     "output_type": "error",
     "traceback": [
      "\u001B[0;31m---------------------------------------------------------------------------\u001B[0m",
      "\u001B[0;31mTypeError\u001B[0m                                 Traceback (most recent call last)",
      "Cell \u001B[0;32mIn[12], line 5\u001B[0m\n\u001B[1;32m      3\u001B[0m collection \u001B[38;5;241m=\u001B[39m chroma_client\u001B[38;5;241m.\u001B[39mcreate_collection(name\u001B[38;5;241m=\u001B[39m\u001B[38;5;124m\"\u001B[39m\u001B[38;5;124mpretrained_resnet18_embeddings\u001B[39m\u001B[38;5;124m\"\u001B[39m)\n\u001B[1;32m      4\u001B[0m \u001B[38;5;66;03m#collection = chroma_client.get_collection(name=\"my_collection\")\u001B[39;00m\n\u001B[0;32m----> 5\u001B[0m \u001B[38;5;28mprint\u001B[39m(\u001B[38;5;124mf\u001B[39m\u001B[38;5;124m\"\u001B[39m\u001B[38;5;124mSamples in db: \u001B[39m\u001B[38;5;132;01m{\u001B[39;00m\u001B[38;5;28mlen\u001B[39m(collection\u001B[38;5;241m.\u001B[39mget()[\u001B[38;5;124m'\u001B[39m\u001B[38;5;124membeddings\u001B[39m\u001B[38;5;124m'\u001B[39m])\u001B[38;5;132;01m}\u001B[39;00m\u001B[38;5;124m\"\u001B[39m)\n",
      "\u001B[0;31mTypeError\u001B[0m: object of type 'NoneType' has no len()"
     ]
    }
   ],
   "source": [
    "chroma_client = chromadb.PersistentClient(path=\"/home/erik/Desktop/WiSe2023_24/xAI-Proj-M/xAI-Proj-M/embeddings/embedding_data/embedding_store\")\n",
    "\n",
    "collection = chroma_client.create_collection(name=\"pretrained_resnet18_embeddings\")\n",
    "#collection = chroma_client.get_collection(name=\"my_collection\")\n",
    "print(f\"Samples in db: {len(collection.get()['embeddings'])}\")"
   ],
   "metadata": {
    "collapsed": false,
    "ExecuteTime": {
     "end_time": "2024-01-09T16:33:30.841178987Z",
     "start_time": "2024-01-09T16:33:29.809580989Z"
    }
   },
   "id": "50f189166a65c8b2"
  },
  {
   "cell_type": "code",
   "execution_count": 13,
   "outputs": [],
   "source": [
    "def get_embeddings_and_store(embedding_model, data_loader, chroma_collection, dataset_type):\n",
    "    count = 0\n",
    "    for batch in data_loader:\n",
    "        print(count)\n",
    "        batch_paths_and_images, batch_labels = batch\n",
    "        batch_labels = batch_labels.tolist()\n",
    "        batch_paths = list(batch_paths_and_images[0])\n",
    "        batch_images = batch_paths_and_images[1]\n",
    "        \n",
    "        out = embedding_model(batch_images)\n",
    "        \n",
    "        chroma_collection.add(\n",
    "            embeddings = out.tolist(),\n",
    "            metadatas = [{'path':x[0], 'label':x[1], 'dataset_type':dataset_type} for x in zip(batch_paths, batch_labels)],\n",
    "            ids= [dataset_type + str(x) for x in list(range( count * 256, count * 256 + len(batch_labels)))]\n",
    "        )\n",
    "\n",
    "        count += 1\n"
   ],
   "metadata": {
    "collapsed": false,
    "ExecuteTime": {
     "end_time": "2024-01-09T16:33:34.271463783Z",
     "start_time": "2024-01-09T16:33:34.002559554Z"
    }
   },
   "id": "38befb011d0c9150"
  },
  {
   "cell_type": "markdown",
   "source": [
    "## Get embeddings of train dataqset"
   ],
   "metadata": {
    "collapsed": false
   },
   "id": "e6f0aeeb414cdc52"
  },
  {
   "cell_type": "code",
   "execution_count": 14,
   "outputs": [
    {
     "name": "stdout",
     "output_type": "stream",
     "text": [
      "0\n",
      "1\n",
      "2\n",
      "3\n",
      "4\n",
      "5\n",
      "6\n",
      "7\n",
      "8\n",
      "9\n",
      "10\n",
      "11\n",
      "12\n",
      "13\n",
      "14\n",
      "15\n",
      "16\n",
      "17\n",
      "18\n",
      "19\n",
      "20\n",
      "21\n",
      "22\n",
      "23\n",
      "24\n",
      "25\n",
      "26\n",
      "27\n",
      "28\n",
      "29\n",
      "30\n",
      "31\n",
      "32\n",
      "33\n",
      "34\n",
      "35\n",
      "36\n",
      "37\n",
      "38\n",
      "39\n",
      "40\n",
      "41\n",
      "42\n",
      "43\n",
      "44\n",
      "45\n",
      "46\n",
      "47\n",
      "48\n",
      "49\n",
      "50\n",
      "51\n",
      "52\n",
      "53\n",
      "54\n",
      "55\n",
      "56\n",
      "57\n",
      "58\n",
      "59\n",
      "60\n",
      "61\n",
      "62\n",
      "63\n",
      "64\n",
      "65\n",
      "66\n",
      "67\n",
      "68\n",
      "69\n",
      "70\n",
      "71\n",
      "72\n",
      "73\n",
      "74\n",
      "75\n",
      "76\n",
      "77\n",
      "78\n",
      "79\n",
      "80\n",
      "81\n",
      "82\n",
      "83\n",
      "84\n",
      "85\n",
      "86\n",
      "87\n",
      "88\n",
      "89\n",
      "90\n",
      "91\n",
      "92\n",
      "93\n",
      "94\n",
      "95\n",
      "96\n",
      "97\n",
      "98\n",
      "99\n",
      "100\n",
      "101\n",
      "102\n",
      "103\n",
      "104\n",
      "105\n",
      "106\n",
      "107\n",
      "108\n",
      "109\n",
      "110\n",
      "111\n",
      "112\n",
      "113\n",
      "114\n",
      "115\n",
      "116\n",
      "117\n",
      "118\n",
      "119\n",
      "120\n",
      "121\n",
      "122\n",
      "123\n",
      "124\n",
      "125\n",
      "126\n",
      "127\n",
      "128\n",
      "129\n",
      "130\n",
      "131\n",
      "132\n",
      "133\n",
      "134\n",
      "135\n",
      "136\n",
      "137\n",
      "138\n",
      "139\n",
      "140\n",
      "141\n",
      "142\n",
      "143\n",
      "144\n",
      "145\n",
      "146\n",
      "147\n",
      "148\n",
      "149\n",
      "150\n",
      "151\n",
      "152\n",
      "153\n",
      "154\n",
      "155\n",
      "156\n",
      "157\n",
      "158\n",
      "159\n",
      "160\n",
      "161\n",
      "162\n",
      "163\n",
      "164\n",
      "165\n",
      "166\n",
      "167\n",
      "168\n",
      "169\n",
      "170\n",
      "171\n",
      "172\n",
      "173\n",
      "174\n",
      "175\n",
      "176\n",
      "177\n",
      "178\n",
      "179\n",
      "180\n",
      "181\n",
      "182\n",
      "183\n",
      "184\n",
      "185\n",
      "186\n",
      "187\n",
      "188\n",
      "189\n",
      "190\n",
      "191\n",
      "192\n",
      "193\n",
      "194\n",
      "195\n"
     ]
    }
   ],
   "source": [
    "# Use custom Dataset that returns image path in get item\n",
    "train_dataset = CustomImageFolder(\n",
    "    root=\"/home/erik/Desktop/WiSe2023_24/xAI-Proj-M/xAI-Proj-M/custom_cnn/data/cifar10/train\",\n",
    "    transform=ToTensor()\n",
    ")\n",
    "# Create DataLoader\n",
    "train_data_loader = DataLoader(\n",
    "    dataset=train_dataset,\n",
    "    batch_size=256,\n",
    "    shuffle=False,\n",
    "    num_workers=4,\n",
    "    pin_memory=False  # should be True if cuda is available\n",
    ")\n",
    "# feed through embedding model\n",
    "model.eval()\n",
    "get_embeddings_and_store(model, train_data_loader, collection, dataset_type=\"train\")"
   ],
   "metadata": {
    "collapsed": false,
    "ExecuteTime": {
     "end_time": "2024-01-09T16:45:17.728808863Z",
     "start_time": "2024-01-09T16:33:36.020567141Z"
    }
   },
   "id": "2552699e274e13f0"
  },
  {
   "cell_type": "code",
   "execution_count": 15,
   "outputs": [
    {
     "name": "stdout",
     "output_type": "stream",
     "text": [
      "Samples in db: 50000\n",
      "train0\n",
      "train49999\n"
     ]
    }
   ],
   "source": [
    "print(f\"Samples in db: {len(collection.get()['ids'])}\")\n",
    "print(collection.get()['ids'][0])\n",
    "print(collection.get()['ids'][-1])"
   ],
   "metadata": {
    "collapsed": false,
    "ExecuteTime": {
     "end_time": "2024-01-09T16:45:38.962352008Z",
     "start_time": "2024-01-09T16:45:28.211414442Z"
    }
   },
   "id": "85af487f95e355f3"
  },
  {
   "cell_type": "markdown",
   "source": [
    "## Get embeddings of test dataset"
   ],
   "metadata": {
    "collapsed": false
   },
   "id": "78a084b1f38b6458"
  },
  {
   "cell_type": "code",
   "execution_count": 16,
   "outputs": [
    {
     "name": "stdout",
     "output_type": "stream",
     "text": [
      "0\n",
      "1\n",
      "2\n",
      "3\n",
      "4\n",
      "5\n",
      "6\n",
      "7\n",
      "8\n",
      "9\n",
      "10\n",
      "11\n",
      "12\n",
      "13\n",
      "14\n",
      "15\n",
      "16\n",
      "17\n",
      "18\n",
      "19\n",
      "20\n",
      "21\n",
      "22\n",
      "23\n",
      "24\n",
      "25\n",
      "26\n",
      "27\n",
      "28\n",
      "29\n",
      "30\n",
      "31\n",
      "32\n",
      "33\n",
      "34\n",
      "35\n",
      "36\n",
      "37\n",
      "38\n",
      "39\n"
     ]
    }
   ],
   "source": [
    "# Use custom Dataset that returns image path in get item\n",
    "test_dataset = CustomImageFolder(\n",
    "    root=\"/home/erik/Desktop/WiSe2023_24/xAI-Proj-M/xAI-Proj-M/custom_cnn/data/cifar10/test\",\n",
    "    transform=ToTensor()\n",
    ")\n",
    "# Create DataLoader\n",
    "test_data_loader = DataLoader(\n",
    "    dataset=test_dataset,\n",
    "    batch_size=256,\n",
    "    shuffle=False,\n",
    "    num_workers=4,\n",
    "    pin_memory=False  # should be True if cuda is available\n",
    ")\n",
    "# feed through embedding model\n",
    "get_embeddings_and_store(model, test_data_loader, chroma_collection=collection, dataset_type=\"test\")"
   ],
   "metadata": {
    "collapsed": false,
    "ExecuteTime": {
     "end_time": "2024-01-09T16:48:20.709171130Z",
     "start_time": "2024-01-09T16:45:42.429399089Z"
    }
   },
   "id": "b43c86fb84be29e1"
  },
  {
   "cell_type": "code",
   "execution_count": 17,
   "outputs": [
    {
     "name": "stdout",
     "output_type": "stream",
     "text": [
      "Samples in db: 60000\n",
      "test0\n",
      "test9999\n"
     ]
    }
   ],
   "source": [
    "print(f\"Samples in db: {len(collection.get()['ids'])}\")\n",
    "print(collection.get()['ids'][50000])\n",
    "print(collection.get()['ids'][-1])"
   ],
   "metadata": {
    "collapsed": false,
    "ExecuteTime": {
     "end_time": "2024-01-09T16:48:47.326794534Z",
     "start_time": "2024-01-09T16:48:35.552182217Z"
    }
   },
   "id": "55f8c801e6676e36"
  },
  {
   "cell_type": "code",
   "execution_count": 18,
   "outputs": [
    {
     "data": {
      "text/plain": "[0.009699023328721523,\n 0.17504151165485382,\n 0.007887656800448895,\n 0.0,\n 0.5267356038093567,\n 0.0016377257416024804,\n 0.009823333472013474,\n 0.0,\n 0.20158956944942474,\n 0.6484022736549377,\n 0.8433561325073242,\n 0.018825815990567207,\n 0.39665666222572327,\n 0.05148020386695862,\n 0.0,\n 0.0,\n 0.0,\n 0.0,\n 0.0,\n 0.006327408831566572,\n 0.13787715137004852,\n 0.32102450728416443,\n 0.03618595749139786,\n 0.4599781632423401,\n 0.21071012318134308,\n 0.0,\n 0.0,\n 0.0,\n 0.5283924341201782,\n 0.027640417218208313,\n 0.5694782137870789,\n 0.15610173344612122,\n 0.4104174077510834,\n 0.0002860734239220619,\n 0.13793927431106567,\n 0.2193525731563568,\n 0.3740973174571991,\n 0.03476358577609062,\n 0.5137283802032471,\n 0.0,\n 0.02763727679848671,\n 0.17142429947853088,\n 0.028841199353337288,\n 0.2910490930080414,\n 0.0007112201419658959,\n 0.048084963113069534,\n 0.19917146861553192,\n 0.4004630148410797,\n 0.18925559520721436,\n 0.11410537362098694,\n 0.18867990374565125,\n 0.6121984720230103,\n 0.0,\n 0.0,\n 0.012003185227513313,\n 0.16437232494354248,\n 0.23719118535518646,\n 0.16522641479969025,\n 0.04132464900612831,\n 0.0,\n 0.09315477311611176,\n 0.3318396806716919,\n 0.0,\n 0.04877854511141777,\n 0.3782920241355896,\n 0.0,\n 0.00577941071242094,\n 0.23324349522590637,\n 0.28593066334724426,\n 0.5236351490020752,\n 0.0,\n 0.0,\n 0.11223381012678146,\n 0.027783768251538277,\n 0.0,\n 0.0,\n 0.09588709473609924,\n 0.7161034345626831,\n 0.46099087595939636,\n 0.02568991668522358,\n 0.046308014541864395,\n 0.1830839365720749,\n 0.5574249625205994,\n 0.0,\n 0.35772505402565,\n 0.06419914960861206,\n 0.3246700167655945,\n 0.3792290687561035,\n 0.0,\n 0.11381632089614868,\n 0.011503566056489944,\n 0.08042746037244797,\n 0.23061037063598633,\n 0.01659226231276989,\n 0.013179322704672813,\n 0.0043193381279706955,\n 0.0,\n 0.0,\n 0.43874186277389526,\n 0.2764745354652405,\n 0.0,\n 0.1421947330236435,\n 0.01388724148273468,\n 0.0,\n 0.0,\n 0.906119167804718,\n 0.005565444007515907,\n 0.0804041177034378,\n 0.0,\n 0.03346368670463562,\n 0.3184119462966919,\n 0.0,\n 0.0,\n 0.0,\n 0.35170412063598633,\n 0.05339303985238075,\n 0.826869547367096,\n 0.0,\n 0.0,\n 0.033618152141571045,\n 0.0,\n 0.01785026490688324,\n 0.06484401226043701,\n 0.3683571517467499,\n 0.6258119940757751,\n 0.0038926228880882263,\n 0.026150301098823547,\n 0.03882728889584541,\n 0.5910926461219788,\n 0.0,\n 0.11571906507015228,\n 0.0,\n 0.0,\n 1.2080800533294678,\n 0.04338011145591736,\n 0.5165433883666992,\n 0.0,\n 0.04996095225214958,\n 0.11538982391357422,\n 0.703365683555603,\n 0.0324142687022686,\n 0.0,\n 0.005989269353449345,\n 0.4279704988002777,\n 0.016598762944340706,\n 0.04426635429263115,\n 0.07950922101736069,\n 1.0852787494659424,\n 0.10010097920894623,\n 0.005424330942332745,\n 0.0,\n 0.3580412268638611,\n 0.8038320541381836,\n 0.0,\n 0.5218445658683777,\n 0.4311206340789795,\n 0.48944276571273804,\n 0.41116517782211304,\n 0.007674529682844877,\n 0.0,\n 0.06968890875577927,\n 0.5606464743614197,\n 0.03369288519024849,\n 0.0,\n 0.04853633791208267,\n 0.2605147957801819,\n 0.4064110219478607,\n 0.0586056113243103,\n 0.3351763188838959,\n 0.27578309178352356,\n 0.0,\n 0.2174595594406128,\n 0.0,\n 0.0,\n 0.0,\n 0.008162139914929867,\n 0.34340524673461914,\n 0.5740005970001221,\n 0.1822793185710907,\n 0.37341341376304626,\n 0.2831706404685974,\n 0.0,\n 0.0,\n 0.1521357297897339,\n 0.6169227361679077,\n 0.21988818049430847,\n 0.0,\n 0.0,\n 0.0,\n 0.5885939598083496,\n 0.02575746178627014,\n 0.14158232510089874,\n 0.0,\n 0.4284953474998474,\n 0.25911960005760193,\n 0.0,\n 0.3107247054576874,\n 0.020310869440436363,\n 0.3834017813205719,\n 0.17693045735359192,\n 0.4747367203235626,\n 0.09401217103004456,\n 0.5535426735877991,\n 0.17129255831241608,\n 0.0,\n 0.0,\n 0.0,\n 0.44366657733917236,\n 0.0356052964925766,\n 0.0,\n 0.10379818826913834,\n 0.0,\n 0.029937321320176125,\n 0.0,\n 0.0,\n 0.0,\n 0.3667508363723755,\n 0.11867406964302063,\n 0.5743080377578735,\n 0.03552762046456337,\n 0.2896226644515991,\n 0.0,\n 0.0,\n 0.32450324296951294,\n 0.05746698006987572,\n 0.0002258400636492297,\n 0.0,\n 0.11479079723358154,\n 0.015931297093629837,\n 0.3974710702896118,\n 0.04287652671337128,\n 0.03871056064963341,\n 0.05495823174715042,\n 0.0,\n 0.6651692390441895,\n 0.03571568801999092,\n 0.025006461888551712,\n 0.1333618015050888,\n 0.15628598630428314,\n 0.04327167198061943,\n 0.5580861568450928,\n 0.46756136417388916,\n 0.006244605407118797,\n 0.004215335473418236,\n 0.40038347244262695,\n 0.0,\n 0.0,\n 0.740308403968811,\n 0.31108298897743225,\n 0.15125881135463715,\n 0.0835319459438324,\n 0.05625886842608452,\n 0.0,\n 0.0,\n 0.4908854365348816,\n 0.2585662007331848,\n 0.0,\n 0.0,\n 0.25766703486442566,\n 0.6592437028884888,\n 0.009796401485800743,\n 0.0,\n 0.7811756134033203,\n 0.00756105687469244,\n 0.0,\n 0.004010313656181097,\n 0.0,\n 0.0,\n 0.03558408096432686,\n 0.0,\n 0.43966421484947205,\n 0.0,\n 0.0,\n 0.0,\n 0.02355603687465191,\n 0.24640320241451263,\n 0.0,\n 0.5120896100997925,\n 0.0,\n 0.40225130319595337,\n 0.5276799201965332,\n 0.07956195622682571,\n 0.15714852511882782,\n 0.24430027604103088,\n 0.11298847198486328,\n 0.30013954639434814,\n 0.05274656042456627,\n 0.03696893900632858,\n 0.35328003764152527,\n 0.030777089297771454,\n 0.36696135997772217,\n 0.0,\n 0.029012663289904594,\n 0.041163187474012375,\n 0.03517620265483856,\n 0.34018242359161377,\n 0.015060960315167904,\n 0.4917178452014923,\n 0.16783347725868225,\n 0.632332980632782,\n 0.014017519541084766,\n 0.7074722647666931,\n 0.0,\n 0.014476800337433815,\n 0.4923396110534668,\n 0.0,\n 0.000510841200593859,\n 0.0,\n 0.08739066869020462,\n 0.06385314464569092,\n 0.0,\n 0.0,\n 0.0625721663236618,\n 0.39214539527893066,\n 0.29750925302505493,\n 0.04261777177453041,\n 0.0,\n 0.0,\n 0.0,\n 0.11547552049160004,\n 0.0,\n 0.0,\n 0.02882823906838894,\n 0.003751566167920828,\n 0.24913029372692108,\n 0.0,\n 0.0,\n 0.0,\n 0.027250759303569794,\n 0.051878686994314194,\n 0.0,\n 0.6966167092323303,\n 0.09296813607215881,\n 0.17158743739128113,\n 0.0,\n 0.04554666578769684,\n 0.0,\n 0.820777952671051,\n 0.04069407656788826,\n 0.1883237063884735,\n 0.006649006623774767,\n 0.09160534292459488,\n 0.03644715994596481,\n 0.011279587633907795,\n 0.0009858012199401855,\n 0.0,\n 0.0,\n 0.04546637088060379,\n 0.0,\n 0.141912043094635,\n 0.38124313950538635,\n 0.0,\n 0.08286137878894806,\n 0.009150517173111439,\n 0.016197344288229942,\n 0.0,\n 0.0941024124622345,\n 0.11542562395334244,\n 0.02846851386129856,\n 0.0613754577934742,\n 0.0,\n 0.6011240482330322,\n 0.7745137810707092,\n 0.1336546391248703,\n 0.17177999019622803,\n 0.4933062791824341,\n 0.46885570883750916,\n 0.04083329811692238,\n 0.0,\n 0.03756902366876602,\n 0.05377963185310364,\n 0.0,\n 0.0,\n 0.6190783977508545,\n 0.0,\n 0.44286981225013733,\n 0.0,\n 0.5436468124389648,\n 0.28466349840164185,\n 0.0,\n 0.0780998021364212,\n 0.009962880052626133,\n 0.001455923542380333,\n 0.0,\n 0.052139319479465485,\n 0.22851470112800598,\n 0.29505935311317444,\n 0.4187309145927429,\n 0.04996820539236069,\n 0.06116916239261627,\n 0.023598702624440193,\n 0.0,\n 0.3520060181617737,\n 0.02596416138112545,\n 0.044006142765283585,\n 0.33444035053253174,\n 0.41164037585258484,\n 0.0,\n 0.0,\n 0.60969078540802,\n 0.2327522188425064,\n 0.0,\n 0.21786844730377197,\n 0.07192964851856232,\n 0.8208817839622498,\n 0.012558001093566418,\n 0.7012597322463989,\n 0.3297618627548218,\n 0.40799322724342346,\n 0.46027711033821106,\n 0.0,\n 0.0,\n 0.0,\n 0.0,\n 0.25506100058555603,\n 0.8043283820152283,\n 0.0014180616708472371,\n 0.0024883707519620657,\n 0.0,\n 0.8519757986068726,\n 0.1088150292634964,\n 0.05080505460500717,\n 0.0,\n 0.013168522156774998,\n 1.0227628946304321,\n 0.2315230369567871,\n 0.35551905632019043,\n 0.17697687447071075,\n 0.051423992961645126,\n 0.06687626242637634,\n 0.5852161645889282,\n 0.0,\n 0.007881781086325645,\n 0.09175251424312592,\n 0.3597814738750458,\n 0.0,\n 0.0,\n 0.03013690933585167,\n 0.027724049985408783,\n 0.0,\n 0.0,\n 0.0,\n 0.24678921699523926,\n 0.0,\n 0.6281540989875793,\n 0.8026039600372314,\n 0.04397803172469139,\n 0.607646107673645,\n 0.0,\n 0.0,\n 0.5071187019348145,\n 0.02269212156534195,\n 0.045346327126026154,\n 0.0,\n 0.5446249842643738,\n 0.0,\n 0.5440094470977783,\n 0.0,\n 0.0,\n 0.4420648217201233,\n 0.0,\n 0.0,\n 0.02959156408905983,\n 0.0,\n 0.0,\n 0.007870356552302837,\n 0.0,\n 0.01370956189930439,\n 0.8423470854759216,\n 0.18552009761333466,\n 0.09136071056127548,\n 0.279207706451416,\n 0.2923983931541443,\n 0.0,\n 0.0,\n 0.09288457036018372,\n 0.7352542877197266,\n 0.03644828125834465,\n 0.7554625868797302,\n 0.04351693391799927,\n 0.5565705299377441,\n 0.07014314830303192,\n 0.0030045839957892895,\n 0.026186609640717506,\n 0.0594169907271862,\n 0.008766433224081993,\n 0.024596264585852623,\n 0.32874706387519836,\n 0.039025869220495224,\n 0.030801959335803986,\n 0.026192372664809227,\n 0.1556868553161621,\n 0.26795661449432373,\n 0.13460157811641693,\n 0.0,\n 0.0,\n 0.021220827475190163,\n 0.034746695309877396,\n 0.3365437984466553,\n 0.0,\n 0.0,\n 0.3441619575023651,\n 0.2880781590938568,\n 0.0,\n 0.0,\n 0.0,\n 0.15590649843215942,\n 0.2997783422470093,\n 0.11056143790483475,\n 0.0,\n 0.19959761202335358,\n 0.0]"
     },
     "execution_count": 18,
     "metadata": {},
     "output_type": "execute_result"
    }
   ],
   "source": [
    "collection.get(include=['embeddings', 'documents', 'metadatas'])['embeddings'][0]"
   ],
   "metadata": {
    "collapsed": false,
    "ExecuteTime": {
     "end_time": "2024-01-09T16:49:07.940479105Z",
     "start_time": "2024-01-09T16:48:51.404299320Z"
    }
   },
   "id": "92c2c5f4f0d472cb"
  },
  {
   "cell_type": "code",
   "execution_count": null,
   "outputs": [],
   "source": [],
   "metadata": {
    "collapsed": false
   },
   "id": "bda214d6f409c209"
  }
 ],
 "metadata": {
  "kernelspec": {
   "display_name": "Python 3",
   "language": "python",
   "name": "python3"
  },
  "language_info": {
   "codemirror_mode": {
    "name": "ipython",
    "version": 2
   },
   "file_extension": ".py",
   "mimetype": "text/x-python",
   "name": "python",
   "nbconvert_exporter": "python",
   "pygments_lexer": "ipython2",
   "version": "2.7.6"
  }
 },
 "nbformat": 4,
 "nbformat_minor": 5
}
