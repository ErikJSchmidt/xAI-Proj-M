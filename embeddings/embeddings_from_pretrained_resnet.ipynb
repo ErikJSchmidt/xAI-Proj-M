{
 "cells": [
  {
   "cell_type": "code",
   "execution_count": 1,
   "id": "initial_id",
   "metadata": {
    "collapsed": true,
    "ExecuteTime": {
     "end_time": "2024-01-07T15:56:41.513124879Z",
     "start_time": "2024-01-07T15:56:33.331829988Z"
    }
   },
   "outputs": [],
   "source": [
    "import json\n",
    "\n",
    "import torch\n",
    "from torch import nn\n",
    "from torchvision.datasets import ImageFolder\n",
    "from torchvision.transforms import ToTensor\n",
    "from torch.utils.data.dataloader import DataLoader\n",
    "from torchvision import transforms\n",
    "from torchvision.models import ResNet\n",
    "from custom_image_folder import CustomImageFolder\n",
    "import chromadb\n",
    "from custom_cnn.networks.model_skipped_18_layer_for_embedding import Skipped18LayerForEmbbeding\n",
    "from custom_cnn import utility_functions"
   ]
  },
  {
   "cell_type": "markdown",
   "source": [
    "## Prepare embedding model"
   ],
   "metadata": {
    "collapsed": false
   },
   "id": "7feb8992e745b6fb"
  },
  {
   "cell_type": "code",
   "execution_count": 2,
   "outputs": [
    {
     "name": "stdout",
     "output_type": "stream",
     "text": [
      "Set up Modular Skip\n",
      "in: 16, out: 16, stride: (1, 1)\n",
      "No skip conv needed, use identity\n",
      "Set up Modular Skip\n",
      "in: 16, out: 32, stride: (2, 2)\n",
      "Create skip conv\n",
      "Set up Modular Skip\n",
      "in: 32, out: 32, stride: (1, 1)\n",
      "No skip conv needed, use identity\n",
      "Set up Modular Skip\n",
      "in: 32, out: 64, stride: (2, 2)\n",
      "Create skip conv\n",
      "Set up Modular Skip\n",
      "in: 64, out: 64, stride: (1, 1)\n",
      "No skip conv needed, use identity\n",
      "Set up Modular Skip\n",
      "in: 64, out: 128, stride: (2, 2)\n",
      "Create skip conv\n",
      "Set up Modular Skip\n",
      "in: 128, out: 128, stride: (1, 1)\n",
      "No skip conv needed, use identity\n",
      "Set up Modular Skip\n",
      "in: 128, out: 128, stride: (1, 1)\n",
      "No skip conv needed, use identity\n"
     ]
    },
    {
     "ename": "RuntimeError",
     "evalue": "Error(s) in loading state_dict for Sequential:\n\tUnexpected key(s) in state_dict: \"29.weight\", \"29.bias\". ",
     "output_type": "error",
     "traceback": [
      "\u001B[0;31m---------------------------------------------------------------------------\u001B[0m",
      "\u001B[0;31mRuntimeError\u001B[0m                              Traceback (most recent call last)",
      "Cell \u001B[0;32mIn[2], line 4\u001B[0m\n\u001B[1;32m      1\u001B[0m \u001B[38;5;66;03m#model = torch.hub.load('pytorch/vision:v0.10.0', 'resnet18')\u001B[39;00m\n\u001B[1;32m      2\u001B[0m \u001B[38;5;66;03m#torch.save(model.state_dict, \"/home/erik/Desktop/WiSe2023_24/xAI-Proj-M/xAI-Proj-M/embeddings/pretrained_models/resnet18_pretrained\")\u001B[39;00m\n\u001B[1;32m      3\u001B[0m model \u001B[38;5;241m=\u001B[39m Skipped18Layer()\n\u001B[0;32m----> 4\u001B[0m \u001B[43mmodel\u001B[49m\u001B[38;5;241;43m.\u001B[39;49m\u001B[43mnetwork\u001B[49m\u001B[38;5;241;43m.\u001B[39;49m\u001B[43mload_state_dict\u001B[49m\u001B[43m(\u001B[49m\n\u001B[1;32m      5\u001B[0m \u001B[43m    \u001B[49m\u001B[43mtorch\u001B[49m\u001B[38;5;241;43m.\u001B[39;49m\u001B[43mload\u001B[49m\u001B[43m(\u001B[49m\u001B[38;5;124;43m\"\u001B[39;49m\u001B[38;5;124;43m/home/erik/Desktop/WiSe2023_24/xAI-Proj-M/xAI-Proj-M/custom_cnn/savedmodels/Skipped18Layer_20231205_1333/model_state_dict\u001B[39;49m\u001B[38;5;124;43m\"\u001B[39;49m\u001B[43m,\u001B[49m\u001B[43m \u001B[49m\u001B[43mmap_location\u001B[49m\u001B[38;5;241;43m=\u001B[39;49m\u001B[43mtorch\u001B[49m\u001B[38;5;241;43m.\u001B[39;49m\u001B[43mdevice\u001B[49m\u001B[43m(\u001B[49m\u001B[43mutility_functions\u001B[49m\u001B[38;5;241;43m.\u001B[39;49m\u001B[43mget_default_device\u001B[49m\u001B[43m(\u001B[49m\u001B[43m)\u001B[49m\u001B[43m)\u001B[49m\u001B[43m)\u001B[49m\n\u001B[1;32m      6\u001B[0m \u001B[43m)\u001B[49m\n",
      "File \u001B[0;32m~/anaconda3/envs/xAI-Proj-M/lib/python3.8/site-packages/torch/nn/modules/module.py:2152\u001B[0m, in \u001B[0;36mModule.load_state_dict\u001B[0;34m(self, state_dict, strict, assign)\u001B[0m\n\u001B[1;32m   2147\u001B[0m         error_msgs\u001B[38;5;241m.\u001B[39minsert(\n\u001B[1;32m   2148\u001B[0m             \u001B[38;5;241m0\u001B[39m, \u001B[38;5;124m'\u001B[39m\u001B[38;5;124mMissing key(s) in state_dict: \u001B[39m\u001B[38;5;132;01m{}\u001B[39;00m\u001B[38;5;124m. \u001B[39m\u001B[38;5;124m'\u001B[39m\u001B[38;5;241m.\u001B[39mformat(\n\u001B[1;32m   2149\u001B[0m                 \u001B[38;5;124m'\u001B[39m\u001B[38;5;124m, \u001B[39m\u001B[38;5;124m'\u001B[39m\u001B[38;5;241m.\u001B[39mjoin(\u001B[38;5;124mf\u001B[39m\u001B[38;5;124m'\u001B[39m\u001B[38;5;124m\"\u001B[39m\u001B[38;5;132;01m{\u001B[39;00mk\u001B[38;5;132;01m}\u001B[39;00m\u001B[38;5;124m\"\u001B[39m\u001B[38;5;124m'\u001B[39m \u001B[38;5;28;01mfor\u001B[39;00m k \u001B[38;5;129;01min\u001B[39;00m missing_keys)))\n\u001B[1;32m   2151\u001B[0m \u001B[38;5;28;01mif\u001B[39;00m \u001B[38;5;28mlen\u001B[39m(error_msgs) \u001B[38;5;241m>\u001B[39m \u001B[38;5;241m0\u001B[39m:\n\u001B[0;32m-> 2152\u001B[0m     \u001B[38;5;28;01mraise\u001B[39;00m \u001B[38;5;167;01mRuntimeError\u001B[39;00m(\u001B[38;5;124m'\u001B[39m\u001B[38;5;124mError(s) in loading state_dict for \u001B[39m\u001B[38;5;132;01m{}\u001B[39;00m\u001B[38;5;124m:\u001B[39m\u001B[38;5;130;01m\\n\u001B[39;00m\u001B[38;5;130;01m\\t\u001B[39;00m\u001B[38;5;132;01m{}\u001B[39;00m\u001B[38;5;124m'\u001B[39m\u001B[38;5;241m.\u001B[39mformat(\n\u001B[1;32m   2153\u001B[0m                        \u001B[38;5;28mself\u001B[39m\u001B[38;5;241m.\u001B[39m\u001B[38;5;18m__class__\u001B[39m\u001B[38;5;241m.\u001B[39m\u001B[38;5;18m__name__\u001B[39m, \u001B[38;5;124m\"\u001B[39m\u001B[38;5;130;01m\\n\u001B[39;00m\u001B[38;5;130;01m\\t\u001B[39;00m\u001B[38;5;124m\"\u001B[39m\u001B[38;5;241m.\u001B[39mjoin(error_msgs)))\n\u001B[1;32m   2154\u001B[0m \u001B[38;5;28;01mreturn\u001B[39;00m _IncompatibleKeys(missing_keys, unexpected_keys)\n",
      "\u001B[0;31mRuntimeError\u001B[0m: Error(s) in loading state_dict for Sequential:\n\tUnexpected key(s) in state_dict: \"29.weight\", \"29.bias\". "
     ]
    }
   ],
   "source": [
    "#model = torch.hub.load('pytorch/vision:v0.10.0', 'resnet18')\n",
    "#torch.save(model.state_dict, \"/home/erik/Desktop/WiSe2023_24/xAI-Proj-M/xAI-Proj-M/embeddings/pretrained_models/resnet18_pretrained\")\n",
    "model = Skipped18LayerForEmbbeding()\n",
    "model.network.load_state_dict(\n",
    "    torch.load(\"/home/erik/Desktop/WiSe2023_24/xAI-Proj-M/xAI-Proj-M/custom_cnn/savedmodels/TODOOOOOOtrain this model\", map_location=torch.device(utility_functions.get_default_device()))\n",
    ")"
   ],
   "metadata": {
    "collapsed": false,
    "ExecuteTime": {
     "end_time": "2024-01-07T15:56:51.315925328Z",
     "start_time": "2024-01-07T15:56:46.950705211Z"
    }
   },
   "id": "bb83dc22d2cb306a"
  },
  {
   "cell_type": "code",
   "execution_count": 15,
   "outputs": [
    {
     "name": "stdout",
     "output_type": "stream",
     "text": [
      "type of model <class 'custom_cnn.networks.model_skipped_18_layer.Skipped18Layer'>\n"
     ]
    },
    {
     "ename": "AttributeError",
     "evalue": "'Skipped18Layer' object has no attribute 'fc'",
     "output_type": "error",
     "traceback": [
      "\u001B[0;31m---------------------------------------------------------------------------\u001B[0m",
      "\u001B[0;31mAttributeError\u001B[0m                            Traceback (most recent call last)",
      "Cell \u001B[0;32mIn[15], line 2\u001B[0m\n\u001B[1;32m      1\u001B[0m \u001B[38;5;28mprint\u001B[39m(\u001B[38;5;124mF\u001B[39m\u001B[38;5;124m\"\u001B[39m\u001B[38;5;124mtype of model \u001B[39m\u001B[38;5;132;01m{\u001B[39;00m\u001B[38;5;28mtype\u001B[39m(model)\u001B[38;5;132;01m}\u001B[39;00m\u001B[38;5;124m\"\u001B[39m)\n\u001B[0;32m----> 2\u001B[0m \u001B[38;5;28mprint\u001B[39m(\u001B[38;5;124mf\u001B[39m\u001B[38;5;124m\"\u001B[39m\u001B[38;5;132;01m{\u001B[39;00mmodel\u001B[38;5;241m.\u001B[39mfc\u001B[38;5;132;01m}\u001B[39;00m\u001B[38;5;124m\"\u001B[39m)\n",
      "File \u001B[0;32m~/anaconda3/envs/xAI-Proj-M/lib/python3.8/site-packages/torch/nn/modules/module.py:1695\u001B[0m, in \u001B[0;36mModule.__getattr__\u001B[0;34m(self, name)\u001B[0m\n\u001B[1;32m   1693\u001B[0m     \u001B[38;5;28;01mif\u001B[39;00m name \u001B[38;5;129;01min\u001B[39;00m modules:\n\u001B[1;32m   1694\u001B[0m         \u001B[38;5;28;01mreturn\u001B[39;00m modules[name]\n\u001B[0;32m-> 1695\u001B[0m \u001B[38;5;28;01mraise\u001B[39;00m \u001B[38;5;167;01mAttributeError\u001B[39;00m(\u001B[38;5;124mf\u001B[39m\u001B[38;5;124m\"\u001B[39m\u001B[38;5;124m'\u001B[39m\u001B[38;5;132;01m{\u001B[39;00m\u001B[38;5;28mtype\u001B[39m(\u001B[38;5;28mself\u001B[39m)\u001B[38;5;241m.\u001B[39m\u001B[38;5;18m__name__\u001B[39m\u001B[38;5;132;01m}\u001B[39;00m\u001B[38;5;124m'\u001B[39m\u001B[38;5;124m object has no attribute \u001B[39m\u001B[38;5;124m'\u001B[39m\u001B[38;5;132;01m{\u001B[39;00mname\u001B[38;5;132;01m}\u001B[39;00m\u001B[38;5;124m'\u001B[39m\u001B[38;5;124m\"\u001B[39m)\n",
      "\u001B[0;31mAttributeError\u001B[0m: 'Skipped18Layer' object has no attribute 'fc'"
     ]
    }
   ],
   "source": [
    "print(F\"type of model {type(model)}\")\n",
    "print(f\"{model.fc}\")"
   ],
   "metadata": {
    "collapsed": false,
    "ExecuteTime": {
     "end_time": "2024-01-07T15:56:04.529174501Z",
     "start_time": "2024-01-07T15:56:04.222036028Z"
    }
   },
   "id": "fb59883a233d4f81"
  },
  {
   "cell_type": "code",
   "execution_count": 3,
   "outputs": [],
   "source": [
    "# Replace last FC layer by identity mapping so that the model outputs vectors of dim 512\n",
    "class Identity(nn.Module):\n",
    "    def __init__(self):\n",
    "        super(Identity, self).__init__()\n",
    "\n",
    "    def forward(self, x):\n",
    "        return x\n",
    "\n",
    "model.fc = Identity()"
   ],
   "metadata": {
    "collapsed": false,
    "ExecuteTime": {
     "end_time": "2024-01-07T15:57:22.995752754Z",
     "start_time": "2024-01-07T15:57:22.633316674Z"
    }
   },
   "id": "548e3f02b8b4e421"
  },
  {
   "cell_type": "markdown",
   "source": [
    "## Prepare vector store"
   ],
   "metadata": {
    "collapsed": false
   },
   "id": "d78fd08783732b6c"
  },
  {
   "cell_type": "code",
   "execution_count": 5,
   "outputs": [
    {
     "ename": "TypeError",
     "evalue": "object of type 'NoneType' has no len()",
     "output_type": "error",
     "traceback": [
      "\u001B[0;31m---------------------------------------------------------------------------\u001B[0m",
      "\u001B[0;31mTypeError\u001B[0m                                 Traceback (most recent call last)",
      "Cell \u001B[0;32mIn[5], line 5\u001B[0m\n\u001B[1;32m      3\u001B[0m collection \u001B[38;5;241m=\u001B[39m chroma_client\u001B[38;5;241m.\u001B[39mcreate_collection(name\u001B[38;5;241m=\u001B[39m\u001B[38;5;124m\"\u001B[39m\u001B[38;5;124mpretrained_resnet18_embeddings\u001B[39m\u001B[38;5;124m\"\u001B[39m)\n\u001B[1;32m      4\u001B[0m \u001B[38;5;66;03m#collection = chroma_client.get_collection(name=\"my_collection\")\u001B[39;00m\n\u001B[0;32m----> 5\u001B[0m \u001B[38;5;28mprint\u001B[39m(\u001B[38;5;124mf\u001B[39m\u001B[38;5;124m\"\u001B[39m\u001B[38;5;124mSamples in db: \u001B[39m\u001B[38;5;132;01m{\u001B[39;00m\u001B[38;5;28mlen\u001B[39m(collection\u001B[38;5;241m.\u001B[39mget()[\u001B[38;5;124m'\u001B[39m\u001B[38;5;124membeddings\u001B[39m\u001B[38;5;124m'\u001B[39m])\u001B[38;5;132;01m}\u001B[39;00m\u001B[38;5;124m\"\u001B[39m)\n",
      "\u001B[0;31mTypeError\u001B[0m: object of type 'NoneType' has no len()"
     ]
    }
   ],
   "source": [
    "chroma_client = chromadb.PersistentClient(path=\"/home/erik/Desktop/WiSe2023_24/xAI-Proj-M/xAI-Proj-M/embeddings/embedding_data/resnet18_embedding_store\")\n",
    "\n",
    "collection = chroma_client.create_collection(name=\"pretrained_resnet18_embeddings\")\n",
    "#collection = chroma_client.get_collection(name=\"my_collection\")\n",
    "print(f\"Samples in db: {len(collection.get()['embeddings'])}\")"
   ],
   "metadata": {
    "collapsed": false,
    "ExecuteTime": {
     "end_time": "2024-01-07T15:44:44.249485948Z",
     "start_time": "2024-01-07T15:44:40.335029427Z"
    }
   },
   "id": "50f189166a65c8b2"
  },
  {
   "cell_type": "code",
   "execution_count": 6,
   "outputs": [],
   "source": [
    "def get_embeddings_and_store(embedding_model, data_loader, chroma_collection, dataset_type):\n",
    "    count = 0\n",
    "    for batch in data_loader:\n",
    "        print(count)\n",
    "        batch_paths_and_images, batch_labels = batch\n",
    "        batch_labels = batch_labels.tolist()\n",
    "        batch_paths = list(batch_paths_and_images[0])\n",
    "        batch_images = batch_paths_and_images[1]\n",
    "        \n",
    "        out = embedding_model(batch_images)\n",
    "        \n",
    "        chroma_collection.add(\n",
    "            embeddings = out.tolist(),\n",
    "            metadatas = [{'path':x[0], 'label':x[1], 'dataset_type':dataset_type} for x in zip(batch_paths, batch_labels)],\n",
    "            ids= [dataset_type + str(x) for x in list(range( count * 256, count * 256 + len(batch_labels)))]\n",
    "        )\n",
    "\n",
    "        count += 1\n"
   ],
   "metadata": {
    "collapsed": false,
    "ExecuteTime": {
     "end_time": "2024-01-07T15:45:06.980430237Z",
     "start_time": "2024-01-07T15:45:06.713514157Z"
    }
   },
   "id": "38befb011d0c9150"
  },
  {
   "cell_type": "markdown",
   "source": [
    "## Get embeddings of train dataqset"
   ],
   "metadata": {
    "collapsed": false
   },
   "id": "e6f0aeeb414cdc52"
  },
  {
   "cell_type": "code",
   "execution_count": 8,
   "outputs": [
    {
     "name": "stdout",
     "output_type": "stream",
     "text": [
      "0\n",
      "1\n",
      "2\n",
      "3\n",
      "4\n",
      "5\n",
      "6\n",
      "7\n",
      "8\n",
      "9\n",
      "10\n",
      "11\n",
      "12\n",
      "13\n",
      "14\n",
      "15\n",
      "16\n",
      "17\n",
      "18\n",
      "19\n",
      "20\n",
      "21\n",
      "22\n",
      "23\n",
      "24\n",
      "25\n",
      "26\n",
      "27\n",
      "28\n",
      "29\n",
      "30\n",
      "31\n",
      "32\n",
      "33\n",
      "34\n",
      "35\n",
      "36\n",
      "37\n",
      "38\n",
      "39\n",
      "40\n",
      "41\n",
      "42\n",
      "43\n",
      "44\n",
      "45\n",
      "46\n",
      "47\n",
      "48\n",
      "49\n",
      "50\n",
      "51\n",
      "52\n",
      "53\n",
      "54\n",
      "55\n",
      "56\n",
      "57\n",
      "58\n",
      "59\n",
      "60\n",
      "61\n",
      "62\n",
      "63\n",
      "64\n",
      "65\n",
      "66\n",
      "67\n",
      "68\n",
      "69\n",
      "70\n",
      "71\n",
      "72\n",
      "73\n",
      "74\n",
      "75\n",
      "76\n",
      "77\n",
      "78\n",
      "79\n",
      "80\n",
      "81\n",
      "82\n",
      "83\n",
      "84\n",
      "85\n",
      "86\n",
      "87\n",
      "88\n",
      "89\n",
      "90\n",
      "91\n",
      "92\n",
      "93\n",
      "94\n",
      "95\n",
      "96\n",
      "97\n",
      "98\n",
      "99\n",
      "100\n",
      "101\n",
      "102\n",
      "103\n",
      "104\n",
      "105\n",
      "106\n",
      "107\n",
      "108\n",
      "109\n",
      "110\n",
      "111\n",
      "112\n",
      "113\n",
      "114\n",
      "115\n",
      "116\n",
      "117\n",
      "118\n",
      "119\n",
      "120\n",
      "121\n",
      "122\n",
      "123\n",
      "124\n",
      "125\n",
      "126\n",
      "127\n",
      "128\n",
      "129\n",
      "130\n",
      "131\n",
      "132\n",
      "133\n",
      "134\n",
      "135\n",
      "136\n",
      "137\n",
      "138\n",
      "139\n",
      "140\n",
      "141\n",
      "142\n",
      "143\n",
      "144\n",
      "145\n",
      "146\n",
      "147\n",
      "148\n",
      "149\n",
      "150\n",
      "151\n",
      "152\n",
      "153\n",
      "154\n",
      "155\n",
      "156\n",
      "157\n",
      "158\n",
      "159\n",
      "160\n",
      "161\n",
      "162\n",
      "163\n",
      "164\n",
      "165\n",
      "166\n",
      "167\n",
      "168\n",
      "169\n",
      "170\n",
      "171\n",
      "172\n",
      "173\n",
      "174\n",
      "175\n",
      "176\n",
      "177\n",
      "178\n",
      "179\n",
      "180\n",
      "181\n",
      "182\n",
      "183\n",
      "184\n",
      "185\n",
      "186\n",
      "187\n",
      "188\n",
      "189\n",
      "190\n",
      "191\n",
      "192\n",
      "193\n",
      "194\n",
      "195\n"
     ]
    }
   ],
   "source": [
    "# Use custom Dataset that returns image path in get item\n",
    "train_dataset = CustomImageFolder(\n",
    "    root=\"/home/erik/Desktop/WiSe2023_24/xAI-Proj-M/xAI-Proj-M/custom_cnn/data/cifar10/train\",\n",
    "    transform=ToTensor()\n",
    ")\n",
    "# Create DataLoader\n",
    "train_data_loader = DataLoader(\n",
    "    dataset=train_dataset,\n",
    "    batch_size=256,\n",
    "    shuffle=False,\n",
    "    num_workers=4,\n",
    "    pin_memory=False  # should be True if cuda is available\n",
    ")\n",
    "# feed through embedding model\n",
    "model.eval()\n",
    "get_embeddings_and_store(model, train_data_loader, collection, dataset_type=\"train\")"
   ],
   "metadata": {
    "collapsed": false,
    "ExecuteTime": {
     "end_time": "2023-12-12T14:05:51.105587770Z",
     "start_time": "2023-12-12T14:03:40.496406709Z"
    }
   },
   "id": "2552699e274e13f0"
  },
  {
   "cell_type": "code",
   "execution_count": 9,
   "outputs": [
    {
     "name": "stdout",
     "output_type": "stream",
     "text": [
      "Samples in db: 50000\n",
      "train0\n",
      "train49999\n"
     ]
    }
   ],
   "source": [
    "print(f\"Samples in db: {len(collection.get()['ids'])}\")\n",
    "print(collection.get()['ids'][0])\n",
    "print(collection.get()['ids'][-1])"
   ],
   "metadata": {
    "collapsed": false,
    "ExecuteTime": {
     "end_time": "2023-12-12T14:08:17.914425634Z",
     "start_time": "2023-12-12T14:08:14.771007097Z"
    }
   },
   "id": "85af487f95e355f3"
  },
  {
   "cell_type": "markdown",
   "source": [
    "## Get embeddings of test dataset"
   ],
   "metadata": {
    "collapsed": false
   },
   "id": "78a084b1f38b6458"
  },
  {
   "cell_type": "code",
   "execution_count": 10,
   "outputs": [
    {
     "name": "stdout",
     "output_type": "stream",
     "text": [
      "0\n",
      "1\n",
      "2\n",
      "3\n",
      "4\n",
      "5\n",
      "6\n",
      "7\n",
      "8\n",
      "9\n",
      "10\n",
      "11\n",
      "12\n",
      "13\n",
      "14\n",
      "15\n",
      "16\n",
      "17\n",
      "18\n",
      "19\n",
      "20\n",
      "21\n",
      "22\n",
      "23\n",
      "24\n",
      "25\n",
      "26\n",
      "27\n",
      "28\n",
      "29\n",
      "30\n",
      "31\n",
      "32\n",
      "33\n",
      "34\n",
      "35\n",
      "36\n",
      "37\n",
      "38\n",
      "39\n"
     ]
    }
   ],
   "source": [
    "# Use custom Dataset that returns image path in get item\n",
    "test_dataset = CustomImageFolder(\n",
    "    root=\"/home/erik/Desktop/WiSe2023_24/xAI-Proj-M/xAI-Proj-M/custom_cnn/data/cifar10/test\",\n",
    "    transform=ToTensor()\n",
    ")\n",
    "# Create DataLoader\n",
    "test_data_loader = DataLoader(\n",
    "    dataset=test_dataset,\n",
    "    batch_size=256,\n",
    "    shuffle=False,\n",
    "    num_workers=4,\n",
    "    pin_memory=False  # should be True if cuda is available\n",
    ")\n",
    "# feed through embedding model\n",
    "get_embeddings_and_store(model, test_data_loader, chroma_collection=collection, dataset_type=\"test\")"
   ],
   "metadata": {
    "collapsed": false,
    "ExecuteTime": {
     "end_time": "2023-12-12T14:09:12.510877059Z",
     "start_time": "2023-12-12T14:08:45.193199525Z"
    }
   },
   "id": "b43c86fb84be29e1"
  },
  {
   "cell_type": "code",
   "execution_count": 11,
   "outputs": [
    {
     "name": "stdout",
     "output_type": "stream",
     "text": [
      "Samples in db: 60000\n",
      "test0\n",
      "test9999\n"
     ]
    }
   ],
   "source": [
    "print(f\"Samples in db: {len(collection.get()['ids'])}\")\n",
    "print(collection.get()['ids'][50000])\n",
    "print(collection.get()['ids'][-1])"
   ],
   "metadata": {
    "collapsed": false,
    "ExecuteTime": {
     "end_time": "2023-12-12T14:11:13.831580451Z",
     "start_time": "2023-12-12T14:11:10.623421269Z"
    }
   },
   "id": "55f8c801e6676e36"
  },
  {
   "cell_type": "code",
   "execution_count": 12,
   "outputs": [
    {
     "data": {
      "text/plain": "[0.0,\n 0.15496140718460083,\n 0.6533552408218384,\n 0.10460175573825836,\n 0.23001089692115784,\n 0.015446186996996403,\n 0.3059708774089813,\n 0.03321392089128494,\n 0.039559271186590195,\n 0.12876932322978973,\n 0.03549429029226303,\n 0.3491635024547577,\n 0.06376586109399796,\n 0.05076976120471954,\n 0.06907577812671661,\n 0.0,\n 0.2906697988510132,\n 0.04119785875082016,\n 0.0,\n 0.0,\n 0.0,\n 0.3092459738254547,\n 0.1780966818332672,\n 0.18186092376708984,\n 0.3881151080131531,\n 0.777580976486206,\n 0.1032431498169899,\n 0.8182851672172546,\n 0.046224966645240784,\n 0.3971695899963379,\n 0.03695961460471153,\n 0.12913483381271362,\n 0.2958517074584961,\n 0.05004793405532837,\n 0.05118536576628685,\n 0.04675797373056412,\n 0.0,\n 0.9347991943359375,\n 0.0,\n 0.024805961176753044,\n 0.5680094957351685,\n 0.0858125239610672,\n 0.0,\n 0.22595395147800446,\n 0.0,\n 0.000975943636149168,\n 0.0,\n 0.0,\n 0.0,\n 0.0,\n 0.0,\n 0.06971263140439987,\n 0.044268764555454254,\n 0.0,\n 0.0,\n 1.156774640083313,\n 0.018786532804369926,\n 0.19772428274154663,\n 0.027598371729254723,\n 0.0,\n 0.0,\n 0.7045802474021912,\n 0.0,\n 0.0,\n 0.47912558913230896,\n 0.3706689476966858,\n 0.0,\n 0.0,\n 0.0009863493032753468,\n 0.1517290472984314,\n 0.00267962459474802,\n 0.08886633068323135,\n 0.5729104280471802,\n 0.12503254413604736,\n 0.0,\n 0.08007875084877014,\n 0.0,\n 0.0,\n 0.48212340474128723,\n 0.01405611913651228,\n 0.0,\n 0.0,\n 0.5296780467033386,\n 0.9787769317626953,\n 0.9669097065925598,\n 0.25106021761894226,\n 0.038011398166418076,\n 0.0,\n 0.1035025343298912,\n 0.0,\n 0.04382410645484924,\n 0.1143798679113388,\n 0.36108988523483276,\n 0.0,\n 0.0,\n 0.0,\n 0.6252284049987793,\n 0.0,\n 0.05695604532957077,\n 0.4156462252140045,\n 0.4565407931804657,\n 0.3273374140262604,\n 0.08165839314460754,\n 0.0,\n 0.0,\n 0.1600063294172287,\n 0.0,\n 0.16549760103225708,\n 0.053828444331884384,\n 0.011831961572170258,\n 0.0,\n 0.0,\n 0.0020160332787781954,\n 0.05740038678050041,\n 0.6653489470481873,\n 0.24513649940490723,\n 0.09030468761920929,\n 0.03935890644788742,\n 1.1405086517333984,\n 0.03767542541027069,\n 0.20249724388122559,\n 0.0,\n 0.0,\n 0.22666732966899872,\n 0.13149571418762207,\n 0.017619775608181953,\n 0.9748573899269104,\n 0.37365293502807617,\n 0.011879639700055122,\n 0.1797044426202774,\n 0.0,\n 0.03163104131817818,\n 0.9634659290313721,\n 0.6460872292518616,\n 0.09142391383647919,\n 0.0,\n 0.0,\n 0.17169402539730072,\n 0.04677571728825569,\n 0.285891056060791,\n 0.0,\n 1.0188686847686768,\n 0.05830322951078415,\n 0.0,\n 0.005145162343978882,\n 0.5371567010879517,\n 0.30892857909202576,\n 0.0,\n 0.22109559178352356,\n 0.09733080863952637,\n 0.03229431435465813,\n 0.0,\n 0.04647211730480194,\n 0.0,\n 0.4028535485267639,\n 0.3028576374053955,\n 0.0,\n 0.0,\n 0.0010799859883263707,\n 0.04559030383825302,\n 0.07083835452795029,\n 0.0,\n 0.20094022154808044,\n 0.0,\n 0.0,\n 0.04769290238618851,\n 0.7401320338249207,\n 0.9918162822723389,\n 0.5192906856536865,\n 0.5147697925567627,\n 0.3871624767780304,\n 0.0,\n 0.0,\n 0.0,\n 0.0,\n 0.6931283473968506,\n 0.050547823309898376,\n 0.0,\n 0.25600260496139526,\n 0.4906116724014282,\n 0.044624775648117065,\n 0.0,\n 0.6507002115249634,\n 0.12850052118301392,\n 0.055398039519786835,\n 0.0,\n 0.09270400553941727,\n 0.06022336706519127,\n 0.040904633700847626,\n 0.0,\n 0.0,\n 0.0,\n 0.7881883382797241,\n 0.520724356174469,\n 0.36406874656677246,\n 0.3610020577907562,\n 0.01608174480497837,\n 0.0,\n 0.0,\n 1.1822788715362549,\n 0.0,\n 0.17197054624557495,\n 0.044087912887334824,\n 0.0,\n 0.8025926947593689,\n 0.0,\n 0.5140340924263,\n 0.0,\n 0.0,\n 0.0963430106639862,\n 0.5999483466148376,\n 0.028146132826805115,\n 0.017849134281277657,\n 0.027934271842241287,\n 0.09017851203680038,\n 0.0,\n 0.7666077613830566,\n 0.061079446226358414,\n 0.7324990034103394,\n 0.0,\n 0.78668212890625,\n 0.0,\n 0.608925461769104,\n 0.20178574323654175,\n 0.0,\n 0.0,\n 0.0943966805934906,\n 0.02386934496462345,\n 0.40957218408584595,\n 1.1946139335632324,\n 0.027587486431002617,\n 0.0,\n 0.0,\n 0.009349502623081207,\n 0.1298661231994629,\n 0.07624354958534241,\n 0.023519596084952354,\n 0.010658410377800465,\n 0.018206046894192696,\n 0.5605712532997131,\n 0.03689044713973999,\n 0.0,\n 0.007928897626698017,\n 0.021212760359048843,\n 0.494635671377182,\n 0.037154827266931534,\n 0.17680874466896057,\n 0.09992864727973938,\n 0.07284894585609436,\n 0.03559519350528717,\n 0.12153759598731995,\n 0.0,\n 0.0,\n 0.41459864377975464,\n 0.025325018912553787,\n 0.0,\n 0.015594215132296085,\n 0.0,\n 0.028026415035128593,\n 0.03054187446832657,\n 0.5220720767974854,\n 0.0,\n 0.06394956260919571,\n 0.004867734387516975,\n 0.38178589940071106,\n 0.0,\n 0.056139569729566574,\n 0.4704817235469818,\n 0.06346572190523148,\n 0.05171307921409607,\n 0.4445655941963196,\n 0.013124524615705013,\n 0.07886538654565811,\n 0.4959976375102997,\n 0.194411039352417,\n 0.014514420181512833,\n 0.0,\n 0.0,\n 0.018025942146778107,\n 0.4091295599937439,\n 1.1485157012939453,\n 0.5133780837059021,\n 0.0,\n 0.021289872005581856,\n 0.03264250606298447,\n 0.7504761219024658,\n 0.14952132105827332,\n 0.22870858013629913,\n 0.3891701400279999,\n 0.000281230837572366,\n 0.8549989461898804,\n 0.48615550994873047,\n 0.020207663998007774,\n 0.3610791862010956,\n 0.30650320649147034,\n 0.16839133203029633,\n 0.06424571573734283,\n 0.30553048849105835,\n 0.35682597756385803,\n 0.0,\n 0.4885038435459137,\n 0.42297598719596863,\n 0.0,\n 0.8666260838508606,\n 0.469299852848053,\n 0.042681045830249786,\n 0.048653945326805115,\n 0.0,\n 0.0377822108566761,\n 0.11499690264463425,\n 0.014910999685525894,\n 0.05611315369606018,\n 0.009219389408826828,\n 0.0,\n 0.3919355273246765,\n 0.013981032185256481,\n 0.23726686835289001,\n 0.0,\n 0.06092158704996109,\n 0.0627923533320427,\n 0.0,\n 0.0,\n 0.0,\n 0.38935351371765137,\n 0.30282771587371826,\n 0.03760412335395813,\n 0.08213164657354355,\n 0.06379880011081696,\n 0.0,\n 0.0,\n 0.0,\n 0.5455761551856995,\n 0.8209162354469299,\n 0.23723669350147247,\n 0.6057858467102051,\n 0.4655836224555969,\n 0.41171619296073914,\n 0.10358191281557083,\n 0.20701709389686584,\n 0.010257110930979252,\n 0.04863027483224869,\n 0.22609329223632812,\n 0.7400096654891968,\n 0.02517000585794449,\n 0.0196844432502985,\n 0.6845413446426392,\n 0.6075921058654785,\n 0.07232831418514252,\n 0.0,\n 0.0,\n 0.009094863198697567,\n 0.014047456905245781,\n 0.0,\n 0.0,\n 0.3492777943611145,\n 0.1698867827653885,\n 0.09284396469593048,\n 0.0,\n 0.01005417201668024,\n 0.0,\n 0.0,\n 0.5319698452949524,\n 0.024994248524308205,\n 0.9880314469337463,\n 0.43901050090789795,\n 0.07709913700819016,\n 0.11622972786426544,\n 0.1536118984222412,\n 0.1298656165599823,\n 0.0,\n 0.5538445711135864,\n 0.0,\n 0.15370312333106995,\n 0.0,\n 0.13585448265075684,\n 0.032990459352731705,\n 0.0,\n 0.8945234417915344,\n 0.4250630736351013,\n 0.0,\n 0.07764975726604462,\n 0.015096754767000675,\n 0.035885266959667206,\n 0.04719335958361626,\n 0.05280040204524994,\n 0.8327500224113464,\n 0.0,\n 0.2304878830909729,\n 0.11704394221305847,\n 0.19227778911590576,\n 0.06495856493711472,\n 0.02028742805123329,\n 0.067320816218853,\n 0.22599683701992035,\n 0.5787200927734375,\n 0.05632903426885605,\n 0.07398110628128052,\n 0.26013898849487305,\n 0.0,\n 0.011457953602075577,\n 0.0,\n 0.0,\n 0.24827085435390472,\n 0.0,\n 0.0,\n 0.4798155725002289,\n 0.023259704932570457,\n 0.0029191537760198116,\n 0.45242854952812195,\n 0.49327418208122253,\n 0.0,\n 0.04773980379104614,\n 0.0,\n 0.0,\n 0.0,\n 0.29226794838905334,\n 0.0,\n 0.8145551085472107,\n 0.006505351513624191,\n 0.36044394969940186,\n 0.0982109010219574,\n 0.16378772258758545,\n 0.324758917093277,\n 0.04920365288853645,\n 0.09863148629665375,\n 0.0,\n 0.0,\n 0.0,\n 0.0,\n 0.0,\n 0.06346823275089264,\n 0.04092083126306534,\n 0.0,\n 0.6235934495925903,\n 1.3858258724212646,\n 0.0,\n 0.02496200241148472,\n 0.01964583620429039,\n 0.0,\n 0.5693581700325012,\n 0.011617020703852177,\n 0.4508627653121948,\n 0.0,\n 0.01310897059738636,\n 0.33494558930397034,\n 0.0,\n 1.120149850845337,\n 0.05385502800345421,\n 0.0,\n 0.7459954023361206,\n 0.6976349353790283,\n 0.0,\n 0.4425349533557892,\n 0.31688809394836426,\n 0.0,\n 0.28559717535972595,\n 0.12449221312999725,\n 0.04031798616051674,\n 0.0,\n 0.02764187380671501,\n 0.03201134502887726,\n 0.06101417914032936,\n 0.018425941467285156,\n 0.47194406390190125,\n 0.5429638028144836,\n 0.0,\n 0.06804633885622025,\n 0.23186177015304565,\n 0.2333952933549881,\n 0.04047852009534836,\n 0.03991931304335594,\n 0.0,\n 0.11834889650344849,\n 0.38944515585899353,\n 0.04105557128787041,\n 0.030138840898871422,\n 0.00970589742064476,\n 0.6284101009368896,\n 0.1434488147497177,\n 0.14854589104652405,\n 0.03878955543041229,\n 0.0,\n 0.07051265239715576,\n 0.03076201118528843,\n 0.05839311331510544,\n 0.0,\n 0.0031637675128877163,\n 0.337220698595047,\n 0.07774806022644043,\n 0.40136924386024475,\n 0.35736724734306335,\n 0.33810198307037354,\n 0.6000260710716248,\n 0.5664294958114624,\n 0.010403860360383987,\n 0.0,\n 0.33565786480903625,\n 0.11352650821208954,\n 0.0,\n 0.471097469329834,\n 0.1173369437456131,\n 0.0,\n 0.02418929524719715,\n 0.025334322825074196,\n 0.29867058992385864,\n 0.0,\n 0.20652572810649872,\n 0.24725192785263062,\n 0.616720974445343,\n 0.0,\n 0.7607865333557129,\n 0.4013218283653259]"
     },
     "execution_count": 12,
     "metadata": {},
     "output_type": "execute_result"
    }
   ],
   "source": [
    "collection.get(include=['embeddings', 'documents', 'metadatas'])['embeddings'][0]"
   ],
   "metadata": {
    "collapsed": false,
    "ExecuteTime": {
     "end_time": "2023-12-12T14:12:39.241088738Z",
     "start_time": "2023-12-12T14:12:35.603955716Z"
    }
   },
   "id": "92c2c5f4f0d472cb"
  },
  {
   "cell_type": "code",
   "execution_count": null,
   "outputs": [],
   "source": [],
   "metadata": {
    "collapsed": false
   },
   "id": "bda214d6f409c209"
  }
 ],
 "metadata": {
  "kernelspec": {
   "display_name": "Python 3",
   "language": "python",
   "name": "python3"
  },
  "language_info": {
   "codemirror_mode": {
    "name": "ipython",
    "version": 2
   },
   "file_extension": ".py",
   "mimetype": "text/x-python",
   "name": "python",
   "nbconvert_exporter": "python",
   "pygments_lexer": "ipython2",
   "version": "2.7.6"
  }
 },
 "nbformat": 4,
 "nbformat_minor": 5
}
