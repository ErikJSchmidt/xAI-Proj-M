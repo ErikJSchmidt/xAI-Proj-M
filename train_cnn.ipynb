{
 "cells": [
  {
   "cell_type": "code",
   "execution_count": 1,
   "id": "initial_id",
   "metadata": {
    "collapsed": true,
    "ExecuteTime": {
     "end_time": "2023-11-14T21:29:17.620502442Z",
     "start_time": "2023-11-14T21:29:15.183582075Z"
    }
   },
   "outputs": [],
   "source": [
    "import torch\n",
    "from torchvision.datasets import ImageFolder\n",
    "from torchvision.transforms import ToTensor\n",
    "from torch.utils.data import random_split\n",
    "from torch.utils.data.dataloader import DataLoader\n",
    "import torch.nn as nn\n",
    "import torch.nn.functional as F"
   ]
  },
  {
   "cell_type": "code",
   "execution_count": 2,
   "outputs": [],
   "source": [
    "train_dataset_root_path = \"./data/cifar10/train\"\n",
    "random_seed = 420\n",
    "torch.manual_seed(random_seed)\n",
    "batch_size = 128"
   ],
   "metadata": {
    "collapsed": false,
    "ExecuteTime": {
     "end_time": "2023-11-14T21:29:27.048749045Z",
     "start_time": "2023-11-14T21:29:27.018468253Z"
    }
   },
   "id": "9d36c17da68a9673"
  },
  {
   "cell_type": "markdown",
   "source": [
    "# Loading the dataset\n",
    "In the explore_dataset.ipynb we saw that the images of cifar are RGB images, so each image has a dimension of 32 * 32 * 3 (H * W * C).\n",
    "Now we load the the training dataset with help of the ImageFolder data loader, that is specific to dataset folder structures like cifar.\n",
    "By providing ToTensor as transform, images are transformed from PIL.Image.Image objects to tensors [C * H * W] and values are rescaled from [0,255] to [0.0, 1.0] "
   ],
   "metadata": {
    "collapsed": false
   },
   "id": "1a6547f56f67ba90"
  },
  {
   "cell_type": "code",
   "execution_count": 3,
   "outputs": [],
   "source": [
    "train_dataset = ImageFolder(\n",
    "    root=train_dataset_root_path,\n",
    "    transform=ToTensor()\n",
    ")"
   ],
   "metadata": {
    "collapsed": false,
    "ExecuteTime": {
     "end_time": "2023-11-14T21:29:28.440331760Z",
     "start_time": "2023-11-14T21:29:28.077435622Z"
    }
   },
   "id": "76a7a10f7c946641"
  },
  {
   "cell_type": "markdown",
   "source": [
    "ImageFolder inherits from VisionDataset, so it should be compatible with further torchvsion functions.  \n",
    "As we can see by inspecting the variable train_dataset, the ImageFolder or VisionDataset does not load all images at once, but creates an index structure over the existing folder structure (a mapping of index to image location on disk)\n",
    "# Splitting the dataset\n",
    "We set aside some of the training samples for validation. Given the VisionDataset the random_split function creates two new objects of type Subset. A subset consists of a reference to the orginal VisinonDataset aka ImageFolder and a sublist of the indices."
   ],
   "metadata": {
    "collapsed": false
   },
   "id": "a5fd885a45f2288f"
  },
  {
   "cell_type": "code",
   "execution_count": 4,
   "outputs": [],
   "source": [
    "validation_dataset_size = 5000\n",
    "train_dataset_size = len(train_dataset) - validation_dataset_size\n",
    "\n",
    "train_subset, validation_subset = random_split(train_dataset, [train_dataset_size, validation_dataset_size])"
   ],
   "metadata": {
    "collapsed": false,
    "ExecuteTime": {
     "end_time": "2023-11-14T21:29:29.987184612Z",
     "start_time": "2023-11-14T21:29:29.926039669Z"
    }
   },
   "id": "551eb0984969566d"
  },
  {
   "cell_type": "markdown",
   "source": [
    "# DataLoaders\n",
    "DataLoaders are yet another layer on top of the Subsets we created. Each dataloader combines a sampling method, e.g. randomly picking samples, with a dataset so that we can easily draw \n",
    "batches of samples."
   ],
   "metadata": {
    "collapsed": false
   },
   "id": "330e2b0271a8927f"
  },
  {
   "cell_type": "code",
   "execution_count": 5,
   "outputs": [],
   "source": [
    "train_data_loader = DataLoader(\n",
    "    dataset=train_subset,\n",
    "    batch_size=batch_size,\n",
    "    shuffle=True,\n",
    "    num_workers=4,\n",
    "    pin_memory=False  # should be True if cuda is available\n",
    ")\n",
    "validation_data_loader = DataLoader(\n",
    "    dataset=validation_subset,\n",
    "    batch_size=batch_size,\n",
    "    shuffle=True,\n",
    "    num_workers=4,\n",
    "    pin_memory=False  # should be True if cuda is available\n",
    ")"
   ],
   "metadata": {
    "collapsed": false,
    "ExecuteTime": {
     "end_time": "2023-11-14T21:29:31.507370290Z",
     "start_time": "2023-11-14T21:29:31.467419825Z"
    }
   },
   "id": "b9b542828884ef58"
  },
  {
   "cell_type": "markdown",
   "source": [
    "# Constructing the CNN Network"
   ],
   "metadata": {
    "collapsed": false
   },
   "id": "7a368023ca7868c0"
  },
  {
   "cell_type": "code",
   "execution_count": 6,
   "outputs": [],
   "source": [
    "from models import Cifar10CnnModel, accuracy, evaluate, fit"
   ],
   "metadata": {
    "collapsed": false,
    "ExecuteTime": {
     "end_time": "2023-11-14T21:29:33.015607066Z",
     "start_time": "2023-11-14T21:29:32.884699282Z"
    }
   },
   "id": "3197f522c224de63"
  },
  {
   "cell_type": "code",
   "execution_count": 7,
   "outputs": [],
   "source": [
    "model = Cifar10CnnModel()"
   ],
   "metadata": {
    "collapsed": false,
    "ExecuteTime": {
     "end_time": "2023-11-14T21:29:35.463324908Z",
     "start_time": "2023-11-14T21:29:35.266586278Z"
    }
   },
   "id": "309d9934d5339972"
  },
  {
   "cell_type": "code",
   "execution_count": 9,
   "outputs": [
    {
     "data": {
      "text/plain": "{'val_loss': 2.3028876781463623, 'val_acc': 0.10051688551902771}"
     },
     "execution_count": 9,
     "metadata": {},
     "output_type": "execute_result"
    }
   ],
   "source": [
    "evaluate(model, train_data_loader)"
   ],
   "metadata": {
    "collapsed": false,
    "ExecuteTime": {
     "end_time": "2023-11-14T21:32:15.947591776Z",
     "start_time": "2023-11-14T21:29:50.666764264Z"
    }
   },
   "id": "93014a3adfddb5ee"
  },
  {
   "cell_type": "markdown",
   "source": [
    "=> without training 0.10051 accuracy makes sense with 10 classes"
   ],
   "metadata": {
    "collapsed": false
   },
   "id": "82ac0e36679e6121"
  },
  {
   "cell_type": "code",
   "execution_count": 10,
   "outputs": [],
   "source": [
    "num_epochs = 10\n",
    "opt_func = torch.optim.Adam\n",
    "lr = 0.001"
   ],
   "metadata": {
    "collapsed": false,
    "ExecuteTime": {
     "end_time": "2023-11-14T21:36:10.259161832Z",
     "start_time": "2023-11-14T21:36:10.194420082Z"
    }
   },
   "id": "6eb332228cf3f1d4"
  },
  {
   "cell_type": "markdown",
   "source": [
    "**Note**: I do not have CUDA available locally, so up to here nothing is done to shift load to the GPU. Should move to Colab and make use of GPU as training seems not feasible with my laptop CPU... (after 41 minutes not one of 10 epochs is done)"
   ],
   "metadata": {
    "collapsed": false
   },
   "id": "19a226387290cf24"
  },
  {
   "cell_type": "code",
   "execution_count": null,
   "outputs": [],
   "source": [
    "history = fit(num_epochs, lr, model, train_data_loader, validation_data_loader, opt_func)"
   ],
   "metadata": {
    "collapsed": false,
    "is_executing": true,
    "ExecuteTime": {
     "start_time": "2023-11-14T21:41:03.338115143Z"
    }
   },
   "id": "7e961e6f942b6cfb"
  },
  {
   "cell_type": "code",
   "execution_count": null,
   "outputs": [],
   "source": [],
   "metadata": {
    "collapsed": false
   },
   "id": "cf1f2dace2696160"
  }
 ],
 "metadata": {
  "kernelspec": {
   "display_name": "Python 3",
   "language": "python",
   "name": "python3"
  },
  "language_info": {
   "codemirror_mode": {
    "name": "ipython",
    "version": 2
   },
   "file_extension": ".py",
   "mimetype": "text/x-python",
   "name": "python",
   "nbconvert_exporter": "python",
   "pygments_lexer": "ipython2",
   "version": "2.7.6"
  }
 },
 "nbformat": 4,
 "nbformat_minor": 5
}
