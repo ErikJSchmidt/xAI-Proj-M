{
 "cells": [
  {
   "cell_type": "code",
   "execution_count": 1,
   "id": "initial_id",
   "metadata": {
    "collapsed": true,
    "ExecuteTime": {
     "end_time": "2023-12-03T19:32:47.687798826Z",
     "start_time": "2023-12-03T19:32:43.588080284Z"
    }
   },
   "outputs": [],
   "source": [
    "from importlib import reload\n",
    "from model_trainer import ModelTrainer\n",
    "from train import download_and_unpack_dataset, train\n",
    "\n",
    "import json"
   ]
  },
  {
   "cell_type": "code",
   "execution_count": 2,
   "outputs": [
    {
     "name": "stdout",
     "output_type": "stream",
     "text": [
      "{'model_name': 'Plain18Layer', 'store_model_dir_rel_path': '/savedmodels', 'train_dataset_dir_rel_path': '/data/cifar10/train', 'test_dataset_dir_rel_path': '/data/cifar10/test', 'dataset_root_dir_rel_path': '/data', 'random_seed': 420, 'batch_size': 256, 'epochs': 20, 'learning_rate': 0.01}\n"
     ]
    }
   ],
   "source": [
    "root_dir = \"/home/erik/Desktop/WiSe2023_24/xAI-Proj-M/xAI-Proj-M/custom_cnn\"\n",
    "\n",
    "config_file = open(root_dir + \"/trainer_config.json\", 'r')\n",
    "config = json.load(config_file)\n",
    "config_file.close()\n",
    "\n",
    "print(config)"
   ],
   "metadata": {
    "collapsed": false,
    "ExecuteTime": {
     "end_time": "2023-12-03T19:32:47.732377698Z",
     "start_time": "2023-12-03T19:32:47.688974549Z"
    }
   },
   "id": "d838504084d7129a"
  },
  {
   "cell_type": "code",
   "execution_count": 3,
   "outputs": [
    {
     "name": "stdout",
     "output_type": "stream",
     "text": [
      "Data already downloaded\n"
     ]
    }
   ],
   "source": [
    "download_and_unpack_dataset(root_dir + config['dataset_root_dir_rel_path'])"
   ],
   "metadata": {
    "collapsed": false,
    "ExecuteTime": {
     "end_time": "2023-12-03T19:32:47.784404345Z",
     "start_time": "2023-12-03T19:32:47.699760171Z"
    }
   },
   "id": "4aad25205dfdbcb"
  },
  {
   "cell_type": "code",
   "execution_count": null,
   "outputs": [
    {
     "name": "stdout",
     "output_type": "stream",
     "text": [
      "Load train data from /home/erik/Desktop/WiSe2023_24/xAI-Proj-M/xAI-Proj-M/custom_cnn/data/cifar10/train\n",
      "Load test data from /home/erik/Desktop/WiSe2023_24/xAI-Proj-M/xAI-Proj-M/custom_cnn/data/cifar10/test\n",
      "Detected device:  cpu\n",
      "Epoce: 0\n"
     ]
    }
   ],
   "source": [
    "train(root_dir, config)"
   ],
   "metadata": {
    "collapsed": false,
    "is_executing": true,
    "ExecuteTime": {
     "start_time": "2023-12-03T19:32:50.451239600Z"
    }
   },
   "id": "17a653e495b0331f"
  },
  {
   "cell_type": "markdown",
   "source": [
    "## Load model and test"
   ],
   "metadata": {
    "collapsed": false
   },
   "id": "46ddb28a71f5e8d5"
  },
  {
   "cell_type": "code",
   "execution_count": 5,
   "outputs": [],
   "source": [
    "from model_plain_18_layer import Plain18Layer\n",
    "from model_wrapper import ModelWrapper\n",
    "from torchvision.datasets import ImageFolder\n",
    "from torchvision.transforms import ToTensor\n",
    "from torch.utils.data.dataloader import DataLoader"
   ],
   "metadata": {
    "collapsed": false,
    "ExecuteTime": {
     "end_time": "2023-12-03T19:08:44.231024541Z",
     "start_time": "2023-12-03T19:08:44.182065480Z"
    }
   },
   "id": "d6b6c0f2f3b918a9"
  },
  {
   "cell_type": "code",
   "execution_count": 6,
   "outputs": [],
   "source": [
    "from torchvision.datasets import ImageFolder\n",
    "\n",
    "test_dataset = ImageFolder(\n",
    "    root=\"/home/erik/Desktop/WiSe2023_24/xAI-Proj-M/xAI-Proj-M/custom_cnn/data/cifar10/test\",\n",
    "    transform=ToTensor()\n",
    ")\n",
    "# Create DataLoader\n",
    "test_data_loader = DataLoader(\n",
    "    dataset=test_dataset,\n",
    "    batch_size=128,\n",
    "    shuffle=True,\n",
    "    num_workers=2,\n",
    "    pin_memory=False  # should be True if cuda is available\n",
    ")"
   ],
   "metadata": {
    "collapsed": false,
    "ExecuteTime": {
     "end_time": "2023-12-03T19:08:47.543199525Z",
     "start_time": "2023-12-03T19:08:47.355947899Z"
    }
   },
   "id": "8ac4f76114ca02b3"
  },
  {
   "cell_type": "code",
   "execution_count": 8,
   "outputs": [
    {
     "data": {
      "text/plain": "{'mean_loss': 2.302595615386963, 'mean_acc': 0.10166139155626297}"
     },
     "execution_count": 8,
     "metadata": {},
     "output_type": "execute_result"
    }
   ],
   "source": [
    "\n",
    "model = Plain18Layer()\n",
    "model_wrapper = ModelWrapper(model)\n",
    "\n",
    "model_wrapper.load_model_weights(\"/home/erik/Desktop/WiSe2023_24/xAI-Proj-M/xAI-Proj-M/custom_cnn/savedmodels/Plain18Layer_20231203_2001/model_state_dict\")\n",
    "\n",
    "model_wrapper.evaluate_model(test_data_loader)\n"
   ],
   "metadata": {
    "collapsed": false,
    "ExecuteTime": {
     "end_time": "2023-12-03T19:10:22.798494231Z",
     "start_time": "2023-12-03T19:10:06.133585087Z"
    }
   },
   "id": "a47e89d7b019a60d"
  },
  {
   "cell_type": "code",
   "execution_count": null,
   "outputs": [],
   "source": [],
   "metadata": {
    "collapsed": false
   },
   "id": "e3d579c27fb4680f"
  }
 ],
 "metadata": {
  "kernelspec": {
   "display_name": "Python 3",
   "language": "python",
   "name": "python3"
  },
  "language_info": {
   "codemirror_mode": {
    "name": "ipython",
    "version": 2
   },
   "file_extension": ".py",
   "mimetype": "text/x-python",
   "name": "python",
   "nbconvert_exporter": "python",
   "pygments_lexer": "ipython2",
   "version": "2.7.6"
  }
 },
 "nbformat": 4,
 "nbformat_minor": 5
}
