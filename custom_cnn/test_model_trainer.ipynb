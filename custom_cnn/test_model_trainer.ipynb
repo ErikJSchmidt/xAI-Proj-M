{
 "cells": [
  {
   "cell_type": "code",
   "execution_count": 1,
   "id": "initial_id",
   "metadata": {
    "collapsed": true,
    "ExecuteTime": {
     "end_time": "2023-12-04T11:56:01.492150689Z",
     "start_time": "2023-12-04T11:55:58.068398694Z"
    }
   },
   "outputs": [],
   "source": [
    "from importlib import reload\n",
    "from model_trainer import ModelTrainer\n",
    "from importlib import reload\n",
    "from train import download_and_unpack_dataset, train\n",
    "\n",
    "import json"
   ]
  },
  {
   "cell_type": "code",
   "execution_count": 2,
   "outputs": [
    {
     "name": "stdout",
     "output_type": "stream",
     "text": [
      "{'model_name': 'Plain18Layer', 'store_model_dir_rel_path': '/savedmodels', 'train_dataset_dir_rel_path': '/data/cifar10/train', 'test_dataset_dir_rel_path': '/data/cifar10/test', 'dataset_root_dir_rel_path': '/data', 'random_seed': 420, 'batch_size': 256, 'epochs': 40, 'learning_rate_start': 0.1, 'weight_decay': 0.0001, 'momentum': 0.9, 'lr_reduce_patience': 10}\n"
     ]
    }
   ],
   "source": [
    "root_dir = \"/home/erik/Desktop/WiSe2023_24/xAI-Proj-M/xAI-Proj-M/custom_cnn\"\n",
    "\n",
    "config_file = open(root_dir + \"/trainer_config.json\", 'r')\n",
    "config = json.load(config_file)\n",
    "config_file.close()\n",
    "\n",
    "print(config)"
   ],
   "metadata": {
    "collapsed": false,
    "ExecuteTime": {
     "end_time": "2023-12-04T11:56:03.866194922Z",
     "start_time": "2023-12-04T11:56:03.819852951Z"
    }
   },
   "id": "d838504084d7129a"
  },
  {
   "cell_type": "code",
   "execution_count": 3,
   "outputs": [
    {
     "name": "stdout",
     "output_type": "stream",
     "text": [
      "Data already downloaded\n"
     ]
    }
   ],
   "source": [
    "download_and_unpack_dataset(root_dir + config['dataset_root_dir_rel_path'])"
   ],
   "metadata": {
    "collapsed": false,
    "ExecuteTime": {
     "end_time": "2023-12-03T19:32:47.784404345Z",
     "start_time": "2023-12-03T19:32:47.699760171Z"
    }
   },
   "id": "4aad25205dfdbcb"
  },
  {
   "cell_type": "code",
   "execution_count": null,
   "outputs": [
    {
     "name": "stdout",
     "output_type": "stream",
     "text": [
      "Load train data from /home/erik/Desktop/WiSe2023_24/xAI-Proj-M/xAI-Proj-M/custom_cnn/data/cifar10/train\n",
      "Load test data from /home/erik/Desktop/WiSe2023_24/xAI-Proj-M/xAI-Proj-M/custom_cnn/data/cifar10/test\n",
      "Detected device:  cpu\n",
      "Epoce: 0\n"
     ]
    }
   ],
   "source": [
    "train(root_dir, config)"
   ],
   "metadata": {
    "collapsed": false,
    "is_executing": true,
    "ExecuteTime": {
     "start_time": "2023-12-03T19:32:50.451239600Z"
    }
   },
   "id": "17a653e495b0331f"
  },
  {
   "cell_type": "markdown",
   "source": [
    "## Load model and test\n",
    "Here we load different fitted models and display their performance"
   ],
   "metadata": {
    "collapsed": false
   },
   "id": "46ddb28a71f5e8d5"
  },
  {
   "cell_type": "code",
   "execution_count": 3,
   "outputs": [],
   "source": [
    "from model_wrapper import ModelWrapper\n",
    "from torchvision.datasets import ImageFolder\n",
    "from torchvision.transforms import ToTensor\n",
    "from torch.utils.data.dataloader import DataLoader\n",
    "import json\n",
    "import matplotlib.pyplot as plt"
   ],
   "metadata": {
    "collapsed": false,
    "ExecuteTime": {
     "end_time": "2023-12-04T11:56:08.773104201Z",
     "start_time": "2023-12-04T11:56:07.368104401Z"
    }
   },
   "id": "d6b6c0f2f3b918a9"
  },
  {
   "cell_type": "code",
   "execution_count": 4,
   "outputs": [],
   "source": [
    "\n",
    "test_dataset = ImageFolder(\n",
    "    root=\"/home/erik/Desktop/WiSe2023_24/xAI-Proj-M/xAI-Proj-M/custom_cnn/data/cifar10/test\",\n",
    "    transform=ToTensor()\n",
    ")\n",
    "# Create DataLoader\n",
    "test_data_loader = DataLoader(\n",
    "    dataset=test_dataset,\n",
    "    batch_size=256,\n",
    "    shuffle=True,\n",
    "    num_workers=4,\n",
    "    pin_memory=False  # should be True if cuda is available\n",
    ")"
   ],
   "metadata": {
    "collapsed": false,
    "ExecuteTime": {
     "end_time": "2023-12-04T11:56:08.895620071Z",
     "start_time": "2023-12-04T11:56:08.786376754Z"
    }
   },
   "id": "8ac4f76114ca02b3"
  },
  {
   "cell_type": "code",
   "execution_count": 5,
   "outputs": [],
   "source": [
    "def plot_learn_curve(val_metric_key, train_metric_key, training_run):\n",
    "    val_losses = [x[val_metric_key] for x in training_run['training_history']]\n",
    "    train_losses = [x[train_metric_key] for x in training_run['training_history']]\n",
    "    plt.plot(val_losses, label=val_metric_key)\n",
    "    plt.plot(train_losses, label=train_metric_key)\n",
    "    plt.xlabel(\"epoch\")\n",
    "    plt.legend()\n",
    "    plt.show()"
   ],
   "metadata": {
    "collapsed": false,
    "ExecuteTime": {
     "end_time": "2023-12-04T11:56:10.250649335Z",
     "start_time": "2023-12-04T11:56:10.218147532Z"
    }
   },
   "id": "a553e37060570d26"
  },
  {
   "cell_type": "markdown",
   "source": [
    "## Plain18Layer\n",
    "This model resembles the 18 Layer CNN from the ResNet paper as close as possible.\n",
    "The ModelTrainer uses SGD with same parameters and reduce learning rate on plateau strategy."
   ],
   "metadata": {
    "collapsed": false
   },
   "id": "211992160e7db895"
  },
  {
   "cell_type": "code",
   "execution_count": 6,
   "outputs": [
    {
     "data": {
      "text/plain": "{'mean_loss': 1.7039111852645874, 'mean_acc': 0.756542980670929}"
     },
     "execution_count": 6,
     "metadata": {},
     "output_type": "execute_result"
    }
   ],
   "source": [
    "from model_plain_18_layer import Plain18Layer\n",
    "\n",
    "model_subfolder_path = \"/home/erik/Desktop/WiSe2023_24/xAI-Proj-M/xAI-Proj-M/custom_cnn/savedmodels/Plain18Layer_20231203_2213\"\n",
    "# Load the model, which is just the nn.Module containing the CNN architecture and a forward function\n",
    "model = Plain18Layer()\n",
    "# The model wrapper adds functions for training and evaluation on top of the underlying model\n",
    "model_wrapper = ModelWrapper(model)\n",
    "# Load the already fitted weights into the model architecture\n",
    "model_wrapper.load_model_weights(model_subfolder_path + \"/model_state_dict\")\n",
    "# Evaluate the model on the test data\n",
    "model_wrapper.evaluate_model(test_data_loader)"
   ],
   "metadata": {
    "collapsed": false,
    "ExecuteTime": {
     "end_time": "2023-12-04T11:17:07.194655717Z",
     "start_time": "2023-12-04T11:16:46.448785357Z"
    }
   },
   "id": "a47e89d7b019a60d"
  },
  {
   "cell_type": "code",
   "execution_count": 7,
   "outputs": [],
   "source": [
    "training_run_file = open(model_subfolder_path + \"/training_run.json\", \"r\")\n",
    "training_run = json.load(training_run_file)\n",
    "training_run_file.close()"
   ],
   "metadata": {
    "collapsed": false,
    "ExecuteTime": {
     "end_time": "2023-12-04T11:17:11.433137958Z",
     "start_time": "2023-12-04T11:17:11.394065023Z"
    }
   },
   "id": "e3d579c27fb4680f"
  },
  {
   "cell_type": "code",
   "execution_count": 11,
   "outputs": [
    {
     "data": {
      "text/plain": "<Figure size 640x480 with 1 Axes>",
      "image/png": "[encoded data removed]"
     },
     "metadata": {},
     "output_type": "display_data"
    }
   ],
   "source": [
    "plot_learn_curve(\"val_loss\", \"train_loss\", training_run)"
   ],
   "metadata": {
    "collapsed": false,
    "ExecuteTime": {
     "end_time": "2023-12-04T11:18:15.565399011Z",
     "start_time": "2023-12-04T11:18:14.656776770Z"
    }
   },
   "id": "4e5de7aeee029964"
  },
  {
   "cell_type": "code",
   "execution_count": 12,
   "outputs": [
    {
     "data": {
      "text/plain": "<Figure size 640x480 with 1 Axes>",
      "image/png": "[encoded data removed]"
     },
     "metadata": {},
     "output_type": "display_data"
    }
   ],
   "source": [
    "plot_learn_curve(\"val_acc\", \"train_acc\", training_run)"
   ],
   "metadata": {
    "collapsed": false,
    "ExecuteTime": {
     "end_time": "2023-12-04T11:18:17.958090918Z",
     "start_time": "2023-12-04T11:18:16.983265540Z"
    }
   },
   "id": "fdcabe2e5e78bd9"
  },
  {
   "cell_type": "markdown",
   "source": [
    "### Plain32Layer"
   ],
   "metadata": {
    "collapsed": false
   },
   "id": "8c5e316387347134"
  },
  {
   "cell_type": "code",
   "execution_count": 6,
   "outputs": [
    {
     "data": {
      "text/plain": "{'mean_loss': 2.3026223182678223, 'mean_acc': 0.09765625}"
     },
     "execution_count": 6,
     "metadata": {},
     "output_type": "execute_result"
    }
   ],
   "source": [
    "from model_plain_32_layer import Plain32Layer\n",
    "\n",
    "model_subfolder_path = \"/home/erik/Desktop/WiSe2023_24/xAI-Proj-M/xAI-Proj-M/custom_cnn/savedmodels/Plain18Layer_20231203_2213\"\n",
    "# Load the model, which is just the nn.Module containing the CNN architecture and a forward function\n",
    "model = Plain32Layer()\n",
    "# The model wrapper adds functions for training and evaluation on top of the underlying model\n",
    "model_wrapper = ModelWrapper(model)\n",
    "# Load the already fitted weights into the model architecture\n",
    "# model_wrapper.load_model_weights(model_subfolder_path + \"/model_state_dict\")\n",
    "# Evaluate the model on the test data\n",
    "model_wrapper.evaluate_model(test_data_loader)"
   ],
   "metadata": {
    "collapsed": false,
    "ExecuteTime": {
     "end_time": "2023-12-04T11:56:47.880624059Z",
     "start_time": "2023-12-04T11:56:24.700572884Z"
    }
   },
   "id": "4146edbe5adc24b2"
  },
  {
   "cell_type": "code",
   "execution_count": null,
   "outputs": [],
   "source": [],
   "metadata": {
    "collapsed": false
   },
   "id": "104e52149ec7e114"
  }
 ],
 "metadata": {
  "kernelspec": {
   "display_name": "Python 3",
   "language": "python",
   "name": "python3"
  },
  "language_info": {
   "codemirror_mode": {
    "name": "ipython",
    "version": 2
   },
   "file_extension": ".py",
   "mimetype": "text/x-python",
   "name": "python",
   "nbconvert_exporter": "python",
   "pygments_lexer": "ipython2",
   "version": "2.7.6"
  }
 },
 "nbformat": 4,
 "nbformat_minor": 5
}
