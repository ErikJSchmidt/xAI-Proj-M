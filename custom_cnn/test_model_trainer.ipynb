{
 "cells": [
  {
   "cell_type": "code",
   "execution_count": 1,
   "id": "initial_id",
   "metadata": {
    "collapsed": true,
    "ExecuteTime": {
     "end_time": "2023-12-03T17:58:20.955345253Z",
     "start_time": "2023-12-03T17:58:17.847489626Z"
    }
   },
   "outputs": [],
   "source": [
    "from importlib import reload\n",
    "from model_trainer import ModelTrainer\n",
    "from train import download_and_unpack_dataset, train\n",
    "\n",
    "import json"
   ]
  },
  {
   "cell_type": "code",
   "execution_count": 2,
   "outputs": [
    {
     "name": "stdout",
     "output_type": "stream",
     "text": [
      "{'model_name': 'Plain18Layer', 'store_model_dir_rel_path': '/savedmodels', 'train_dataset_dir_rel_path': '/data/cifar10/train', 'test_dataset_dir_rel_path': '/data/cifar10/test', 'dataset_root_dir_rel_path': '/data', 'random_seed': 420, 'batch_size': 256, 'epochs': 20, 'learning_rate': 0.01}\n"
     ]
    }
   ],
   "source": [
    "root_dir = \"/home/erik/Desktop/WiSe2023_24/xAI-Proj-M/xAI-Proj-M/custom_cnn\"\n",
    "\n",
    "config_file = open(root_dir + \"/trainer_config.json\", 'r')\n",
    "config = json.load(config_file)\n",
    "config_file.close()\n",
    "\n",
    "print(config)"
   ],
   "metadata": {
    "collapsed": false,
    "ExecuteTime": {
     "end_time": "2023-12-03T17:58:21.070810111Z",
     "start_time": "2023-12-03T17:58:20.963675690Z"
    }
   },
   "id": "d838504084d7129a"
  },
  {
   "cell_type": "code",
   "execution_count": 3,
   "outputs": [
    {
     "name": "stdout",
     "output_type": "stream",
     "text": [
      "Data already downloaded\n"
     ]
    }
   ],
   "source": [
    "download_and_unpack_dataset(root_dir + config['dataset_root_dir_rel_path'])"
   ],
   "metadata": {
    "collapsed": false,
    "ExecuteTime": {
     "end_time": "2023-12-03T17:58:22.718995877Z",
     "start_time": "2023-12-03T17:58:22.672557422Z"
    }
   },
   "id": "4aad25205dfdbcb"
  },
  {
   "cell_type": "code",
   "execution_count": null,
   "outputs": [
    {
     "name": "stdout",
     "output_type": "stream",
     "text": [
      "Load train data from /home/erik/Desktop/WiSe2023_24/xAI-Proj-M/xAI-Proj-M/custom_cnn/data/cifar10/train\n",
      "Load test data from /home/erik/Desktop/WiSe2023_24/xAI-Proj-M/xAI-Proj-M/custom_cnn/data/cifar10/test\n",
      "Detected device:  cpu\n",
      "Epoce: 0\n"
     ]
    }
   ],
   "source": [
    "train(root_dir, config)"
   ],
   "metadata": {
    "collapsed": false,
    "is_executing": true,
    "ExecuteTime": {
     "start_time": "2023-12-03T17:58:23.700673784Z"
    }
   },
   "id": "17a653e495b0331f"
  },
  {
   "cell_type": "code",
   "execution_count": null,
   "outputs": [],
   "source": [],
   "metadata": {
    "collapsed": false
   },
   "id": "79494226f746a6ba"
  }
 ],
 "metadata": {
  "kernelspec": {
   "display_name": "Python 3",
   "language": "python",
   "name": "python3"
  },
  "language_info": {
   "codemirror_mode": {
    "name": "ipython",
    "version": 2
   },
   "file_extension": ".py",
   "mimetype": "text/x-python",
   "name": "python",
   "nbconvert_exporter": "python",
   "pygments_lexer": "ipython2",
   "version": "2.7.6"
  }
 },
 "nbformat": 4,
 "nbformat_minor": 5
}
