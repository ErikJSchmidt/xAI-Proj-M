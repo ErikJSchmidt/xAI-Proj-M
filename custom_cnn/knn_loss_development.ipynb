{
 "cells": [
  {
   "cell_type": "code",
   "execution_count": 9,
   "metadata": {},
   "outputs": [],
   "source": [
    "import numpy as np\n",
    "import torch\n",
    "import torch.nn as nn\n",
    "import torch.nn.functional as F"
   ]
  },
  {
   "cell_type": "code",
   "execution_count": 10,
   "metadata": {},
   "outputs": [],
   "source": [
    "def euclidean_distance(tensor_a, tensor_b, dim = 0):\n",
    "    return (tensor_b - tensor_a).pow(2).sum(dim).sqrt()"
   ]
  },
  {
   "cell_type": "code",
   "execution_count": 11,
   "metadata": {},
   "outputs": [],
   "source": [
    "input = torch.randn(256, 128, 1, requires_grad=True)\n",
    "target = torch.rand(256, 1, 1)\n",
    "target = target.mul(9)\n",
    "target = target.absolute()\n",
    "target = target.round()\n",
    "\n",
    "classes = [0, 1, 2, 3, 4, 5, 6, 7, 8, 9]"
   ]
  },
  {
   "cell_type": "code",
   "execution_count": 12,
   "metadata": {},
   "outputs": [
    {
     "data": {
      "text/plain": [
       "tensor([[ 0.1914],\n",
       "        [ 1.2628],\n",
       "        [ 0.0871],\n",
       "        [ 0.9749],\n",
       "        [ 0.0387],\n",
       "        [ 0.8495],\n",
       "        [-0.7429],\n",
       "        [ 1.9241],\n",
       "        [-0.0908],\n",
       "        [-0.0222],\n",
       "        [-0.1082],\n",
       "        [-1.4186],\n",
       "        [ 0.7260],\n",
       "        [ 1.2859],\n",
       "        [-0.0518],\n",
       "        [ 1.3867],\n",
       "        [ 0.4198],\n",
       "        [-1.3410],\n",
       "        [ 1.1393],\n",
       "        [ 0.6238],\n",
       "        [-0.0919],\n",
       "        [ 1.8210],\n",
       "        [-0.2215],\n",
       "        [ 0.1737],\n",
       "        [-1.2789],\n",
       "        [-1.4505],\n",
       "        [-2.5339],\n",
       "        [ 0.0416],\n",
       "        [ 1.0505],\n",
       "        [ 0.3185],\n",
       "        [-1.3754],\n",
       "        [ 0.7929],\n",
       "        [ 0.3113],\n",
       "        [-0.9262],\n",
       "        [-1.5360],\n",
       "        [-0.2094],\n",
       "        [ 1.5960],\n",
       "        [ 0.0567],\n",
       "        [ 0.1996],\n",
       "        [-0.7823],\n",
       "        [-0.1736],\n",
       "        [ 0.6083],\n",
       "        [ 0.4868],\n",
       "        [ 0.2961],\n",
       "        [-0.6717],\n",
       "        [-0.5577],\n",
       "        [-0.2424],\n",
       "        [-0.8633],\n",
       "        [-0.6058],\n",
       "        [ 0.4986],\n",
       "        [-0.4170],\n",
       "        [-0.0305],\n",
       "        [ 0.4647],\n",
       "        [ 0.0416],\n",
       "        [-0.1754],\n",
       "        [-2.1233],\n",
       "        [-0.7960],\n",
       "        [ 1.4699],\n",
       "        [-1.0828],\n",
       "        [-0.6875],\n",
       "        [-1.6223],\n",
       "        [-0.2742],\n",
       "        [ 1.2533],\n",
       "        [ 1.5233],\n",
       "        [-0.3333],\n",
       "        [ 0.8390],\n",
       "        [-0.1516],\n",
       "        [-0.6928],\n",
       "        [ 0.3082],\n",
       "        [-0.5634],\n",
       "        [ 0.4818],\n",
       "        [ 0.5143],\n",
       "        [-0.1138],\n",
       "        [ 0.9000],\n",
       "        [ 3.0682],\n",
       "        [ 0.2578],\n",
       "        [-1.5371],\n",
       "        [ 0.8821],\n",
       "        [ 0.1083],\n",
       "        [ 0.8944],\n",
       "        [ 0.8035],\n",
       "        [-0.4742],\n",
       "        [-1.5457],\n",
       "        [-1.1656],\n",
       "        [ 1.3572],\n",
       "        [-1.2987],\n",
       "        [-0.0242],\n",
       "        [-0.1578],\n",
       "        [-0.0091],\n",
       "        [ 1.7322],\n",
       "        [ 0.9437],\n",
       "        [ 0.2524],\n",
       "        [-0.8708],\n",
       "        [ 2.2915],\n",
       "        [-0.0378],\n",
       "        [-0.2629],\n",
       "        [ 0.5123],\n",
       "        [ 2.1319],\n",
       "        [ 0.9520],\n",
       "        [-1.2856],\n",
       "        [ 0.0564],\n",
       "        [-1.1559],\n",
       "        [ 0.5352],\n",
       "        [ 0.0974],\n",
       "        [ 0.5845],\n",
       "        [ 1.3198],\n",
       "        [-0.7783],\n",
       "        [-0.9092],\n",
       "        [ 0.5891],\n",
       "        [ 1.6408],\n",
       "        [-0.1856],\n",
       "        [-0.6095],\n",
       "        [ 0.4886],\n",
       "        [-0.5503],\n",
       "        [ 0.3928],\n",
       "        [-0.7242],\n",
       "        [-2.8917],\n",
       "        [ 1.9278],\n",
       "        [-0.0683],\n",
       "        [ 1.2607],\n",
       "        [ 1.4403],\n",
       "        [ 0.4914],\n",
       "        [-0.7635],\n",
       "        [-0.0998],\n",
       "        [ 1.3304],\n",
       "        [-0.3643],\n",
       "        [-0.3238],\n",
       "        [ 0.6835]], grad_fn=<SelectBackward0>)"
      ]
     },
     "execution_count": 12,
     "metadata": {},
     "output_type": "execute_result"
    }
   ],
   "source": [
    "input[0]"
   ]
  },
  {
   "cell_type": "code",
   "execution_count": 17,
   "metadata": {},
   "outputs": [],
   "source": [
    "def prepare(input, target, classes):\n",
    "    batch_size = input.shape[0]\n",
    "    # batch_size\n",
    "    centroids = []\n",
    "    for _class in classes:\n",
    "        class_tensors = []\n",
    "        for i in range(batch_size):\n",
    "            if target[i] == _class:\n",
    "                class_tensors.append(input[i])\n",
    "        stacked_tensor = torch.stack(class_tensors)\n",
    "        centroids.append(torch.mean(stacked_tensor, dim = 0))\n",
    "\n",
    "    # self.centroids = torch.stack(centroids)\n",
    "\n",
    "    # Jedes Element in centroids ist weiterhin ableitbar, aber centroids darf selbst nicht weiterverwendet werden.\n",
    "\n",
    "    distances = []\n",
    "    for centroid_a in centroids:\n",
    "        local_distances = []\n",
    "        for centroid_b in centroids:\n",
    "            if not torch.equal(centroid_a, centroid_b):\n",
    "                local_distances.append(euclidean_distance(centroid_a, centroid_b))\n",
    "        local_tensor = torch.stack(local_distances)\n",
    "        distances.append(torch.mean(local_tensor))      \n",
    "\n",
    "    # (centroids[0] - centroids[1]).pow(2).sum(0).sqrt()\n",
    "    return distances, centroids"
   ]
  },
  {
   "cell_type": "code",
   "execution_count": 18,
   "metadata": {},
   "outputs": [],
   "source": [
    "dis, cen = prepare(input, target, classes)"
   ]
  },
  {
   "cell_type": "code",
   "execution_count": 20,
   "metadata": {},
   "outputs": [
    {
     "data": {
      "text/plain": [
       "tensor([3.9760, 3.2155, 3.0312, 2.9166, 3.3240, 3.1716, 3.2446, 2.9944, 3.2826,\n",
       "        3.8618], grad_fn=<StackBackward0>)"
      ]
     },
     "execution_count": 20,
     "metadata": {},
     "output_type": "execute_result"
    }
   ],
   "source": [
    "# # sample_losses = torch.Tensor([0])\n",
    "# for sample, label in zip(input, target):\n",
    "#     # sample_losses.append(dists[int(label)])\n",
    "#     try:\n",
    "#         sample_losses = torch.cat((sample_losses, dists[int(label)]), 0)\n",
    "#     except:\n",
    "#         sample_losses = dists[int(label)]\n",
    "# # loss_tensor = torch.stack(sample_losses)\n",
    "# sample_losses\n",
    "\n",
    "torch.stack(dis)"
   ]
  },
  {
   "cell_type": "code",
   "execution_count": 44,
   "metadata": {},
   "outputs": [
    {
     "data": {
      "text/plain": [
       "tensor(13.0781, grad_fn=<MaxBackward1>)"
      ]
     },
     "execution_count": 44,
     "metadata": {},
     "output_type": "execute_result"
    }
   ],
   "source": [
    "distances = []\n",
    "for inp, tar in zip(input, target):\n",
    "    label = int(tar)\n",
    "    corresponding_centroid = cen[label].detach()\n",
    "    distances.append(euclidean_distance(inp, corresponding_centroid))\n",
    "\n",
    "# distances\n",
    "torch.max(torch.stack(distances))"
   ]
  }
 ],
 "metadata": {
  "kernelspec": {
   "display_name": "base",
   "language": "python",
   "name": "python3"
  },
  "language_info": {
   "codemirror_mode": {
    "name": "ipython",
    "version": 3
   },
   "file_extension": ".py",
   "mimetype": "text/x-python",
   "name": "python",
   "nbconvert_exporter": "python",
   "pygments_lexer": "ipython3",
   "version": "3.11.5"
  }
 },
 "nbformat": 4,
 "nbformat_minor": 2
}
