{
 "cells": [
  {
   "cell_type": "code",
   "execution_count": 54,
   "metadata": {},
   "outputs": [],
   "source": [
    "import numpy as np\n",
    "import torch\n",
    "import torch.nn as nn\n",
    "import torch.nn.functional as F"
   ]
  },
  {
   "cell_type": "code",
   "execution_count": 55,
   "metadata": {},
   "outputs": [],
   "source": [
    "def euclidean_distance(tensor_a, tensor_b, dim = 0):\n",
    "    return (tensor_b - tensor_a).pow(2).sum(dim).sqrt()"
   ]
  },
  {
   "cell_type": "code",
   "execution_count": 56,
   "metadata": {},
   "outputs": [],
   "source": [
    "input = torch.randn(256, 128, 1, requires_grad=True)\n",
    "target = torch.rand(256, 1, 1)\n",
    "target = target.mul(9)\n",
    "target = target.absolute()\n",
    "target = target.round()\n",
    "\n",
    "classes = [0, 1, 2, 3, 4, 5, 6, 7, 8, 9]"
   ]
  },
  {
   "cell_type": "code",
   "execution_count": 57,
   "metadata": {},
   "outputs": [
    {
     "data": {
      "text/plain": [
       "tensor([[ 6.8408e-01],\n",
       "        [ 1.3120e+00],\n",
       "        [ 1.7134e-01],\n",
       "        [ 2.0987e-01],\n",
       "        [-8.3670e-01],\n",
       "        [-8.3740e-01],\n",
       "        [-9.5316e-01],\n",
       "        [ 1.1270e+00],\n",
       "        [ 1.3052e+00],\n",
       "        [ 6.9400e-01],\n",
       "        [ 1.0976e+00],\n",
       "        [-5.9098e-01],\n",
       "        [-2.7446e-02],\n",
       "        [-6.3795e-01],\n",
       "        [-6.7423e-01],\n",
       "        [-1.2494e+00],\n",
       "        [ 6.8715e-01],\n",
       "        [-5.1271e-01],\n",
       "        [-7.6053e-02],\n",
       "        [-8.0101e-01],\n",
       "        [-9.5664e-01],\n",
       "        [-8.5392e-01],\n",
       "        [ 6.1499e-02],\n",
       "        [-1.0228e+00],\n",
       "        [ 1.0078e+00],\n",
       "        [-3.4737e+00],\n",
       "        [-7.3897e-01],\n",
       "        [ 4.5608e-02],\n",
       "        [ 8.7347e-01],\n",
       "        [ 1.1483e+00],\n",
       "        [ 3.2783e-02],\n",
       "        [-1.5879e-01],\n",
       "        [ 5.7602e-01],\n",
       "        [ 1.9517e+00],\n",
       "        [-7.8750e-01],\n",
       "        [-3.4020e-01],\n",
       "        [ 7.7135e-01],\n",
       "        [ 3.3376e-01],\n",
       "        [-1.5931e-01],\n",
       "        [ 8.2835e-01],\n",
       "        [-4.3961e-01],\n",
       "        [ 1.6420e+00],\n",
       "        [ 1.3105e+00],\n",
       "        [ 6.6803e-01],\n",
       "        [ 1.2489e+00],\n",
       "        [-4.1501e-01],\n",
       "        [ 6.8132e-01],\n",
       "        [-6.6966e-01],\n",
       "        [ 1.5920e+00],\n",
       "        [ 1.9647e-02],\n",
       "        [ 5.1944e-01],\n",
       "        [-8.0571e-01],\n",
       "        [-6.5272e-01],\n",
       "        [ 1.2290e+00],\n",
       "        [ 3.9300e-01],\n",
       "        [ 5.6464e-01],\n",
       "        [ 1.7367e+00],\n",
       "        [ 5.8295e-01],\n",
       "        [ 4.2064e-01],\n",
       "        [-4.8741e-01],\n",
       "        [ 9.2644e-01],\n",
       "        [ 3.1533e-01],\n",
       "        [ 6.9827e-01],\n",
       "        [ 1.2181e+00],\n",
       "        [ 2.1307e-03],\n",
       "        [-2.4239e+00],\n",
       "        [ 8.2385e-01],\n",
       "        [ 5.5352e-01],\n",
       "        [ 2.1841e-01],\n",
       "        [ 4.1743e-01],\n",
       "        [-1.5257e+00],\n",
       "        [-1.0685e+00],\n",
       "        [ 2.1724e+00],\n",
       "        [ 7.7766e-01],\n",
       "        [-4.0481e-01],\n",
       "        [ 1.2182e-01],\n",
       "        [-2.6697e-01],\n",
       "        [ 1.6583e-01],\n",
       "        [ 2.3544e+00],\n",
       "        [ 3.3911e-01],\n",
       "        [ 2.2826e+00],\n",
       "        [ 1.8663e-01],\n",
       "        [ 1.3770e+00],\n",
       "        [ 2.3390e-01],\n",
       "        [ 1.3923e-01],\n",
       "        [-1.0030e+00],\n",
       "        [-4.6918e-02],\n",
       "        [ 1.9021e+00],\n",
       "        [-4.2485e-01],\n",
       "        [ 1.2064e+00],\n",
       "        [-4.9251e-01],\n",
       "        [ 5.5117e-01],\n",
       "        [-1.3617e+00],\n",
       "        [-1.4138e+00],\n",
       "        [-1.4866e+00],\n",
       "        [-3.6907e-01],\n",
       "        [-6.1146e-01],\n",
       "        [-7.7155e-01],\n",
       "        [ 3.2578e-01],\n",
       "        [ 2.0881e-01],\n",
       "        [-1.0320e+00],\n",
       "        [-1.1867e+00],\n",
       "        [-1.9130e+00],\n",
       "        [ 7.8754e-01],\n",
       "        [ 6.7637e-01],\n",
       "        [-8.5127e-01],\n",
       "        [-2.5546e-01],\n",
       "        [-5.4762e-01],\n",
       "        [ 6.8613e-01],\n",
       "        [ 1.2516e+00],\n",
       "        [-5.8888e-01],\n",
       "        [-2.7972e-01],\n",
       "        [ 6.4690e-01],\n",
       "        [-4.9512e-01],\n",
       "        [ 8.3866e-01],\n",
       "        [-1.4374e+00],\n",
       "        [-6.8809e-01],\n",
       "        [-2.7365e+00],\n",
       "        [ 6.2459e-01],\n",
       "        [-5.5175e-01],\n",
       "        [ 2.3514e+00],\n",
       "        [-6.5226e-02],\n",
       "        [ 1.0629e+00],\n",
       "        [ 7.1954e-01],\n",
       "        [-6.4366e-01],\n",
       "        [ 5.8266e-01],\n",
       "        [-2.4547e-01],\n",
       "        [ 1.7199e+00]], grad_fn=<SelectBackward0>)"
      ]
     },
     "execution_count": 57,
     "metadata": {},
     "output_type": "execute_result"
    }
   ],
   "source": [
    "input[0]"
   ]
  },
  {
   "cell_type": "code",
   "execution_count": 58,
   "metadata": {},
   "outputs": [],
   "source": [
    "def prepare(input, target, classes):\n",
    "    batch_size = input.shape[0]\n",
    "    # batch_size\n",
    "    centroids = []\n",
    "    for _class in classes:\n",
    "        class_tensors = []\n",
    "        for i in range(batch_size):\n",
    "            if target[i] == _class:\n",
    "                class_tensors.append(input[i])\n",
    "        stacked_tensor = torch.stack(class_tensors)\n",
    "        centroids.append(torch.mean(stacked_tensor, dim = 0))\n",
    "\n",
    "    # self.centroids = torch.stack(centroids)\n",
    "\n",
    "    # Jedes Element in centroids ist weiterhin ableitbar, aber centroids darf selbst nicht weiterverwendet werden.\n",
    "\n",
    "    distances = []\n",
    "    for centroid_a in centroids:\n",
    "        local_distances = []\n",
    "        for centroid_b in centroids:\n",
    "            if not torch.equal(centroid_a, centroid_b):\n",
    "                local_distances.append(euclidean_distance(centroid_a, centroid_b))\n",
    "        local_tensor = torch.stack(local_distances)\n",
    "        distances.append(torch.mean(local_tensor))      \n",
    "\n",
    "    # (centroids[0] - centroids[1]).pow(2).sum(0).sqrt()\n",
    "    return distances"
   ]
  },
  {
   "cell_type": "code",
   "execution_count": 59,
   "metadata": {},
   "outputs": [],
   "source": [
    "dists = prepare(input, target, classes)"
   ]
  },
  {
   "cell_type": "code",
   "execution_count": 76,
   "metadata": {},
   "outputs": [
    {
     "data": {
      "text/plain": [
       "tensor(3.3633, grad_fn=<SelectBackward0>)"
      ]
     },
     "execution_count": 76,
     "metadata": {},
     "output_type": "execute_result"
    }
   ],
   "source": [
    "# # sample_losses = torch.Tensor([0])\n",
    "# for sample, label in zip(input, target):\n",
    "#     # sample_losses.append(dists[int(label)])\n",
    "#     try:\n",
    "#         sample_losses = torch.cat((sample_losses, dists[int(label)]), 0)\n",
    "#     except:\n",
    "#         sample_losses = dists[int(label)]\n",
    "# # loss_tensor = torch.stack(sample_losses)\n",
    "# sample_losses\n",
    "\n",
    "torch.stack(dists)[0]"
   ]
  }
 ],
 "metadata": {
  "kernelspec": {
   "display_name": "base",
   "language": "python",
   "name": "python3"
  },
  "language_info": {
   "codemirror_mode": {
    "name": "ipython",
    "version": 3
   },
   "file_extension": ".py",
   "mimetype": "text/x-python",
   "name": "python",
   "nbconvert_exporter": "python",
   "pygments_lexer": "ipython3",
   "version": "3.11.5"
  }
 },
 "nbformat": 4,
 "nbformat_minor": 2
}
