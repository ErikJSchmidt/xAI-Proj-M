{
 "cells": [
  {
   "cell_type": "code",
   "execution_count": 1,
   "metadata": {},
   "outputs": [],
   "source": [
    "import torch\n",
    "from knn_loss import KNNLoss"
   ]
  },
  {
   "cell_type": "code",
   "execution_count": 2,
   "metadata": {},
   "outputs": [],
   "source": [
    "tensor_a = torch.tensor([[2.0], [3.0], [4.0]])\n",
    "tensor_b = torch.tensor([[0.0], [0.0], [0.0]])\n",
    "tensor_c = torch.tensor([[-2.0], [-3.0], [-4.0]])"
   ]
  },
  {
   "cell_type": "code",
   "execution_count": 3,
   "metadata": {},
   "outputs": [
    {
     "data": {
      "text/plain": [
       "tensor([[0.],\n",
       "        [0.],\n",
       "        [0.]])"
      ]
     },
     "execution_count": 3,
     "metadata": {},
     "output_type": "execute_result"
    }
   ],
   "source": [
    "tensors = [tensor_a, tensor_b, tensor_c]\n",
    "stack = torch.stack(tensors)\n",
    "torch.mean(stack, dim = 0)\n",
    "# stack"
   ]
  },
  {
   "cell_type": "code",
   "execution_count": 4,
   "metadata": {},
   "outputs": [
    {
     "data": {
      "text/plain": [
       "torch.Size([10])"
      ]
     },
     "execution_count": 4,
     "metadata": {},
     "output_type": "execute_result"
    }
   ],
   "source": [
    "forward_pass = torch.randn(256, 512, 1)\n",
    "labels = torch.rand(256, 1, 1)\n",
    "labels *= 9\n",
    "labels = torch.absolute(labels)\n",
    "labels = torch.round(labels)\n",
    "\n",
    "classes = [0, 1, 2, 3, 4, 5, 6, 7, 8, 9]\n",
    "classes_tensor = torch.tensor(classes)\n",
    "classes_tensor.shape"
   ]
  },
  {
   "cell_type": "code",
   "execution_count": 5,
   "metadata": {},
   "outputs": [
    {
     "name": "stdout",
     "output_type": "stream",
     "text": [
      "0.8283096551895142\n",
      "torch.Size([10, 512, 1])\n",
      "22.119428634643555\n"
     ]
    }
   ],
   "source": [
    "wrap = KNNLoss(classes_tensor)\n",
    "div_loss = wrap.divergence_loss(forward_pass, labels)\n",
    "print(div_loss)\n",
    "centroids = wrap.get_centroids()\n",
    "print(centroids.shape)\n",
    "conv_loss = wrap.convergence_loss(forward_pass, labels)\n",
    "print(conv_loss)\n"
   ]
  },
  {
   "cell_type": "markdown",
   "metadata": {},
   "source": [
    "the `# Calculate Current Centroids` section seem to work."
   ]
  },
  {
   "cell_type": "code",
   "execution_count": 6,
   "metadata": {},
   "outputs": [],
   "source": [
    "# a = torch.empty(512, 1)\n",
    "# b = torch.rand(512, 1)\n",
    "# c = torch.rand(512, 1)\n",
    "# d = torch.stack((a, b, c))\n",
    "# e = d[1:]\n",
    "# print(d)\n",
    "# print(e)"
   ]
  }
 ],
 "metadata": {
  "kernelspec": {
   "display_name": "base",
   "language": "python",
   "name": "python3"
  },
  "language_info": {
   "codemirror_mode": {
    "name": "ipython",
    "version": 3
   },
   "file_extension": ".py",
   "mimetype": "text/x-python",
   "name": "python",
   "nbconvert_exporter": "python",
   "pygments_lexer": "ipython3",
   "version": "3.11.5"
  }
 },
 "nbformat": 4,
 "nbformat_minor": 2
}
