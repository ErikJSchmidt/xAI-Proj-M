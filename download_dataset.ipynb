{
 "cells": [
  {
   "cell_type": "markdown",
   "source": [
    "## Dataset Download\n",
    "As shown here https://www.kaggle.com/code/shadabhussain/cifar-10-cnn-using-pytorch, we download and decompress the cifar1- dataset"
   ],
   "metadata": {
    "collapsed": false
   },
   "id": "784a145e1461019f"
  },
  {
   "cell_type": "code",
   "execution_count": 6,
   "outputs": [],
   "source": [
    "from torchvision.datasets.utils import download_url \n",
    "import tarfile"
   ],
   "metadata": {
    "collapsed": false,
    "ExecuteTime": {
     "end_time": "2023-11-13T18:30:51.970767442Z",
     "start_time": "2023-11-13T18:30:51.941609421Z"
    }
   },
   "id": "9dc36425ff8305b"
  },
  {
   "cell_type": "code",
   "execution_count": 4,
   "id": "initial_id",
   "metadata": {
    "collapsed": true,
    "ExecuteTime": {
     "end_time": "2023-11-13T18:29:54.633346650Z",
     "start_time": "2023-11-13T18:29:38.943138633Z"
    }
   },
   "outputs": [
    {
     "name": "stdout",
     "output_type": "stream",
     "text": [
      "Downloading https://s3.amazonaws.com/fast-ai-imageclas/cifar10.tgz to ./data/cifar10.tgz\n"
     ]
    },
    {
     "name": "stderr",
     "output_type": "stream",
     "text": [
      "100.0%\n"
     ]
    }
   ],
   "source": [
    "# Download the dataset to data directory\n",
    "dataset_url = \"https://s3.amazonaws.com/fast-ai-imageclas/cifar10.tgz\"\n",
    "download_url(dataset_url, './data')"
   ]
  },
  {
   "cell_type": "code",
   "execution_count": 8,
   "outputs": [],
   "source": [
    "# Extract dataset from compressed file\n",
    "with tarfile.open('./data/cifar10.tgz', 'r:gz') as tar:\n",
    "    tar.extractall(path='./data')"
   ],
   "metadata": {
    "collapsed": false,
    "ExecuteTime": {
     "end_time": "2023-11-13T18:31:19.281452798Z",
     "start_time": "2023-11-13T18:31:07.220875175Z"
    }
   },
   "id": "46bedb75b646cdd"
  }
 ],
 "metadata": {
  "kernelspec": {
   "display_name": "Python 3",
   "language": "python",
   "name": "python3"
  },
  "language_info": {
   "codemirror_mode": {
    "name": "ipython",
    "version": 2
   },
   "file_extension": ".py",
   "mimetype": "text/x-python",
   "name": "python",
   "nbconvert_exporter": "python",
   "pygments_lexer": "ipython2",
   "version": "2.7.6"
  }
 },
 "nbformat": 4,
 "nbformat_minor": 5
}
