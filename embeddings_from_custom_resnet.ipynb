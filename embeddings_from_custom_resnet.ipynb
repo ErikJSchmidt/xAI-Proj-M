{
 "cells": [
  {
   "cell_type": "code",
   "execution_count": 12,
   "id": "initial_id",
   "metadata": {
    "ExecuteTime": {
     "end_time": "2024-01-11T16:09:17.891862878Z",
     "start_time": "2024-01-11T16:09:14.482225670Z"
    },
    "collapsed": true
   },
   "outputs": [],
   "source": [
    "import json\n",
    "\n",
    "import torch\n",
    "from torch import nn\n",
    "from torchvision.datasets import ImageFolder\n",
    "from torchvision.transforms import ToTensor\n",
    "from torch.utils.data.dataloader import DataLoader\n",
    "from torchvision import transforms\n",
    "from torchvision.models import ResNet\n",
    "from embeddings.custom_image_folder import CustomImageFolder\n",
    "import chromadb\n",
    "from custom_cnn.networks.model_skipped_18_layer_for_embedding import Skipped18LayerForEmbbeding\n",
    "from custom_cnn import utility_functions"
   ]
  },
  {
   "cell_type": "markdown",
   "id": "7feb8992e745b6fb",
   "metadata": {
    "collapsed": false
   },
   "source": [
    "# Custom ResNet18 (Skipped18LayerForEmbedding)\n",
    "In this script a trained instance of our Skipped18LayerForEmbedding is used to obtain embbedings for all Cifar10 samples.\n",
    "With the embeddings of the training samples the test samples are classified via KNN.\n",
    "The accuracy of that KNN classifier on the test set is recorded.\n",
    "## Prepare embedding model"
   ]
  },
  {
   "cell_type": "code",
   "execution_count": 13,
   "id": "bb83dc22d2cb306a",
   "metadata": {
    "ExecuteTime": {
     "end_time": "2024-01-11T16:09:22.892981771Z",
     "start_time": "2024-01-11T16:09:22.573137155Z"
    },
    "collapsed": false
   },
   "outputs": [
    {
     "name": "stdout",
     "output_type": "stream",
     "text": [
      "Set up Modular Skip\n",
      "in: 16, out: 16, stride: (1, 1)\n",
      "No skip conv needed, use identity\n",
      "Set up Modular Skip\n",
      "in: 16, out: 32, stride: (2, 2)\n",
      "Create skip conv\n",
      "Set up Modular Skip\n",
      "in: 32, out: 32, stride: (1, 1)\n",
      "No skip conv needed, use identity\n",
      "Set up Modular Skip\n",
      "in: 32, out: 64, stride: (2, 2)\n",
      "Create skip conv\n",
      "Set up Modular Skip\n",
      "in: 64, out: 64, stride: (1, 1)\n",
      "No skip conv needed, use identity\n",
      "Set up Modular Skip\n",
      "in: 64, out: 128, stride: (2, 2)\n",
      "Create skip conv\n",
      "Set up Modular Skip\n",
      "in: 128, out: 128, stride: (1, 1)\n",
      "No skip conv needed, use identity\n",
      "Set up Modular Skip\n",
      "in: 128, out: 128, stride: (1, 1)\n",
      "No skip conv needed, use identity\n"
     ]
    },
    {
     "data": {
      "text/plain": [
       "<All keys matched successfully>"
      ]
     },
     "execution_count": 13,
     "metadata": {},
     "output_type": "execute_result"
    }
   ],
   "source": [
    "model = Skipped18LayerForEmbbeding()\n",
    "model.network.load_state_dict(\n",
    "    torch.load(\"./custom_cnn/savedmodels/Skipped18LayerForEmbbeding_20240204_1818/model_state_dict\", map_location=torch.device(utility_functions.get_default_device()))\n",
    ")"
   ]
  },
  {
   "cell_type": "code",
   "execution_count": 14,
   "id": "fb59883a233d4f81",
   "metadata": {
    "ExecuteTime": {
     "end_time": "2024-01-11T16:09:28.832682746Z",
     "start_time": "2024-01-11T16:09:28.724406674Z"
    },
    "collapsed": false
   },
   "outputs": [
    {
     "name": "stdout",
     "output_type": "stream",
     "text": [
      "type of model <class 'custom_cnn.networks.model_skipped_18_layer_for_embedding.Skipped18LayerForEmbbeding'>\n",
      "Sequential(\n",
      "  (0): Linear(in_features=128, out_features=10, bias=True)\n",
      "  (1): Softmax(dim=1)\n",
      ")\n"
     ]
    }
   ],
   "source": [
    "print(F\"type of model {type(model)}\")\n",
    "print(f\"{model.fc}\")"
   ]
  },
  {
   "cell_type": "code",
   "execution_count": 15,
   "id": "548e3f02b8b4e421",
   "metadata": {
    "ExecuteTime": {
     "end_time": "2024-01-11T16:09:30.438193212Z",
     "start_time": "2024-01-11T16:09:30.430382167Z"
    },
    "collapsed": false
   },
   "outputs": [],
   "source": [
    "# Replace last FC layer by identity mapping so that the model outputs vectors of dim 512\n",
    "class Identity(nn.Module):\n",
    "    def __init__(self):\n",
    "        super(Identity, self).__init__()\n",
    "\n",
    "    def forward(self, x):\n",
    "        return x\n",
    "\n",
    "model.fc = Identity()"
   ]
  },
  {
   "cell_type": "markdown",
   "id": "d78fd08783732b6c",
   "metadata": {
    "collapsed": false
   },
   "source": [
    "## Prepare vector store"
   ]
  },
  {
   "cell_type": "code",
   "execution_count": 16,
   "id": "50f189166a65c8b2",
   "metadata": {
    "ExecuteTime": {
     "end_time": "2024-01-11T16:10:18.741103492Z",
     "start_time": "2024-01-11T16:10:17.505184996Z"
    },
    "collapsed": false
   },
   "outputs": [],
   "source": [
    "chroma_client = chromadb.PersistentClient(path=\"./embeddings/embedding_data/embedding_store\")\n",
    "\n",
    "collection = chroma_client.create_collection(name=\"repeat_combined\")\n",
    "# collection = chroma_client.get_collection(name=\"combined_loss_training\")\n",
    "# print(f\"Samples in db: {len(collection.get()['embeddings'])}\")"
   ]
  },
  {
   "cell_type": "code",
   "execution_count": 17,
   "id": "86c16dd9",
   "metadata": {},
   "outputs": [],
   "source": [
    "# chroma_client.delete_collection(name='combined_loss_training')\n",
    "# chroma_client.delete_collection(name='thereisnocollection')"
   ]
  },
  {
   "cell_type": "code",
   "execution_count": 18,
   "id": "38befb011d0c9150",
   "metadata": {
    "ExecuteTime": {
     "end_time": "2024-01-11T16:10:20.530407456Z",
     "start_time": "2024-01-11T16:10:20.435188638Z"
    },
    "collapsed": false
   },
   "outputs": [],
   "source": [
    "def get_embeddings_and_store(embedding_model, data_loader, chroma_collection, dataset_type):\n",
    "    count = 0\n",
    "    for batch in data_loader:\n",
    "        print(count)\n",
    "        batch_paths_and_images, batch_labels = batch\n",
    "        batch_labels = batch_labels.tolist()\n",
    "        batch_paths = list(batch_paths_and_images[0])\n",
    "        batch_images = batch_paths_and_images[1]\n",
    "        \n",
    "        out = embedding_model(batch_images)\n",
    "        \n",
    "        chroma_collection.add(\n",
    "            embeddings = out.tolist(),\n",
    "            metadatas = [{'path':x[0], 'label':x[1], 'dataset_type':dataset_type} for x in zip(batch_paths, batch_labels)],\n",
    "            ids= [dataset_type + str(x) for x in list(range( count * 256, count * 256 + len(batch_labels)))]\n",
    "        )\n",
    "\n",
    "        count += 1\n"
   ]
  },
  {
   "cell_type": "markdown",
   "id": "e6f0aeeb414cdc52",
   "metadata": {
    "collapsed": false
   },
   "source": [
    "## Get embeddings of train dataqset"
   ]
  },
  {
   "cell_type": "code",
   "execution_count": 19,
   "id": "2552699e274e13f0",
   "metadata": {
    "ExecuteTime": {
     "end_time": "2024-01-11T16:14:47.040469269Z",
     "start_time": "2024-01-11T16:10:22.656709457Z"
    },
    "collapsed": false
   },
   "outputs": [
    {
     "name": "stdout",
     "output_type": "stream",
     "text": [
      "0\n",
      "1\n",
      "2\n",
      "3\n",
      "4\n",
      "5\n",
      "6\n",
      "7\n",
      "8\n",
      "9\n",
      "10\n",
      "11\n",
      "12\n",
      "13\n",
      "14\n",
      "15\n",
      "16\n",
      "17\n",
      "18\n",
      "19\n",
      "20\n",
      "21\n",
      "22\n",
      "23\n",
      "24\n",
      "25\n",
      "26\n",
      "27\n",
      "28\n",
      "29\n",
      "30\n",
      "31\n",
      "32\n",
      "33\n",
      "34\n",
      "35\n",
      "36\n",
      "37\n",
      "38\n",
      "39\n",
      "40\n",
      "41\n",
      "42\n",
      "43\n",
      "44\n",
      "45\n",
      "46\n",
      "47\n",
      "48\n",
      "49\n",
      "50\n",
      "51\n",
      "52\n",
      "53\n",
      "54\n",
      "55\n",
      "56\n",
      "57\n",
      "58\n",
      "59\n",
      "60\n",
      "61\n",
      "62\n",
      "63\n",
      "64\n",
      "65\n",
      "66\n",
      "67\n",
      "68\n",
      "69\n",
      "70\n",
      "71\n",
      "72\n",
      "73\n",
      "74\n",
      "75\n",
      "76\n",
      "77\n",
      "78\n",
      "79\n",
      "80\n",
      "81\n",
      "82\n",
      "83\n",
      "84\n",
      "85\n",
      "86\n",
      "87\n",
      "88\n",
      "89\n",
      "90\n",
      "91\n",
      "92\n",
      "93\n",
      "94\n",
      "95\n",
      "96\n",
      "97\n",
      "98\n",
      "99\n",
      "100\n",
      "101\n",
      "102\n",
      "103\n",
      "104\n",
      "105\n",
      "106\n",
      "107\n",
      "108\n",
      "109\n",
      "110\n",
      "111\n",
      "112\n",
      "113\n",
      "114\n",
      "115\n",
      "116\n",
      "117\n",
      "118\n",
      "119\n",
      "120\n",
      "121\n",
      "122\n",
      "123\n",
      "124\n",
      "125\n",
      "126\n",
      "127\n",
      "128\n",
      "129\n",
      "130\n",
      "131\n",
      "132\n",
      "133\n",
      "134\n",
      "135\n",
      "136\n",
      "137\n",
      "138\n",
      "139\n",
      "140\n",
      "141\n",
      "142\n",
      "143\n",
      "144\n",
      "145\n",
      "146\n",
      "147\n",
      "148\n",
      "149\n",
      "150\n",
      "151\n",
      "152\n",
      "153\n",
      "154\n",
      "155\n",
      "156\n",
      "157\n",
      "158\n",
      "159\n",
      "160\n",
      "161\n",
      "162\n",
      "163\n",
      "164\n",
      "165\n",
      "166\n",
      "167\n",
      "168\n",
      "169\n",
      "170\n",
      "171\n",
      "172\n",
      "173\n",
      "174\n",
      "175\n",
      "176\n",
      "177\n",
      "178\n",
      "179\n",
      "180\n",
      "181\n",
      "182\n",
      "183\n",
      "184\n",
      "185\n",
      "186\n",
      "187\n",
      "188\n",
      "189\n",
      "190\n",
      "191\n",
      "192\n",
      "193\n",
      "194\n",
      "195\n"
     ]
    }
   ],
   "source": [
    "# Use custom Dataset that returns image path in get item\n",
    "train_dataset = CustomImageFolder(\n",
    "    root=\"./custom_cnn/data/cifar10/train\",\n",
    "    transform=ToTensor()\n",
    ")\n",
    "# Create DataLoader\n",
    "train_data_loader = DataLoader(\n",
    "    dataset=train_dataset,\n",
    "    batch_size=256,\n",
    "    shuffle=False,\n",
    "    num_workers=4,\n",
    "    pin_memory=False  # should be True if cuda is available\n",
    ")\n",
    "# feed through embedding model\n",
    "model.eval()\n",
    "get_embeddings_and_store(model, train_data_loader, collection, dataset_type=\"train\")"
   ]
  },
  {
   "cell_type": "code",
   "execution_count": 20,
   "id": "85af487f95e355f3",
   "metadata": {
    "ExecuteTime": {
     "end_time": "2024-01-11T16:14:51.957649052Z",
     "start_time": "2024-01-11T16:14:47.039931793Z"
    },
    "collapsed": false
   },
   "outputs": [
    {
     "name": "stdout",
     "output_type": "stream",
     "text": [
      "Samples in db: 50000\n",
      "train0\n",
      "train9999\n"
     ]
    }
   ],
   "source": [
    "print(f\"Samples in db: {len(collection.get()['ids'])}\")\n",
    "print(collection.get()['ids'][0])\n",
    "print(collection.get()['ids'][-1])"
   ]
  },
  {
   "cell_type": "markdown",
   "id": "78a084b1f38b6458",
   "metadata": {
    "collapsed": false
   },
   "source": [
    "## Get embeddings of test dataset"
   ]
  },
  {
   "cell_type": "code",
   "execution_count": 21,
   "id": "b43c86fb84be29e1",
   "metadata": {
    "ExecuteTime": {
     "end_time": "2024-01-11T16:15:45.026110390Z",
     "start_time": "2024-01-11T16:14:51.964262221Z"
    },
    "collapsed": false
   },
   "outputs": [
    {
     "name": "stdout",
     "output_type": "stream",
     "text": [
      "0\n",
      "1\n",
      "2\n",
      "3\n",
      "4\n",
      "5\n",
      "6\n",
      "7\n",
      "8\n",
      "9\n",
      "10\n",
      "11\n",
      "12\n",
      "13\n",
      "14\n",
      "15\n",
      "16\n",
      "17\n",
      "18\n",
      "19\n",
      "20\n",
      "21\n",
      "22\n",
      "23\n",
      "24\n",
      "25\n",
      "26\n",
      "27\n",
      "28\n",
      "29\n",
      "30\n",
      "31\n",
      "32\n",
      "33\n",
      "34\n",
      "35\n",
      "36\n",
      "37\n",
      "38\n",
      "39\n"
     ]
    }
   ],
   "source": [
    "# Use custom Dataset that returns image path in get item\n",
    "test_dataset = CustomImageFolder(\n",
    "    root=\"./custom_cnn/data/cifar10/test\",\n",
    "    transform=ToTensor()\n",
    ")\n",
    "# Create DataLoader\n",
    "test_data_loader = DataLoader(\n",
    "    dataset=test_dataset,\n",
    "    batch_size=256,\n",
    "    shuffle=False,\n",
    "    num_workers=4,\n",
    "    pin_memory=False  # should be True if cuda is available\n",
    ")\n",
    "# feed through embedding model\n",
    "get_embeddings_and_store(model, test_data_loader, chroma_collection=collection, dataset_type=\"test\")"
   ]
  },
  {
   "cell_type": "code",
   "execution_count": 22,
   "id": "55f8c801e6676e36",
   "metadata": {
    "ExecuteTime": {
     "end_time": "2024-01-11T16:15:49.954182696Z",
     "start_time": "2024-01-11T16:15:45.082907810Z"
    },
    "collapsed": false
   },
   "outputs": [
    {
     "name": "stdout",
     "output_type": "stream",
     "text": [
      "Samples in db: 60000\n",
      "train45999\n",
      "train9999\n"
     ]
    }
   ],
   "source": [
    "print(f\"Samples in db: {len(collection.get()['ids'])}\")\n",
    "print(collection.get()['ids'][50000])\n",
    "print(collection.get()['ids'][-1])"
   ]
  },
  {
   "cell_type": "code",
   "execution_count": 23,
   "id": "92c2c5f4f0d472cb",
   "metadata": {
    "ExecuteTime": {
     "end_time": "2024-01-11T16:15:52.356063961Z",
     "start_time": "2024-01-11T16:15:49.957976325Z"
    },
    "collapsed": false
   },
   "outputs": [
    {
     "data": {
      "text/plain": [
       "[7.480607032775879,\n",
       " 5.807470321655273,\n",
       " 8.758194923400879,\n",
       " 5.049266338348389,\n",
       " 1.9999773502349854,\n",
       " 6.567392349243164,\n",
       " 1.7223330736160278,\n",
       " 1.7711231708526611,\n",
       " 1.788499355316162,\n",
       " 8.286099433898926,\n",
       " 5.009762287139893,\n",
       " 3.0089330673217773,\n",
       " 1.8497010469436646,\n",
       " 9.630784034729004,\n",
       " 2.5837559700012207,\n",
       " 4.618496417999268,\n",
       " 5.3187994956970215,\n",
       " 6.697310924530029,\n",
       " 6.4974589347839355,\n",
       " 2.0457844734191895,\n",
       " 4.826243877410889,\n",
       " 2.5758700370788574,\n",
       " 3.5718002319335938,\n",
       " 8.450937271118164,\n",
       " 3.1835711002349854,\n",
       " 1.2129106521606445,\n",
       " 7.5835065841674805,\n",
       " 3.2886290550231934,\n",
       " 6.704919815063477,\n",
       " 2.7423908710479736,\n",
       " 1.0140764713287354,\n",
       " 6.024281978607178,\n",
       " 8.980878829956055,\n",
       " 2.1505863666534424,\n",
       " 4.100469589233398,\n",
       " 5.416548728942871,\n",
       " 3.673002243041992,\n",
       " 4.1163434982299805,\n",
       " 0.9149121642112732,\n",
       " 4.647047519683838,\n",
       " 2.4732110500335693,\n",
       " 5.644919395446777,\n",
       " 7.195353031158447,\n",
       " 1.0319151878356934,\n",
       " 2.266112804412842,\n",
       " 2.303666114807129,\n",
       " 5.007994651794434,\n",
       " 2.8617758750915527,\n",
       " 4.516996383666992,\n",
       " 1.1829169988632202,\n",
       " 6.342391014099121,\n",
       " 2.7511186599731445,\n",
       " 1.283393383026123,\n",
       " 6.135453701019287,\n",
       " 6.698091506958008,\n",
       " 5.713864326477051,\n",
       " 1.2520060539245605,\n",
       " 7.590474605560303,\n",
       " 2.068974018096924,\n",
       " 8.855355262756348,\n",
       " 8.027373313903809,\n",
       " 5.158263206481934,\n",
       " 4.362275123596191,\n",
       " 2.5516436100006104,\n",
       " 3.8891284465789795,\n",
       " 4.121083736419678,\n",
       " 5.440922737121582,\n",
       " 8.010499000549316,\n",
       " 10.769495964050293,\n",
       " 8.773216247558594,\n",
       " 4.881937026977539,\n",
       " 1.258954405784607,\n",
       " 4.085596561431885,\n",
       " 1.9130821228027344,\n",
       " 8.409247398376465,\n",
       " 4.239922523498535,\n",
       " 4.786735534667969,\n",
       " 5.983822822570801,\n",
       " 8.247077941894531,\n",
       " 2.7573771476745605,\n",
       " 1.2208119630813599,\n",
       " 1.6380655765533447,\n",
       " 6.645505428314209,\n",
       " 1.5182759761810303,\n",
       " 2.0633933544158936,\n",
       " 5.2349138259887695,\n",
       " 7.103770732879639,\n",
       " 1.6586110591888428,\n",
       " 11.49072551727295,\n",
       " 1.3427175283432007,\n",
       " 2.7154393196105957,\n",
       " 6.317348480224609,\n",
       " 7.432122230529785,\n",
       " 6.6376776695251465,\n",
       " 0.4760567545890808,\n",
       " 7.132692337036133,\n",
       " 1.487005352973938,\n",
       " 7.046317100524902,\n",
       " 7.932144641876221,\n",
       " 8.722296714782715,\n",
       " 7.076277732849121,\n",
       " 5.659055233001709,\n",
       " 7.4683837890625,\n",
       " 0.6797133088111877,\n",
       " 2.9769105911254883,\n",
       " 3.969688892364502,\n",
       " 4.285614967346191,\n",
       " 5.297443389892578,\n",
       " 2.2195098400115967,\n",
       " 2.023324489593506,\n",
       " 6.849704742431641,\n",
       " 1.7943236827850342,\n",
       " 9.148096084594727,\n",
       " 9.513137817382812,\n",
       " 2.8302037715911865,\n",
       " 5.517547130584717,\n",
       " 2.0886120796203613,\n",
       " 8.701952934265137,\n",
       " 5.193510055541992,\n",
       " 4.7109055519104,\n",
       " 4.601428031921387,\n",
       " 1.5069353580474854,\n",
       " 7.295068264007568,\n",
       " 5.353237628936768,\n",
       " 5.486171245574951,\n",
       " 8.33479118347168,\n",
       " 2.600322961807251,\n",
       " 7.1743693351745605]"
      ]
     },
     "execution_count": 23,
     "metadata": {},
     "output_type": "execute_result"
    }
   ],
   "source": [
    "collection.get(include=['embeddings', 'documents', 'metadatas'])['embeddings'][0]"
   ]
  }
 ],
 "metadata": {
  "kernelspec": {
   "display_name": "Python 3",
   "language": "python",
   "name": "python3"
  },
  "language_info": {
   "codemirror_mode": {
    "name": "ipython",
    "version": 3
   },
   "file_extension": ".py",
   "mimetype": "text/x-python",
   "name": "python",
   "nbconvert_exporter": "python",
   "pygments_lexer": "ipython3",
   "version": "3.11.7"
  }
 },
 "nbformat": 4,
 "nbformat_minor": 5
}
