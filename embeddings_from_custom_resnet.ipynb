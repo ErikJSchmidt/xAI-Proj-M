{
 "cells": [
  {
   "cell_type": "code",
   "execution_count": 12,
   "id": "initial_id",
   "metadata": {
    "ExecuteTime": {
     "end_time": "2024-01-11T16:09:17.891862878Z",
     "start_time": "2024-01-11T16:09:14.482225670Z"
    },
    "collapsed": true
   },
   "outputs": [],
   "source": [
    "import json\n",
    "\n",
    "import torch\n",
    "from torch import nn\n",
    "from torchvision.datasets import ImageFolder\n",
    "from torchvision.transforms import ToTensor\n",
    "from torch.utils.data.dataloader import DataLoader\n",
    "from torchvision import transforms\n",
    "from torchvision.models import ResNet\n",
    "from embeddings.custom_image_folder import CustomImageFolder\n",
    "import chromadb\n",
    "from custom_cnn.networks.model_skipped_18_layer_for_embedding import Skipped18LayerForEmbbeding\n",
    "from custom_cnn import utility_functions"
   ]
  },
  {
   "cell_type": "markdown",
   "id": "7feb8992e745b6fb",
   "metadata": {
    "collapsed": false
   },
   "source": [
    "# Custom ResNet18 (Skipped18LayerForEmbedding)\n",
    "In this script a trained instance of our Skipped18LayerForEmbedding is used to obtain embbedings for all Cifar10 samples.\n",
    "With the embeddings of the training samples the test samples are classified via KNN.\n",
    "The accuracy of that KNN classifier on the test set is recorded.\n",
    "## Prepare embedding model"
   ]
  },
  {
   "cell_type": "code",
   "execution_count": 13,
   "id": "bb83dc22d2cb306a",
   "metadata": {
    "ExecuteTime": {
     "end_time": "2024-01-11T16:09:22.892981771Z",
     "start_time": "2024-01-11T16:09:22.573137155Z"
    },
    "collapsed": false
   },
   "outputs": [
    {
     "name": "stdout",
     "output_type": "stream",
     "text": [
      "Set up Modular Skip\n",
      "in: 16, out: 16, stride: (1, 1)\n",
      "No skip conv needed, use identity\n",
      "Set up Modular Skip\n",
      "in: 16, out: 32, stride: (2, 2)\n",
      "Create skip conv\n",
      "Set up Modular Skip\n",
      "in: 32, out: 32, stride: (1, 1)\n",
      "No skip conv needed, use identity\n",
      "Set up Modular Skip\n",
      "in: 32, out: 64, stride: (2, 2)\n",
      "Create skip conv\n",
      "Set up Modular Skip\n",
      "in: 64, out: 64, stride: (1, 1)\n",
      "No skip conv needed, use identity\n",
      "Set up Modular Skip\n",
      "in: 64, out: 128, stride: (2, 2)\n",
      "Create skip conv\n",
      "Set up Modular Skip\n",
      "in: 128, out: 128, stride: (1, 1)\n",
      "No skip conv needed, use identity\n",
      "Set up Modular Skip\n",
      "in: 128, out: 128, stride: (1, 1)\n",
      "No skip conv needed, use identity\n"
     ]
    },
    {
     "data": {
      "text/plain": [
       "<All keys matched successfully>"
      ]
     },
     "execution_count": 13,
     "metadata": {},
     "output_type": "execute_result"
    }
   ],
   "source": [
    "model = Skipped18LayerForEmbbeding()\n",
    "model.network.load_state_dict(\n",
    "    torch.load(\"./custom_cnn/savedmodels/Skipped18LayerForEmbbeding_20240129_2220/model_state_dict\", map_location=torch.device(utility_functions.get_default_device()))\n",
    ")"
   ]
  },
  {
   "cell_type": "code",
   "execution_count": 14,
   "id": "fb59883a233d4f81",
   "metadata": {
    "ExecuteTime": {
     "end_time": "2024-01-11T16:09:28.832682746Z",
     "start_time": "2024-01-11T16:09:28.724406674Z"
    },
    "collapsed": false
   },
   "outputs": [
    {
     "name": "stdout",
     "output_type": "stream",
     "text": [
      "type of model <class 'custom_cnn.networks.model_skipped_18_layer_for_embedding.Skipped18LayerForEmbbeding'>\n",
      "Sequential(\n",
      "  (0): Linear(in_features=128, out_features=10, bias=True)\n",
      "  (1): Softmax(dim=1)\n",
      ")\n"
     ]
    }
   ],
   "source": [
    "print(F\"type of model {type(model)}\")\n",
    "print(f\"{model.fc}\")"
   ]
  },
  {
   "cell_type": "code",
   "execution_count": 15,
   "id": "548e3f02b8b4e421",
   "metadata": {
    "ExecuteTime": {
     "end_time": "2024-01-11T16:09:30.438193212Z",
     "start_time": "2024-01-11T16:09:30.430382167Z"
    },
    "collapsed": false
   },
   "outputs": [],
   "source": [
    "# Replace last FC layer by identity mapping so that the model outputs vectors of dim 512\n",
    "class Identity(nn.Module):\n",
    "    def __init__(self):\n",
    "        super(Identity, self).__init__()\n",
    "\n",
    "    def forward(self, x):\n",
    "        return x\n",
    "\n",
    "model.fc = Identity()"
   ]
  },
  {
   "cell_type": "markdown",
   "id": "d78fd08783732b6c",
   "metadata": {
    "collapsed": false
   },
   "source": [
    "## Prepare vector store"
   ]
  },
  {
   "cell_type": "code",
   "execution_count": 23,
   "id": "50f189166a65c8b2",
   "metadata": {
    "ExecuteTime": {
     "end_time": "2024-01-11T16:10:18.741103492Z",
     "start_time": "2024-01-11T16:10:17.505184996Z"
    },
    "collapsed": false
   },
   "outputs": [
    {
     "ename": "UniqueConstraintError",
     "evalue": "Collection fixed_centroids_training already exists",
     "output_type": "error",
     "traceback": [
      "\u001b[0;31m---------------------------------------------------------------------------\u001b[0m",
      "\u001b[0;31mUniqueConstraintError\u001b[0m                     Traceback (most recent call last)",
      "Cell \u001b[0;32mIn[23], line 3\u001b[0m\n\u001b[1;32m      1\u001b[0m chroma_client \u001b[38;5;241m=\u001b[39m chromadb\u001b[38;5;241m.\u001b[39mPersistentClient(path\u001b[38;5;241m=\u001b[39m\u001b[38;5;124m\"\u001b[39m\u001b[38;5;124m./embeddings/embedding_data/embedding_store\u001b[39m\u001b[38;5;124m\"\u001b[39m)\n\u001b[0;32m----> 3\u001b[0m collection \u001b[38;5;241m=\u001b[39m \u001b[43mchroma_client\u001b[49m\u001b[38;5;241;43m.\u001b[39;49m\u001b[43mcreate_collection\u001b[49m\u001b[43m(\u001b[49m\u001b[43mname\u001b[49m\u001b[38;5;241;43m=\u001b[39;49m\u001b[38;5;124;43m\"\u001b[39;49m\u001b[38;5;124;43mfixed_centroids_training\u001b[39;49m\u001b[38;5;124;43m\"\u001b[39;49m\u001b[43m)\u001b[49m\n\u001b[1;32m      4\u001b[0m \u001b[38;5;66;03m# collection = chroma_client.get_collection(name=\"combined_loss_training\")\u001b[39;00m\n\u001b[1;32m      5\u001b[0m \u001b[38;5;66;03m# print(f\"Samples in db: {len(collection.get()['embeddings'])}\")\u001b[39;00m\n",
      "File \u001b[0;32m~/miniconda3/envs/xAI-Proj/lib/python3.11/site-packages/chromadb/api/client.py:187\u001b[0m, in \u001b[0;36mClient.create_collection\u001b[0;34m(self, name, metadata, embedding_function, data_loader, get_or_create)\u001b[0m\n\u001b[1;32m    176\u001b[0m \u001b[38;5;129m@override\u001b[39m\n\u001b[1;32m    177\u001b[0m \u001b[38;5;28;01mdef\u001b[39;00m \u001b[38;5;21mcreate_collection\u001b[39m(\n\u001b[1;32m    178\u001b[0m     \u001b[38;5;28mself\u001b[39m,\n\u001b[0;32m   (...)\u001b[0m\n\u001b[1;32m    185\u001b[0m     get_or_create: \u001b[38;5;28mbool\u001b[39m \u001b[38;5;241m=\u001b[39m \u001b[38;5;28;01mFalse\u001b[39;00m,\n\u001b[1;32m    186\u001b[0m ) \u001b[38;5;241m-\u001b[39m\u001b[38;5;241m>\u001b[39m Collection:\n\u001b[0;32m--> 187\u001b[0m     \u001b[38;5;28;01mreturn\u001b[39;00m \u001b[38;5;28;43mself\u001b[39;49m\u001b[38;5;241;43m.\u001b[39;49m\u001b[43m_server\u001b[49m\u001b[38;5;241;43m.\u001b[39;49m\u001b[43mcreate_collection\u001b[49m\u001b[43m(\u001b[49m\n\u001b[1;32m    188\u001b[0m \u001b[43m        \u001b[49m\u001b[43mname\u001b[49m\u001b[38;5;241;43m=\u001b[39;49m\u001b[43mname\u001b[49m\u001b[43m,\u001b[49m\n\u001b[1;32m    189\u001b[0m \u001b[43m        \u001b[49m\u001b[43mmetadata\u001b[49m\u001b[38;5;241;43m=\u001b[39;49m\u001b[43mmetadata\u001b[49m\u001b[43m,\u001b[49m\n\u001b[1;32m    190\u001b[0m \u001b[43m        \u001b[49m\u001b[43membedding_function\u001b[49m\u001b[38;5;241;43m=\u001b[39;49m\u001b[43membedding_function\u001b[49m\u001b[43m,\u001b[49m\n\u001b[1;32m    191\u001b[0m \u001b[43m        \u001b[49m\u001b[43mdata_loader\u001b[49m\u001b[38;5;241;43m=\u001b[39;49m\u001b[43mdata_loader\u001b[49m\u001b[43m,\u001b[49m\n\u001b[1;32m    192\u001b[0m \u001b[43m        \u001b[49m\u001b[43mtenant\u001b[49m\u001b[38;5;241;43m=\u001b[39;49m\u001b[38;5;28;43mself\u001b[39;49m\u001b[38;5;241;43m.\u001b[39;49m\u001b[43mtenant\u001b[49m\u001b[43m,\u001b[49m\n\u001b[1;32m    193\u001b[0m \u001b[43m        \u001b[49m\u001b[43mdatabase\u001b[49m\u001b[38;5;241;43m=\u001b[39;49m\u001b[38;5;28;43mself\u001b[39;49m\u001b[38;5;241;43m.\u001b[39;49m\u001b[43mdatabase\u001b[49m\u001b[43m,\u001b[49m\n\u001b[1;32m    194\u001b[0m \u001b[43m        \u001b[49m\u001b[43mget_or_create\u001b[49m\u001b[38;5;241;43m=\u001b[39;49m\u001b[43mget_or_create\u001b[49m\u001b[43m,\u001b[49m\n\u001b[1;32m    195\u001b[0m \u001b[43m    \u001b[49m\u001b[43m)\u001b[49m\n",
      "File \u001b[0;32m~/miniconda3/envs/xAI-Proj/lib/python3.11/site-packages/chromadb/telemetry/opentelemetry/__init__.py:127\u001b[0m, in \u001b[0;36mtrace_method.<locals>.decorator.<locals>.wrapper\u001b[0;34m(*args, **kwargs)\u001b[0m\n\u001b[1;32m    125\u001b[0m \u001b[38;5;28;01mglobal\u001b[39;00m tracer, granularity\n\u001b[1;32m    126\u001b[0m \u001b[38;5;28;01mif\u001b[39;00m trace_granularity \u001b[38;5;241m<\u001b[39m granularity:\n\u001b[0;32m--> 127\u001b[0m     \u001b[38;5;28;01mreturn\u001b[39;00m \u001b[43mf\u001b[49m\u001b[43m(\u001b[49m\u001b[38;5;241;43m*\u001b[39;49m\u001b[43margs\u001b[49m\u001b[43m,\u001b[49m\u001b[43m \u001b[49m\u001b[38;5;241;43m*\u001b[39;49m\u001b[38;5;241;43m*\u001b[39;49m\u001b[43mkwargs\u001b[49m\u001b[43m)\u001b[49m\n\u001b[1;32m    128\u001b[0m \u001b[38;5;28;01mif\u001b[39;00m \u001b[38;5;129;01mnot\u001b[39;00m tracer:\n\u001b[1;32m    129\u001b[0m     \u001b[38;5;28;01mreturn\u001b[39;00m f(\u001b[38;5;241m*\u001b[39margs, \u001b[38;5;241m*\u001b[39m\u001b[38;5;241m*\u001b[39mkwargs)\n",
      "File \u001b[0;32m~/miniconda3/envs/xAI-Proj/lib/python3.11/site-packages/chromadb/api/segment.py:166\u001b[0m, in \u001b[0;36mSegmentAPI.create_collection\u001b[0;34m(self, name, metadata, embedding_function, data_loader, get_or_create, tenant, database)\u001b[0m\n\u001b[1;32m    162\u001b[0m check_index_name(name)\n\u001b[1;32m    164\u001b[0m \u001b[38;5;28mid\u001b[39m \u001b[38;5;241m=\u001b[39m uuid4()\n\u001b[0;32m--> 166\u001b[0m coll, created \u001b[38;5;241m=\u001b[39m \u001b[38;5;28;43mself\u001b[39;49m\u001b[38;5;241;43m.\u001b[39;49m\u001b[43m_sysdb\u001b[49m\u001b[38;5;241;43m.\u001b[39;49m\u001b[43mcreate_collection\u001b[49m\u001b[43m(\u001b[49m\n\u001b[1;32m    167\u001b[0m \u001b[43m    \u001b[49m\u001b[38;5;28;43mid\u001b[39;49m\u001b[38;5;241;43m=\u001b[39;49m\u001b[38;5;28;43mid\u001b[39;49m\u001b[43m,\u001b[49m\n\u001b[1;32m    168\u001b[0m \u001b[43m    \u001b[49m\u001b[43mname\u001b[49m\u001b[38;5;241;43m=\u001b[39;49m\u001b[43mname\u001b[49m\u001b[43m,\u001b[49m\n\u001b[1;32m    169\u001b[0m \u001b[43m    \u001b[49m\u001b[43mmetadata\u001b[49m\u001b[38;5;241;43m=\u001b[39;49m\u001b[43mmetadata\u001b[49m\u001b[43m,\u001b[49m\n\u001b[1;32m    170\u001b[0m \u001b[43m    \u001b[49m\u001b[43mdimension\u001b[49m\u001b[38;5;241;43m=\u001b[39;49m\u001b[38;5;28;43;01mNone\u001b[39;49;00m\u001b[43m,\u001b[49m\n\u001b[1;32m    171\u001b[0m \u001b[43m    \u001b[49m\u001b[43mget_or_create\u001b[49m\u001b[38;5;241;43m=\u001b[39;49m\u001b[43mget_or_create\u001b[49m\u001b[43m,\u001b[49m\n\u001b[1;32m    172\u001b[0m \u001b[43m    \u001b[49m\u001b[43mtenant\u001b[49m\u001b[38;5;241;43m=\u001b[39;49m\u001b[43mtenant\u001b[49m\u001b[43m,\u001b[49m\n\u001b[1;32m    173\u001b[0m \u001b[43m    \u001b[49m\u001b[43mdatabase\u001b[49m\u001b[38;5;241;43m=\u001b[39;49m\u001b[43mdatabase\u001b[49m\u001b[43m,\u001b[49m\n\u001b[1;32m    174\u001b[0m \u001b[43m\u001b[49m\u001b[43m)\u001b[49m\n\u001b[1;32m    176\u001b[0m \u001b[38;5;28;01mif\u001b[39;00m created:\n\u001b[1;32m    177\u001b[0m     segments \u001b[38;5;241m=\u001b[39m \u001b[38;5;28mself\u001b[39m\u001b[38;5;241m.\u001b[39m_manager\u001b[38;5;241m.\u001b[39mcreate_segments(coll)\n",
      "File \u001b[0;32m~/miniconda3/envs/xAI-Proj/lib/python3.11/site-packages/chromadb/telemetry/opentelemetry/__init__.py:127\u001b[0m, in \u001b[0;36mtrace_method.<locals>.decorator.<locals>.wrapper\u001b[0;34m(*args, **kwargs)\u001b[0m\n\u001b[1;32m    125\u001b[0m \u001b[38;5;28;01mglobal\u001b[39;00m tracer, granularity\n\u001b[1;32m    126\u001b[0m \u001b[38;5;28;01mif\u001b[39;00m trace_granularity \u001b[38;5;241m<\u001b[39m granularity:\n\u001b[0;32m--> 127\u001b[0m     \u001b[38;5;28;01mreturn\u001b[39;00m \u001b[43mf\u001b[49m\u001b[43m(\u001b[49m\u001b[38;5;241;43m*\u001b[39;49m\u001b[43margs\u001b[49m\u001b[43m,\u001b[49m\u001b[43m \u001b[49m\u001b[38;5;241;43m*\u001b[39;49m\u001b[38;5;241;43m*\u001b[39;49m\u001b[43mkwargs\u001b[49m\u001b[43m)\u001b[49m\n\u001b[1;32m    128\u001b[0m \u001b[38;5;28;01mif\u001b[39;00m \u001b[38;5;129;01mnot\u001b[39;00m tracer:\n\u001b[1;32m    129\u001b[0m     \u001b[38;5;28;01mreturn\u001b[39;00m f(\u001b[38;5;241m*\u001b[39margs, \u001b[38;5;241m*\u001b[39m\u001b[38;5;241m*\u001b[39mkwargs)\n",
      "File \u001b[0;32m~/miniconda3/envs/xAI-Proj/lib/python3.11/site-packages/chromadb/db/mixins/sysdb.py:225\u001b[0m, in \u001b[0;36mSqlSysDB.create_collection\u001b[0;34m(self, id, name, metadata, dimension, get_or_create, tenant, database)\u001b[0m\n\u001b[1;32m    218\u001b[0m         \u001b[38;5;28;01mreturn\u001b[39;00m (\n\u001b[1;32m    219\u001b[0m             \u001b[38;5;28mself\u001b[39m\u001b[38;5;241m.\u001b[39mget_collections(\n\u001b[1;32m    220\u001b[0m                 \u001b[38;5;28mid\u001b[39m\u001b[38;5;241m=\u001b[39mcollection[\u001b[38;5;124m\"\u001b[39m\u001b[38;5;124mid\u001b[39m\u001b[38;5;124m\"\u001b[39m], tenant\u001b[38;5;241m=\u001b[39mtenant, database\u001b[38;5;241m=\u001b[39mdatabase\n\u001b[1;32m    221\u001b[0m             )[\u001b[38;5;241m0\u001b[39m],\n\u001b[1;32m    222\u001b[0m             \u001b[38;5;28;01mFalse\u001b[39;00m,\n\u001b[1;32m    223\u001b[0m         )\n\u001b[1;32m    224\u001b[0m     \u001b[38;5;28;01melse\u001b[39;00m:\n\u001b[0;32m--> 225\u001b[0m         \u001b[38;5;28;01mraise\u001b[39;00m UniqueConstraintError(\u001b[38;5;124mf\u001b[39m\u001b[38;5;124m\"\u001b[39m\u001b[38;5;124mCollection \u001b[39m\u001b[38;5;132;01m{\u001b[39;00mname\u001b[38;5;132;01m}\u001b[39;00m\u001b[38;5;124m already exists\u001b[39m\u001b[38;5;124m\"\u001b[39m)\n\u001b[1;32m    227\u001b[0m topic \u001b[38;5;241m=\u001b[39m \u001b[38;5;28mself\u001b[39m\u001b[38;5;241m.\u001b[39m_assignment_policy\u001b[38;5;241m.\u001b[39massign_collection(\u001b[38;5;28mid\u001b[39m)\n\u001b[1;32m    228\u001b[0m collection \u001b[38;5;241m=\u001b[39m Collection(\n\u001b[1;32m    229\u001b[0m     \u001b[38;5;28mid\u001b[39m\u001b[38;5;241m=\u001b[39m\u001b[38;5;28mid\u001b[39m,\n\u001b[1;32m    230\u001b[0m     topic\u001b[38;5;241m=\u001b[39mtopic,\n\u001b[0;32m   (...)\u001b[0m\n\u001b[1;32m    235\u001b[0m     database\u001b[38;5;241m=\u001b[39mdatabase,\n\u001b[1;32m    236\u001b[0m )\n",
      "\u001b[0;31mUniqueConstraintError\u001b[0m: Collection fixed_centroids_training already exists"
     ]
    }
   ],
   "source": [
    "chroma_client = chromadb.PersistentClient(path=\"./embeddings/embedding_data/embedding_store\")\n",
    "\n",
    "collection = chroma_client.create_collection(name=\"fixed_centroids_training\")\n",
    "# collection = chroma_client.get_collection(name=\"combined_loss_training\")\n",
    "# print(f\"Samples in db: {len(collection.get()['embeddings'])}\")"
   ]
  },
  {
   "cell_type": "code",
   "execution_count": 8,
   "id": "86c16dd9",
   "metadata": {},
   "outputs": [],
   "source": [
    "# chroma_client.delete_collection(name='combined_loss_training')\n",
    "# chroma_client.delete_collection(name='thereisnocollection')"
   ]
  },
  {
   "cell_type": "code",
   "execution_count": 17,
   "id": "38befb011d0c9150",
   "metadata": {
    "ExecuteTime": {
     "end_time": "2024-01-11T16:10:20.530407456Z",
     "start_time": "2024-01-11T16:10:20.435188638Z"
    },
    "collapsed": false
   },
   "outputs": [],
   "source": [
    "def get_embeddings_and_store(embedding_model, data_loader, chroma_collection, dataset_type):\n",
    "    count = 0\n",
    "    for batch in data_loader:\n",
    "        print(count)\n",
    "        batch_paths_and_images, batch_labels = batch\n",
    "        batch_labels = batch_labels.tolist()\n",
    "        batch_paths = list(batch_paths_and_images[0])\n",
    "        batch_images = batch_paths_and_images[1]\n",
    "        \n",
    "        out = embedding_model(batch_images)\n",
    "        \n",
    "        chroma_collection.add(\n",
    "            embeddings = out.tolist(),\n",
    "            metadatas = [{'path':x[0], 'label':x[1], 'dataset_type':dataset_type} for x in zip(batch_paths, batch_labels)],\n",
    "            ids= [dataset_type + str(x) for x in list(range( count * 256, count * 256 + len(batch_labels)))]\n",
    "        )\n",
    "\n",
    "        count += 1\n"
   ]
  },
  {
   "cell_type": "markdown",
   "id": "e6f0aeeb414cdc52",
   "metadata": {
    "collapsed": false
   },
   "source": [
    "## Get embeddings of train dataqset"
   ]
  },
  {
   "cell_type": "code",
   "execution_count": 18,
   "id": "2552699e274e13f0",
   "metadata": {
    "ExecuteTime": {
     "end_time": "2024-01-11T16:14:47.040469269Z",
     "start_time": "2024-01-11T16:10:22.656709457Z"
    },
    "collapsed": false
   },
   "outputs": [
    {
     "name": "stdout",
     "output_type": "stream",
     "text": [
      "0\n",
      "1\n",
      "2\n",
      "3\n",
      "4\n",
      "5\n",
      "6\n",
      "7\n",
      "8\n",
      "9\n",
      "10\n",
      "11\n",
      "12\n",
      "13\n",
      "14\n",
      "15\n",
      "16\n",
      "17\n",
      "18\n",
      "19\n",
      "20\n",
      "21\n",
      "22\n",
      "23\n",
      "24\n",
      "25\n",
      "26\n",
      "27\n",
      "28\n",
      "29\n",
      "30\n",
      "31\n",
      "32\n",
      "33\n",
      "34\n",
      "35\n",
      "36\n",
      "37\n",
      "38\n",
      "39\n",
      "40\n",
      "41\n",
      "42\n",
      "43\n",
      "44\n",
      "45\n",
      "46\n",
      "47\n",
      "48\n",
      "49\n",
      "50\n",
      "51\n",
      "52\n",
      "53\n",
      "54\n",
      "55\n",
      "56\n",
      "57\n",
      "58\n",
      "59\n",
      "60\n",
      "61\n",
      "62\n",
      "63\n",
      "64\n",
      "65\n",
      "66\n",
      "67\n",
      "68\n",
      "69\n",
      "70\n",
      "71\n",
      "72\n",
      "73\n",
      "74\n",
      "75\n",
      "76\n",
      "77\n",
      "78\n",
      "79\n",
      "80\n",
      "81\n",
      "82\n",
      "83\n",
      "84\n",
      "85\n",
      "86\n",
      "87\n",
      "88\n",
      "89\n",
      "90\n",
      "91\n",
      "92\n",
      "93\n",
      "94\n",
      "95\n",
      "96\n",
      "97\n",
      "98\n",
      "99\n",
      "100\n",
      "101\n",
      "102\n",
      "103\n",
      "104\n",
      "105\n",
      "106\n",
      "107\n",
      "108\n",
      "109\n",
      "110\n",
      "111\n",
      "112\n",
      "113\n",
      "114\n",
      "115\n",
      "116\n",
      "117\n",
      "118\n",
      "119\n",
      "120\n",
      "121\n",
      "122\n",
      "123\n",
      "124\n",
      "125\n",
      "126\n",
      "127\n",
      "128\n",
      "129\n",
      "130\n",
      "131\n",
      "132\n",
      "133\n",
      "134\n",
      "135\n",
      "136\n",
      "137\n",
      "138\n",
      "139\n",
      "140\n",
      "141\n",
      "142\n",
      "143\n",
      "144\n",
      "145\n",
      "146\n",
      "147\n",
      "148\n",
      "149\n",
      "150\n",
      "151\n",
      "152\n",
      "153\n",
      "154\n",
      "155\n",
      "156\n",
      "157\n",
      "158\n",
      "159\n",
      "160\n",
      "161\n",
      "162\n",
      "163\n",
      "164\n",
      "165\n",
      "166\n",
      "167\n",
      "168\n",
      "169\n",
      "170\n",
      "171\n",
      "172\n",
      "173\n",
      "174\n",
      "175\n",
      "176\n",
      "177\n",
      "178\n",
      "179\n",
      "180\n",
      "181\n",
      "182\n",
      "183\n",
      "184\n",
      "185\n",
      "186\n",
      "187\n",
      "188\n",
      "189\n",
      "190\n",
      "191\n",
      "192\n",
      "193\n",
      "194\n",
      "195\n"
     ]
    }
   ],
   "source": [
    "# Use custom Dataset that returns image path in get item\n",
    "train_dataset = CustomImageFolder(\n",
    "    root=\"./custom_cnn/data/cifar10/train\",\n",
    "    transform=ToTensor()\n",
    ")\n",
    "# Create DataLoader\n",
    "train_data_loader = DataLoader(\n",
    "    dataset=train_dataset,\n",
    "    batch_size=256,\n",
    "    shuffle=False,\n",
    "    num_workers=4,\n",
    "    pin_memory=False  # should be True if cuda is available\n",
    ")\n",
    "# feed through embedding model\n",
    "model.eval()\n",
    "get_embeddings_and_store(model, train_data_loader, collection, dataset_type=\"train\")"
   ]
  },
  {
   "cell_type": "code",
   "execution_count": 19,
   "id": "85af487f95e355f3",
   "metadata": {
    "ExecuteTime": {
     "end_time": "2024-01-11T16:14:51.957649052Z",
     "start_time": "2024-01-11T16:14:47.039931793Z"
    },
    "collapsed": false
   },
   "outputs": [
    {
     "name": "stdout",
     "output_type": "stream",
     "text": [
      "Samples in db: 50000\n",
      "train0\n",
      "train49999\n"
     ]
    }
   ],
   "source": [
    "print(f\"Samples in db: {len(collection.get()['ids'])}\")\n",
    "print(collection.get()['ids'][0])\n",
    "print(collection.get()['ids'][-1])"
   ]
  },
  {
   "cell_type": "markdown",
   "id": "78a084b1f38b6458",
   "metadata": {
    "collapsed": false
   },
   "source": [
    "## Get embeddings of test dataset"
   ]
  },
  {
   "cell_type": "code",
   "execution_count": 20,
   "id": "b43c86fb84be29e1",
   "metadata": {
    "ExecuteTime": {
     "end_time": "2024-01-11T16:15:45.026110390Z",
     "start_time": "2024-01-11T16:14:51.964262221Z"
    },
    "collapsed": false
   },
   "outputs": [
    {
     "name": "stdout",
     "output_type": "stream",
     "text": [
      "0\n",
      "1\n",
      "2\n",
      "3\n",
      "4\n",
      "5\n",
      "6\n",
      "7\n",
      "8\n",
      "9\n",
      "10\n",
      "11\n",
      "12\n",
      "13\n",
      "14\n",
      "15\n",
      "16\n",
      "17\n",
      "18\n",
      "19\n",
      "20\n",
      "21\n",
      "22\n",
      "23\n",
      "24\n",
      "25\n",
      "26\n",
      "27\n",
      "28\n",
      "29\n",
      "30\n",
      "31\n",
      "32\n",
      "33\n",
      "34\n",
      "35\n",
      "36\n",
      "37\n",
      "38\n",
      "39\n"
     ]
    }
   ],
   "source": [
    "# Use custom Dataset that returns image path in get item\n",
    "test_dataset = CustomImageFolder(\n",
    "    root=\"./custom_cnn/data/cifar10/test\",\n",
    "    transform=ToTensor()\n",
    ")\n",
    "# Create DataLoader\n",
    "test_data_loader = DataLoader(\n",
    "    dataset=test_dataset,\n",
    "    batch_size=256,\n",
    "    shuffle=False,\n",
    "    num_workers=4,\n",
    "    pin_memory=False  # should be True if cuda is available\n",
    ")\n",
    "# feed through embedding model\n",
    "get_embeddings_and_store(model, test_data_loader, chroma_collection=collection, dataset_type=\"test\")"
   ]
  },
  {
   "cell_type": "code",
   "execution_count": 21,
   "id": "55f8c801e6676e36",
   "metadata": {
    "ExecuteTime": {
     "end_time": "2024-01-11T16:15:49.954182696Z",
     "start_time": "2024-01-11T16:15:45.082907810Z"
    },
    "collapsed": false
   },
   "outputs": [
    {
     "name": "stdout",
     "output_type": "stream",
     "text": [
      "Samples in db: 60000\n",
      "test0\n",
      "test9999\n"
     ]
    }
   ],
   "source": [
    "print(f\"Samples in db: {len(collection.get()['ids'])}\")\n",
    "print(collection.get()['ids'][50000])\n",
    "print(collection.get()['ids'][-1])"
   ]
  },
  {
   "cell_type": "code",
   "execution_count": 22,
   "id": "92c2c5f4f0d472cb",
   "metadata": {
    "ExecuteTime": {
     "end_time": "2024-01-11T16:15:52.356063961Z",
     "start_time": "2024-01-11T16:15:49.957976325Z"
    },
    "collapsed": false
   },
   "outputs": [
    {
     "data": {
      "text/plain": [
       "[0.0,\n",
       " 0.0,\n",
       " 0.0,\n",
       " 0.0,\n",
       " 0.0,\n",
       " 0.0,\n",
       " 0.0,\n",
       " 0.0,\n",
       " 0.0,\n",
       " 0.0,\n",
       " 0.0,\n",
       " 0.1569867730140686,\n",
       " 0.0,\n",
       " 0.0,\n",
       " 0.1697501391172409,\n",
       " 0.0,\n",
       " 0.0,\n",
       " 0.0,\n",
       " 0.0,\n",
       " 0.0,\n",
       " 0.1503487527370453,\n",
       " 0.0,\n",
       " 0.07533014565706253,\n",
       " 0.0,\n",
       " 0.0,\n",
       " 0.0,\n",
       " 0.0,\n",
       " 0.0,\n",
       " 0.0,\n",
       " 0.0,\n",
       " 0.18862740695476532,\n",
       " 0.0,\n",
       " 0.0,\n",
       " 0.0,\n",
       " 0.12028226256370544,\n",
       " 0.14889653027057648,\n",
       " 0.0,\n",
       " 0.0,\n",
       " 0.0,\n",
       " 0.0,\n",
       " 0.0,\n",
       " 0.0,\n",
       " 0.0,\n",
       " 0.0,\n",
       " 0.09562334418296814,\n",
       " 0.0,\n",
       " 0.0,\n",
       " 0.0,\n",
       " 0.0,\n",
       " 0.0,\n",
       " 0.0,\n",
       " 0.2056761234998703,\n",
       " 0.03532367944717407,\n",
       " 0.0,\n",
       " 0.0,\n",
       " 0.0,\n",
       " 0.2856642007827759,\n",
       " 0.038344986736774445,\n",
       " 0.0,\n",
       " 0.0,\n",
       " 0.0,\n",
       " 0.0,\n",
       " 0.0,\n",
       " 0.3745037317276001,\n",
       " 0.0,\n",
       " 0.24131587147712708,\n",
       " 0.0,\n",
       " 0.0,\n",
       " 0.0,\n",
       " 0.0,\n",
       " 0.011060959659516811,\n",
       " 0.0,\n",
       " 0.0,\n",
       " 0.0,\n",
       " 0.0,\n",
       " 0.0,\n",
       " 0.2139432430267334,\n",
       " 0.0,\n",
       " 0.0,\n",
       " 0.0,\n",
       " 0.0,\n",
       " 0.0,\n",
       " 0.0,\n",
       " 0.01665920577943325,\n",
       " 0.0,\n",
       " 0.0,\n",
       " 0.0,\n",
       " 0.4619354009628296,\n",
       " 0.0,\n",
       " 0.0,\n",
       " 0.017716575413942337,\n",
       " 0.0,\n",
       " 0.1514890342950821,\n",
       " 0.0,\n",
       " 0.0,\n",
       " 0.0,\n",
       " 0.0,\n",
       " 0.0,\n",
       " 0.0,\n",
       " 0.0,\n",
       " 0.0,\n",
       " 0.1375105082988739,\n",
       " 0.0,\n",
       " 0.10802005976438522,\n",
       " 0.0,\n",
       " 0.0,\n",
       " 0.0,\n",
       " 0.0,\n",
       " 0.0,\n",
       " 0.0,\n",
       " 0.13171063363552094,\n",
       " 0.0,\n",
       " 0.0,\n",
       " 0.0,\n",
       " 0.11386089771986008,\n",
       " 0.11029783636331558,\n",
       " 0.0,\n",
       " 0.0,\n",
       " 0.0,\n",
       " 0.0,\n",
       " 0.0,\n",
       " 0.0,\n",
       " 0.23751576244831085,\n",
       " 0.0,\n",
       " 0.0,\n",
       " 0.0,\n",
       " 0.0,\n",
       " 0.0]"
      ]
     },
     "execution_count": 22,
     "metadata": {},
     "output_type": "execute_result"
    }
   ],
   "source": [
    "collection.get(include=['embeddings', 'documents', 'metadatas'])['embeddings'][0]"
   ]
  },
  {
   "cell_type": "code",
   "execution_count": null,
   "id": "bda214d6f409c209",
   "metadata": {
    "collapsed": false
   },
   "outputs": [],
   "source": []
  }
 ],
 "metadata": {
  "kernelspec": {
   "display_name": "Python 3",
   "language": "python",
   "name": "python3"
  },
  "language_info": {
   "codemirror_mode": {
    "name": "ipython",
    "version": 3
   },
   "file_extension": ".py",
   "mimetype": "text/x-python",
   "name": "python",
   "nbconvert_exporter": "python",
   "pygments_lexer": "ipython3",
   "version": "3.11.5"
  }
 },
 "nbformat": 4,
 "nbformat_minor": 5
}
