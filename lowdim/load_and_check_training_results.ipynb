{
 "cells": [
  {
   "cell_type": "code",
   "execution_count": 12,
   "id": "initial_id",
   "metadata": {
    "collapsed": true,
    "ExecuteTime": {
     "end_time": "2024-01-25T20:26:18.100733670Z",
     "start_time": "2024-01-25T20:26:17.994927504Z"
    }
   },
   "outputs": [
    {
     "data": {
      "text/plain": "<module 'evaluation' from '/home/erik/Desktop/WiSe2023_24/xAI-Proj-M/xAI-Proj-M/lowdim/evaluation.py'>"
     },
     "execution_count": 12,
     "metadata": {},
     "output_type": "execute_result"
    }
   ],
   "source": [
    "import torch\n",
    "import os\n",
    "import matplotlib.pyplot as plt\n",
    "import matplotlib.cm as cm\n",
    "import numpy as np\n",
    "import evaluation\n",
    "\n",
    "from importlib import reload\n",
    "reload(evaluation)"
   ]
  },
  {
   "cell_type": "markdown",
   "source": [
    "# Load and Check Training results\n",
    "In this directory the model trainer class stores all embeddings and predictions that were prodcued per epoch.\n",
    "That way we can monitor how the (2d) embeddings and the class centroids change per epoch.\n",
    "In this notebook those artifacts get loaded for a sample training run and check for plausibility/correctness."
   ],
   "metadata": {
    "collapsed": false
   },
   "id": "bc80ce2ea544ef4d"
  },
  {
   "cell_type": "code",
   "execution_count": 13,
   "outputs": [],
   "source": [
    "save_model_subfolder_path = os.getcwd() + \"/savedlowdimmodels/Skipped18LayerForLowDimEmbbeding_20240125_1815\""
   ],
   "metadata": {
    "collapsed": false,
    "ExecuteTime": {
     "end_time": "2024-01-25T20:26:19.816602578Z",
     "start_time": "2024-01-25T20:26:19.797705241Z"
    }
   },
   "id": "7bc3093439ea8261"
  },
  {
   "cell_type": "code",
   "execution_count": 14,
   "outputs": [],
   "source": [
    "epoch_0_results_path = save_model_subfolder_path + \"/epoch_0\""
   ],
   "metadata": {
    "collapsed": false,
    "ExecuteTime": {
     "end_time": "2024-01-25T20:26:20.226017926Z",
     "start_time": "2024-01-25T20:26:20.105127078Z"
    }
   },
   "id": "efedd1643400c05d"
  },
  {
   "cell_type": "code",
   "execution_count": 15,
   "outputs": [
    {
     "name": "stdout",
     "output_type": "stream",
     "text": [
      "Nr of training embeddings produced in epoch 1 while training (excluded val samples): 45000\n"
     ]
    }
   ],
   "source": [
    "train_embeddings = torch.load(epoch_0_results_path + \"/train_embeddings.pt\")\n",
    "print(\"Nr of training embeddings produced in epoch 1 while training (excluded val samples): \" + str(len(train_embeddings)) )"
   ],
   "metadata": {
    "collapsed": false,
    "ExecuteTime": {
     "end_time": "2024-01-25T20:26:20.612409145Z",
     "start_time": "2024-01-25T20:26:20.471011352Z"
    }
   },
   "id": "e496fc87cc866436"
  },
  {
   "cell_type": "markdown",
   "source": [
    "### Describe data stored for epoch 0"
   ],
   "metadata": {
    "collapsed": false
   },
   "id": "fd14aaf60ce21b12"
  },
  {
   "cell_type": "code",
   "execution_count": 16,
   "outputs": [
    {
     "name": "stdout",
     "output_type": "stream",
     "text": [
      "Describe contents in /home/erik/Desktop/WiSe2023_24/xAI-Proj-M/xAI-Proj-M/lowdim/savedlowdimmodels/Skipped18LayerForLowDimEmbbeding_20240125_1815/epoch_0\n",
      "------train_embeddings-------\n",
      "path: /home/erik/Desktop/WiSe2023_24/xAI-Proj-M/xAI-Proj-M/lowdim/savedlowdimmodels/Skipped18LayerForLowDimEmbbeding_20240125_1815/epoch_0/train_embeddings.pt\n",
      "type of data: <class 'list'>\n",
      "length of data: 45000\n",
      "type of elements: <class 'list'>\n",
      "first element: [0.6281577348709106, 0.3842242658138275]\n",
      "length of single sample: 2\n",
      "------train_labels-------\n",
      "path: /home/erik/Desktop/WiSe2023_24/xAI-Proj-M/xAI-Proj-M/lowdim/savedlowdimmodels/Skipped18LayerForLowDimEmbbeding_20240125_1815/epoch_0/train_labels.pt\n",
      "type of data: <class 'list'>\n",
      "length of data: 45000\n",
      "type of elements: <class 'torch.Tensor'>\n",
      "first element: 7\n",
      "shape of single sample: torch.Size([])\n",
      "------train_predictions-------\n",
      "path: /home/erik/Desktop/WiSe2023_24/xAI-Proj-M/xAI-Proj-M/lowdim/savedlowdimmodels/Skipped18LayerForLowDimEmbbeding_20240125_1815/epoch_0/train_predictions.pt\n",
      "type of data: <class 'list'>\n",
      "length of data: 45000\n",
      "type of elements: <class 'list'>\n",
      "first element: [0.12585869431495667, 0.08287739008665085, 0.12497381865978241, 0.13216696679592133, 0.0940064936876297, 0.10624699294567108, 0.07537718862295151, 0.036161765456199646, 0.06661879271268845, 0.1557118445634842]\n",
      "length of single sample: 10\n",
      "------val_embeddings-------\n",
      "path: /home/erik/Desktop/WiSe2023_24/xAI-Proj-M/xAI-Proj-M/lowdim/savedlowdimmodels/Skipped18LayerForLowDimEmbbeding_20240125_1815/epoch_0/val_embeddings.pt\n",
      "type of data: <class 'list'>\n",
      "length of data: 5000\n",
      "type of elements: <class 'list'>\n",
      "first element: [0.0, 0.0]\n",
      "length of single sample: 2\n",
      "------val_labels-------\n",
      "path: /home/erik/Desktop/WiSe2023_24/xAI-Proj-M/xAI-Proj-M/lowdim/savedlowdimmodels/Skipped18LayerForLowDimEmbbeding_20240125_1815/epoch_0/val_labels.pt\n",
      "type of data: <class 'list'>\n",
      "length of data: 5000\n",
      "type of elements: <class 'torch.Tensor'>\n",
      "first element: 0\n",
      "shape of single sample: torch.Size([])\n",
      "------val_predictions-------\n",
      "path: /home/erik/Desktop/WiSe2023_24/xAI-Proj-M/xAI-Proj-M/lowdim/savedlowdimmodels/Skipped18LayerForLowDimEmbbeding_20240125_1815/epoch_0/val_predictions.pt\n",
      "type of data: <class 'list'>\n",
      "length of data: 5000\n",
      "type of elements: <class 'torch.Tensor'>\n",
      "first element: tensor([0.1471, 0.0808, 0.1525, 0.1440, 0.0671, 0.1466, 0.0434, 0.0503, 0.0597,\n",
      "        0.1084])\n",
      "length of single sample: 10\n",
      "shape of single sample: torch.Size([10])\n"
     ]
    }
   ],
   "source": [
    "print(evaluation.describe_epoch_result(epoch_0_results_path))"
   ],
   "metadata": {
    "collapsed": false,
    "ExecuteTime": {
     "end_time": "2024-01-25T20:26:23.766893536Z",
     "start_time": "2024-01-25T20:26:21.172921592Z"
    }
   },
   "id": "1a63c58025dc2f44"
  },
  {
   "cell_type": "code",
   "execution_count": 21,
   "outputs": [
    {
     "name": "stderr",
     "output_type": "stream",
     "text": [
      "*c* argument looks like a single numeric RGB or RGBA sequence, which should be avoided as value-mapping will have precedence in case its length matches with *x* & *y*.  Please use the *color* keyword-argument or provide a 2D array with a single row if you intend to specify the same RGB or RGBA value for all points.\n",
      "*c* argument looks like a single numeric RGB or RGBA sequence, which should be avoided as value-mapping will have precedence in case its length matches with *x* & *y*.  Please use the *color* keyword-argument or provide a 2D array with a single row if you intend to specify the same RGB or RGBA value for all points.\n"
     ]
    },
    {
     "name": "stdout",
     "output_type": "stream",
     "text": [
      "max x value:450.9679870605469\n",
      "max y value:435.17047119140625\n",
      "max x value:442.870361328125\n",
      "max y value:423.48773193359375\n",
      "max x value:369.1146545410156\n",
      "max y value:355.4222106933594\n"
     ]
    },
    {
     "name": "stderr",
     "output_type": "stream",
     "text": [
      "*c* argument looks like a single numeric RGB or RGBA sequence, which should be avoided as value-mapping will have precedence in case its length matches with *x* & *y*.  Please use the *color* keyword-argument or provide a 2D array with a single row if you intend to specify the same RGB or RGBA value for all points.\n",
      "*c* argument looks like a single numeric RGB or RGBA sequence, which should be avoided as value-mapping will have precedence in case its length matches with *x* & *y*.  Please use the *color* keyword-argument or provide a 2D array with a single row if you intend to specify the same RGB or RGBA value for all points.\n"
     ]
    },
    {
     "name": "stdout",
     "output_type": "stream",
     "text": [
      "max x value:324.8182678222656\n",
      "max y value:311.3384704589844\n",
      "max x value:338.3986511230469\n",
      "max y value:323.7868347167969\n"
     ]
    },
    {
     "name": "stderr",
     "output_type": "stream",
     "text": [
      "*c* argument looks like a single numeric RGB or RGBA sequence, which should be avoided as value-mapping will have precedence in case its length matches with *x* & *y*.  Please use the *color* keyword-argument or provide a 2D array with a single row if you intend to specify the same RGB or RGBA value for all points.\n",
      "*c* argument looks like a single numeric RGB or RGBA sequence, which should be avoided as value-mapping will have precedence in case its length matches with *x* & *y*.  Please use the *color* keyword-argument or provide a 2D array with a single row if you intend to specify the same RGB or RGBA value for all points.\n",
      "*c* argument looks like a single numeric RGB or RGBA sequence, which should be avoided as value-mapping will have precedence in case its length matches with *x* & *y*.  Please use the *color* keyword-argument or provide a 2D array with a single row if you intend to specify the same RGB or RGBA value for all points.\n"
     ]
    },
    {
     "name": "stdout",
     "output_type": "stream",
     "text": [
      "max x value:293.5119323730469\n",
      "max y value:283.7572021484375\n",
      "max x value:303.7508239746094\n",
      "max y value:293.26312255859375\n",
      "max x value:346.1876220703125\n"
     ]
    },
    {
     "name": "stderr",
     "output_type": "stream",
     "text": [
      "*c* argument looks like a single numeric RGB or RGBA sequence, which should be avoided as value-mapping will have precedence in case its length matches with *x* & *y*.  Please use the *color* keyword-argument or provide a 2D array with a single row if you intend to specify the same RGB or RGBA value for all points.\n",
      "*c* argument looks like a single numeric RGB or RGBA sequence, which should be avoided as value-mapping will have precedence in case its length matches with *x* & *y*.  Please use the *color* keyword-argument or provide a 2D array with a single row if you intend to specify the same RGB or RGBA value for all points.\n"
     ]
    },
    {
     "name": "stdout",
     "output_type": "stream",
     "text": [
      "max y value:330.9236755371094\n",
      "max x value:431.68072509765625\n",
      "max y value:417.36590576171875\n"
     ]
    },
    {
     "name": "stderr",
     "output_type": "stream",
     "text": [
      "*c* argument looks like a single numeric RGB or RGBA sequence, which should be avoided as value-mapping will have precedence in case its length matches with *x* & *y*.  Please use the *color* keyword-argument or provide a 2D array with a single row if you intend to specify the same RGB or RGBA value for all points.\n"
     ]
    },
    {
     "name": "stdout",
     "output_type": "stream",
     "text": [
      "max x value:452.9884033203125\n",
      "max y value:437.4071044921875\n"
     ]
    },
    {
     "data": {
      "text/plain": "<Figure size 640x480 with 1 Axes>",
      "image/png": "[encoded data removed]"
     },
     "metadata": {},
     "output_type": "display_data"
    }
   ],
   "source": [
    "epoch_result_subfolder_path = epoch_0_results_path\n",
    "embedding_filename = \"train_embeddings\"\n",
    "label_filename = \"train_labels\"\n",
    "embeddings = torch.load(f\"{epoch_result_subfolder_path}/{embedding_filename}.pt\", map_location=torch.device('cpu'))\n",
    "labels = torch.load(f\"{epoch_result_subfolder_path}/{label_filename}.pt\", map_location=torch.device('cpu'))\n",
    "\n",
    "embeddings_by_class = []\n",
    "for class_nr in range(0, 10):\n",
    "    embeddings_by_class.append([])\n",
    "    \n",
    "for embedding, class_nr in zip(embeddings, labels):\n",
    "    embeddings_by_class[class_nr].append(embedding)\n",
    "    \n",
    "colors = cm.rainbow(np.linspace(0, 1, len(embeddings_by_class)))\n",
    "    \n",
    "for class_embeddings, color in zip(embeddings_by_class, colors):\n",
    "    x_values = [embedding[0] for embedding in class_embeddings]\n",
    "    print(f\"max x value:{np.max(x_values)}\")\n",
    "    y_values = [embedding[1] for embedding in class_embeddings]\n",
    "    print(f\"max y value:{np.max(y_values)}\")\n",
    "    plt.scatter(\n",
    "        x=x_values,\n",
    "        y=y_values,\n",
    "        c = color\n",
    "    )\n",
    "    \n",
    "plt.show()"
   ],
   "metadata": {
    "collapsed": false,
    "ExecuteTime": {
     "end_time": "2024-01-25T20:29:49.799945559Z",
     "start_time": "2024-01-25T20:29:45.688872258Z"
    }
   },
   "id": "52970946a48ac336"
  },
  {
   "cell_type": "code",
   "execution_count": 23,
   "outputs": [
    {
     "name": "stderr",
     "output_type": "stream",
     "text": [
      "*c* argument looks like a single numeric RGB or RGBA sequence, which should be avoided as value-mapping will have precedence in case its length matches with *x* & *y*.  Please use the *color* keyword-argument or provide a 2D array with a single row if you intend to specify the same RGB or RGBA value for all points.\n",
      "*c* argument looks like a single numeric RGB or RGBA sequence, which should be avoided as value-mapping will have precedence in case its length matches with *x* & *y*.  Please use the *color* keyword-argument or provide a 2D array with a single row if you intend to specify the same RGB or RGBA value for all points.\n",
      "*c* argument looks like a single numeric RGB or RGBA sequence, which should be avoided as value-mapping will have precedence in case its length matches with *x* & *y*.  Please use the *color* keyword-argument or provide a 2D array with a single row if you intend to specify the same RGB or RGBA value for all points.\n",
      "*c* argument looks like a single numeric RGB or RGBA sequence, which should be avoided as value-mapping will have precedence in case its length matches with *x* & *y*.  Please use the *color* keyword-argument or provide a 2D array with a single row if you intend to specify the same RGB or RGBA value for all points.\n",
      "*c* argument looks like a single numeric RGB or RGBA sequence, which should be avoided as value-mapping will have precedence in case its length matches with *x* & *y*.  Please use the *color* keyword-argument or provide a 2D array with a single row if you intend to specify the same RGB or RGBA value for all points.\n",
      "*c* argument looks like a single numeric RGB or RGBA sequence, which should be avoided as value-mapping will have precedence in case its length matches with *x* & *y*.  Please use the *color* keyword-argument or provide a 2D array with a single row if you intend to specify the same RGB or RGBA value for all points.\n",
      "*c* argument looks like a single numeric RGB or RGBA sequence, which should be avoided as value-mapping will have precedence in case its length matches with *x* & *y*.  Please use the *color* keyword-argument or provide a 2D array with a single row if you intend to specify the same RGB or RGBA value for all points.\n",
      "*c* argument looks like a single numeric RGB or RGBA sequence, which should be avoided as value-mapping will have precedence in case its length matches with *x* & *y*.  Please use the *color* keyword-argument or provide a 2D array with a single row if you intend to specify the same RGB or RGBA value for all points.\n",
      "*c* argument looks like a single numeric RGB or RGBA sequence, which should be avoided as value-mapping will have precedence in case its length matches with *x* & *y*.  Please use the *color* keyword-argument or provide a 2D array with a single row if you intend to specify the same RGB or RGBA value for all points.\n",
      "*c* argument looks like a single numeric RGB or RGBA sequence, which should be avoided as value-mapping will have precedence in case its length matches with *x* & *y*.  Please use the *color* keyword-argument or provide a 2D array with a single row if you intend to specify the same RGB or RGBA value for all points.\n"
     ]
    },
    {
     "data": {
      "text/plain": "<Figure size 640x480 with 1 Axes>",
      "image/png": "[encoded data removed]"
     },
     "metadata": {},
     "output_type": "display_data"
    }
   ],
   "source": [
    "epoch_result_subfolder_path = epoch_0_results_path\n",
    "embedding_filename = \"train_embeddings\"\n",
    "label_filename = \"train_labels\"\n",
    "embeddings = torch.load(f\"{epoch_result_subfolder_path}/{embedding_filename}.pt\", map_location=torch.device('cpu'))\n",
    "labels = torch.load(f\"{epoch_result_subfolder_path}/{label_filename}.pt\", map_location=torch.device('cpu'))\n",
    "\n",
    "embeddings_by_class = []\n",
    "for class_nr in range(0, 10):\n",
    "    embeddings_by_class.append([])\n",
    "\n",
    "for embedding, class_nr in zip(embeddings, labels):\n",
    "    embeddings_by_class[class_nr].append(embedding)\n",
    "    \n",
    "centroids = []\n",
    "for class_embeddings in embeddings_by_class:\n",
    "    x_values = [embedding[0] for embedding in class_embeddings]\n",
    "    y_values = [embedding[1] for embedding in class_embeddings]\n",
    "    \n",
    "    x_mean = np.mean(x_values)\n",
    "    y_mean = np.mean(y_values)\n",
    "    \n",
    "    centroids.append([x_mean, y_mean])\n",
    "\n",
    "colors = cm.rainbow(np.linspace(0, 1, len(embeddings_by_class)))\n",
    "\n",
    "for centroid, color in zip(centroids, colors):\n",
    "    plt.scatter(\n",
    "        x=[centroid[0]],\n",
    "        y=[centroid[1]],\n",
    "        c = color\n",
    "    )\n",
    "\n",
    "plt.show()"
   ],
   "metadata": {
    "collapsed": false,
    "ExecuteTime": {
     "end_time": "2024-01-25T21:13:51.486479120Z",
     "start_time": "2024-01-25T21:13:44.574324332Z"
    }
   },
   "id": "d3bc81aaeb0802b6"
  },
  {
   "cell_type": "code",
   "execution_count": null,
   "outputs": [],
   "source": [],
   "metadata": {
    "collapsed": false
   },
   "id": "5ace049ebe772f0"
  }
 ],
 "metadata": {
  "kernelspec": {
   "display_name": "Python 3",
   "language": "python",
   "name": "python3"
  },
  "language_info": {
   "codemirror_mode": {
    "name": "ipython",
    "version": 2
   },
   "file_extension": ".py",
   "mimetype": "text/x-python",
   "name": "python",
   "nbconvert_exporter": "python",
   "pygments_lexer": "ipython2",
   "version": "2.7.6"
  }
 },
 "nbformat": 4,
 "nbformat_minor": 5
}
