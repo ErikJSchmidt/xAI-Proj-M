{
 "cells": [
  {
   "cell_type": "code",
   "execution_count": 1,
   "id": "initial_id",
   "metadata": {
    "collapsed": true,
    "ExecuteTime": {
     "end_time": "2024-01-25T19:51:01.781223813Z",
     "start_time": "2024-01-25T19:50:59.780729392Z"
    }
   },
   "outputs": [
    {
     "data": {
      "text/plain": "<module 'evaluation' from '/home/erik/Desktop/WiSe2023_24/xAI-Proj-M/xAI-Proj-M/lowdim/evaluation.py'>"
     },
     "execution_count": 1,
     "metadata": {},
     "output_type": "execute_result"
    }
   ],
   "source": [
    "import torch\n",
    "import os\n",
    "import evaluation\n",
    "\n",
    "from importlib import reload\n",
    "reload(evaluation)"
   ]
  },
  {
   "cell_type": "markdown",
   "source": [
    "# Load and Check Training results\n",
    "In this directory the model trainer class stores all embeddings and predictions that were prodcued per epoch.\n",
    "That way we can monitor how the (2d) embeddings and the class centroids change per epoch.\n",
    "In this notebook those artifacts get loaded for a sample training run and check for plausibility/correctness."
   ],
   "metadata": {
    "collapsed": false
   },
   "id": "bc80ce2ea544ef4d"
  },
  {
   "cell_type": "code",
   "execution_count": 2,
   "outputs": [],
   "source": [
    "save_model_subfolder_path = os.getcwd() + \"/savedlowdimmodels/Skipped18LayerForLowDimEmbbeding_20240125_1815\""
   ],
   "metadata": {
    "collapsed": false,
    "ExecuteTime": {
     "end_time": "2024-01-25T19:51:04.213463543Z",
     "start_time": "2024-01-25T19:51:04.185869961Z"
    }
   },
   "id": "7bc3093439ea8261"
  },
  {
   "cell_type": "code",
   "execution_count": 3,
   "outputs": [],
   "source": [
    "epoch_0_results_path = save_model_subfolder_path + \"/epoch_0\""
   ],
   "metadata": {
    "collapsed": false,
    "ExecuteTime": {
     "end_time": "2024-01-25T19:51:04.628510167Z",
     "start_time": "2024-01-25T19:51:04.538712530Z"
    }
   },
   "id": "efedd1643400c05d"
  },
  {
   "cell_type": "code",
   "execution_count": 4,
   "outputs": [
    {
     "name": "stdout",
     "output_type": "stream",
     "text": [
      "Nr of training embeddings produced in epoch 1 while training (excluded val samples): 45000\n"
     ]
    }
   ],
   "source": [
    "train_embeddings = torch.load(epoch_0_results_path + \"/train_embeddings.pt\")\n",
    "print(\"Nr of training embeddings produced in epoch 1 while training (excluded val samples): \" + str(len(train_embeddings)) )"
   ],
   "metadata": {
    "collapsed": false,
    "ExecuteTime": {
     "end_time": "2024-01-25T19:51:05.168260833Z",
     "start_time": "2024-01-25T19:51:04.972431180Z"
    }
   },
   "id": "e496fc87cc866436"
  },
  {
   "cell_type": "markdown",
   "source": [
    "### Describe data stored for epoch 0"
   ],
   "metadata": {
    "collapsed": false
   },
   "id": "fd14aaf60ce21b12"
  },
  {
   "cell_type": "code",
   "execution_count": 5,
   "outputs": [
    {
     "name": "stdout",
     "output_type": "stream",
     "text": [
      "Describe contents in /home/erik/Desktop/WiSe2023_24/xAI-Proj-M/xAI-Proj-M/lowdim/savedlowdimmodels/Skipped18LayerForLowDimEmbbeding_20240125_1815/epoch_0\n",
      "------train_embeddings-------\n",
      "path: /home/erik/Desktop/WiSe2023_24/xAI-Proj-M/xAI-Proj-M/lowdim/savedlowdimmodels/Skipped18LayerForLowDimEmbbeding_20240125_1815/epoch_0/train_embeddings.pt\n",
      "type of data: <class 'list'>\n",
      "length of data: 45000\n",
      "type of elements: <class 'list'>\n",
      "first element: [0.6281577348709106, 0.3842242658138275]\n",
      "length of single sample: 2\n",
      "------train_labels-------\n",
      "path: /home/erik/Desktop/WiSe2023_24/xAI-Proj-M/xAI-Proj-M/lowdim/savedlowdimmodels/Skipped18LayerForLowDimEmbbeding_20240125_1815/epoch_0/train_labels.pt\n",
      "type of data: <class 'list'>\n",
      "length of data: 45000\n",
      "type of elements: <class 'torch.Tensor'>\n",
      "first element: 7\n",
      "shape of single sample: torch.Size([])\n",
      "------train_predictions-------\n",
      "path: /home/erik/Desktop/WiSe2023_24/xAI-Proj-M/xAI-Proj-M/lowdim/savedlowdimmodels/Skipped18LayerForLowDimEmbbeding_20240125_1815/epoch_0/train_predictions.pt\n",
      "type of data: <class 'list'>\n",
      "length of data: 45000\n",
      "type of elements: <class 'list'>\n",
      "first element: [0.12585869431495667, 0.08287739008665085, 0.12497381865978241, 0.13216696679592133, 0.0940064936876297, 0.10624699294567108, 0.07537718862295151, 0.036161765456199646, 0.06661879271268845, 0.1557118445634842]\n",
      "length of single sample: 10\n",
      "------val_embeddings-------\n",
      "path: /home/erik/Desktop/WiSe2023_24/xAI-Proj-M/xAI-Proj-M/lowdim/savedlowdimmodels/Skipped18LayerForLowDimEmbbeding_20240125_1815/epoch_0/val_embeddings.pt\n",
      "type of data: <class 'list'>\n",
      "length of data: 5000\n",
      "type of elements: <class 'list'>\n",
      "first element: [0.0, 0.0]\n",
      "length of single sample: 2\n",
      "------val_labels-------\n",
      "path: /home/erik/Desktop/WiSe2023_24/xAI-Proj-M/xAI-Proj-M/lowdim/savedlowdimmodels/Skipped18LayerForLowDimEmbbeding_20240125_1815/epoch_0/val_labels.pt\n",
      "type of data: <class 'list'>\n",
      "length of data: 5000\n",
      "type of elements: <class 'torch.Tensor'>\n",
      "first element: 0\n",
      "shape of single sample: torch.Size([])\n",
      "------val_predictions-------\n",
      "path: /home/erik/Desktop/WiSe2023_24/xAI-Proj-M/xAI-Proj-M/lowdim/savedlowdimmodels/Skipped18LayerForLowDimEmbbeding_20240125_1815/epoch_0/val_predictions.pt\n",
      "type of data: <class 'list'>\n",
      "length of data: 5000\n",
      "type of elements: <class 'torch.Tensor'>\n",
      "first element: tensor([0.1471, 0.0808, 0.1525, 0.1440, 0.0671, 0.1466, 0.0434, 0.0503, 0.0597,\n",
      "        0.1084])\n",
      "length of single sample: 10\n",
      "shape of single sample: torch.Size([10])\n"
     ]
    }
   ],
   "source": [
    "print(evaluation.describe_epoch_result(epoch_0_results_path))"
   ],
   "metadata": {
    "collapsed": false,
    "ExecuteTime": {
     "end_time": "2024-01-25T19:51:07.816526056Z",
     "start_time": "2024-01-25T19:51:05.888076839Z"
    }
   },
   "id": "1a63c58025dc2f44"
  },
  {
   "cell_type": "code",
   "execution_count": null,
   "outputs": [],
   "source": [],
   "metadata": {
    "collapsed": false
   },
   "id": "52970946a48ac336"
  }
 ],
 "metadata": {
  "kernelspec": {
   "display_name": "Python 3",
   "language": "python",
   "name": "python3"
  },
  "language_info": {
   "codemirror_mode": {
    "name": "ipython",
    "version": 2
   },
   "file_extension": ".py",
   "mimetype": "text/x-python",
   "name": "python",
   "nbconvert_exporter": "python",
   "pygments_lexer": "ipython2",
   "version": "2.7.6"
  }
 },
 "nbformat": 4,
 "nbformat_minor": 5
}
